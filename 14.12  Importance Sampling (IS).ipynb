{
 "cells": [
  {
   "cell_type": "code",
   "execution_count": 22,
   "metadata": {},
   "outputs": [],
   "source": [
    "import torch\n",
    "import torch.distributions as dist\n",
    "import matplotlib.pyplot as plt"
   ]
  },
  {
   "cell_type": "code",
   "execution_count": 23,
   "metadata": {},
   "outputs": [],
   "source": [
    "# Define target distribution p(x) ~ N(0,1)\n",
    "\n",
    "def p_x(x):\n",
    "\n",
    "    return torch.exp(-0.5 * x**2) / torch.sqrt(torch.tensor(2 * torch.pi))"
   ]
  },
  {
   "cell_type": "code",
   "execution_count": 24,
   "metadata": {},
   "outputs": [],
   "source": [
    "# Define proposal distribution q(x) ~ N(0,2)\n",
    "\n",
    "def q_x(x):\n",
    "\n",
    "    return torch.exp(-0.5 * (x/2)**2) / (torch.sqrt(torch.tensor(2* torch.pi) * 2))"
   ]
  },
  {
   "cell_type": "code",
   "execution_count": 25,
   "metadata": {},
   "outputs": [],
   "source": [
    "# Function f(x) we want to estimate E_p[f(x)]\n",
    "\n",
    "def f_x(x):\n",
    "\n",
    "    return x**2"
   ]
  },
  {
   "cell_type": "code",
   "execution_count": 26,
   "metadata": {},
   "outputs": [],
   "source": [
    "# Generate samples from proposal distribution\n",
    "\n",
    "num_samples = 10000\n",
    "\n",
    "proposal_dist = dist.Normal(0,2)\n",
    "\n",
    "samples = proposal_dist.sample((num_samples,))"
   ]
  },
  {
   "cell_type": "code",
   "execution_count": 27,
   "metadata": {},
   "outputs": [],
   "source": [
    "# Compute importance weights\n",
    "\n",
    "weights = p_x(samples) / q_x(samples)"
   ]
  },
  {
   "cell_type": "code",
   "execution_count": 28,
   "metadata": {},
   "outputs": [],
   "source": [
    "# Compute expectation using importance sampling\n",
    "\n",
    "expectation = torch.sum(weights * f_x(samples)) / torch.sum(weights)"
   ]
  },
  {
   "cell_type": "code",
   "execution_count": 29,
   "metadata": {},
   "outputs": [
    {
     "name": "stdout",
     "output_type": "stream",
     "text": [
      "Estimated Expectation : 0.9779\n"
     ]
    }
   ],
   "source": [
    "# True expectation under N(0,1) should be 1 (since E[X^2] = Var + Mean^2 = 1+0)\n",
    "\n",
    "print(f'Estimated Expectation : {expectation.item():.4f}')"
   ]
  }
 ],
 "metadata": {
  "kernelspec": {
   "display_name": "masterxdl",
   "language": "python",
   "name": "python3"
  },
  "language_info": {
   "codemirror_mode": {
    "name": "ipython",
    "version": 3
   },
   "file_extension": ".py",
   "mimetype": "text/x-python",
   "name": "python",
   "nbconvert_exporter": "python",
   "pygments_lexer": "ipython3",
   "version": "3.9.21"
  }
 },
 "nbformat": 4,
 "nbformat_minor": 2
}
