{
 "cells": [
  {
   "cell_type": "code",
   "execution_count": 16,
   "id": "b2d50484",
   "metadata": {},
   "outputs": [],
   "source": [
    "import torch\n",
    "\n",
    "import torch.nn as nn\n",
    "\n",
    "from torchvision import models"
   ]
  },
  {
   "cell_type": "markdown",
   "id": "7ca01016",
   "metadata": {},
   "source": [
    "Feature Extraction"
   ]
  },
  {
   "cell_type": "code",
   "execution_count": 17,
   "id": "ef2e557c",
   "metadata": {},
   "outputs": [
    {
     "name": "stderr",
     "output_type": "stream",
     "text": [
      "/opt/anaconda3/envs/masterxdl/lib/python3.9/site-packages/torchvision/models/_utils.py:208: UserWarning: The parameter 'pretrained' is deprecated since 0.13 and may be removed in the future, please use 'weights' instead.\n",
      "  warnings.warn(\n",
      "/opt/anaconda3/envs/masterxdl/lib/python3.9/site-packages/torchvision/models/_utils.py:223: UserWarning: Arguments other than a weight enum or `None` for 'weights' are deprecated since 0.13 and may be removed in the future. The current behavior is equivalent to passing `weights=ResNet18_Weights.IMAGENET1K_V1`. You can also use `weights=ResNet18_Weights.DEFAULT` to get the most up-to-date weights.\n",
      "  warnings.warn(msg)\n"
     ]
    }
   ],
   "source": [
    "# Load ResNet18 pretrained\n",
    "\n",
    "model = models.resnet18(pretrained=True)"
   ]
  },
  {
   "cell_type": "code",
   "execution_count": 18,
   "id": "02e184ff",
   "metadata": {},
   "outputs": [],
   "source": [
    "# Freeze ALL layers\n",
    "\n",
    "for param in model.parameters():\n",
    "\n",
    "    param.requires_grad=False"
   ]
  },
  {
   "cell_type": "code",
   "execution_count": 19,
   "id": "9a889885",
   "metadata": {},
   "outputs": [],
   "source": [
    "# Replace final layer\n",
    "\n",
    "num_features = model.fc.in_features\n",
    "\n",
    "model.fc  = nn.Linear(num_features, 2)  # Binary classification"
   ]
  },
  {
   "cell_type": "code",
   "execution_count": 20,
   "id": "165305c9",
   "metadata": {},
   "outputs": [],
   "source": [
    "# Only classifier's params will be updated\n",
    "\n",
    "optimizer = torch.optim.Adam(model.fc.parameters(), lr=0.001)"
   ]
  },
  {
   "cell_type": "markdown",
   "id": "83df7ed6",
   "metadata": {},
   "source": [
    "Fine Tuning"
   ]
  },
  {
   "cell_type": "markdown",
   "id": "2332d858",
   "metadata": {},
   "source": []
  },
  {
   "cell_type": "markdown",
   "id": "b38b59c4",
   "metadata": {},
   "source": [
    "Freeze all first, then selectively unfreeze\n",
    "for param in model.parameters():\n",
    "    param.requires_grad = False"
   ]
  },
  {
   "cell_type": "code",
   "execution_count": 21,
   "id": "cdf0a90f",
   "metadata": {},
   "outputs": [],
   "source": [
    "# UNFREEZE last block (layer4) + fc\n",
    "\n",
    "for param in model.layer4.parameters():\n",
    "\n",
    "    param.requires_grad = True\n",
    "\n",
    "\n",
    "for param in model.fc.parameters():\n",
    "\n",
    "    param.requires_grad = True"
   ]
  },
  {
   "cell_type": "code",
   "execution_count": 22,
   "id": "52ee6ae1",
   "metadata": {},
   "outputs": [],
   "source": [
    "# Replace FC layer\n",
    "\n",
    "num_features = model.fc.in_features\n",
    "\n",
    "model.fc = nn.Linear(num_features,2)  # Binary classification"
   ]
  },
  {
   "cell_type": "code",
   "execution_count": 23,
   "id": "f991b73f",
   "metadata": {},
   "outputs": [],
   "source": [
    "# Optimizer now includes unfrozen layers\n",
    "\n",
    "params_to_update = [ p for p in model.parameters() if p.requires_grad]\n",
    "\n",
    "optimizer = torch.optim.Adam(params_to_update, lr = 1e-4)"
   ]
  },
  {
   "cell_type": "markdown",
   "id": "69bfaa3f",
   "metadata": {},
   "source": [
    "Tip: Start with lower learning rates (1e-4 to 1e-5) for fine-tuning to avoid “forgetting” pretrained knowledge."
   ]
  },
  {
   "cell_type": "markdown",
   "id": "b5cdacf5",
   "metadata": {},
   "source": [
    "📊 Compare Performance\n",
    "\n",
    "You can compare:\n",
    "Mode\t                Train Time\t        Accuracy\t    Overfitting\n",
    "Feature Extraction\t    ⏱️ Fast\t            🟡 Okay\t            🟢 Less\n",
    "Fine-Tuning\t            ⏱️ Slower\t        🟢 Better\t        🔴 Risky\n"
   ]
  }
 ],
 "metadata": {
  "kernelspec": {
   "display_name": "masterxdl",
   "language": "python",
   "name": "python3"
  },
  "language_info": {
   "codemirror_mode": {
    "name": "ipython",
    "version": 3
   },
   "file_extension": ".py",
   "mimetype": "text/x-python",
   "name": "python",
   "nbconvert_exporter": "python",
   "pygments_lexer": "ipython3",
   "version": "3.9.21"
  }
 },
 "nbformat": 4,
 "nbformat_minor": 5
}
