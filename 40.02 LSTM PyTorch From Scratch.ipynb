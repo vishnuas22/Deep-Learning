{
 "cells": [
  {
   "cell_type": "code",
   "execution_count": 13,
   "id": "d7fcc4b0",
   "metadata": {},
   "outputs": [],
   "source": [
    "import torch\n",
    "\n",
    "import torch.nn as nn\n",
    "\n",
    "import torch.nn.functional as F \n",
    "\n",
    "import numpy as np"
   ]
  },
  {
   "cell_type": "markdown",
   "id": "42fa6277",
   "metadata": {},
   "source": [
    "1. Dataset Preparation"
   ]
  },
  {
   "cell_type": "code",
   "execution_count": 14,
   "id": "ee65d2e9",
   "metadata": {},
   "outputs": [],
   "source": [
    "# Tiny corpus\n",
    "\n",
    "corpus = [\n",
    "    \"deep learning is powerful\",\n",
    "    \"learning is fun and powerful\",\n",
    "    \"deep learning is fun\"\n",
    "]\n"
   ]
  },
  {
   "cell_type": "code",
   "execution_count": 15,
   "id": "812e9b41",
   "metadata": {},
   "outputs": [],
   "source": [
    "# Tokenize\n",
    "\n",
    "tokens = \" \".join(corpus).split()\n",
    "\n",
    "vocab = sorted(set(tokens))\n",
    "\n",
    "word_to_idx = {word: i for i, word in enumerate(vocab)}\n",
    "\n",
    "idx_to_word = {i: word for word, i in word_to_idx.items()}"
   ]
  },
  {
   "cell_type": "code",
   "execution_count": 16,
   "id": "b32e2624",
   "metadata": {},
   "outputs": [],
   "source": [
    "# Convert to sequences\n",
    "\n",
    "seq_len = 3\n",
    "\n",
    "data = []"
   ]
  },
  {
   "cell_type": "code",
   "execution_count": 17,
   "id": "06d680aa",
   "metadata": {},
   "outputs": [],
   "source": [
    "for sentence in corpus:\n",
    "\n",
    "    words = sentence.split()\n",
    "\n",
    "    for i in range(len(words) - seq_len):\n",
    "\n",
    "        input_seq = words[i: i + seq_len]\n",
    "\n",
    "        target_word = words[i+seq_len]\n",
    "\n",
    "        input_idx = [word_to_idx[word] for word in input_seq]\n",
    "\n",
    "        target_idx = word_to_idx[target_word]\n",
    "\n",
    "        data.append((input_idx, target_idx))\n",
    "\n",
    "\n",
    "input_seqs = [torch.tensor(x) for x , _ in data]\n",
    "\n",
    "target_words = [torch.tensor(y) for y ,_ in data]"
   ]
  },
  {
   "cell_type": "markdown",
   "id": "7ab716e1",
   "metadata": {},
   "source": [
    "2. Define LSTM Model"
   ]
  },
  {
   "cell_type": "code",
   "execution_count": 18,
   "id": "ea475af2",
   "metadata": {},
   "outputs": [],
   "source": [
    "class WordLSTM(nn.Module):\n",
    "\n",
    "    def __init__(self, vocab_size,embedding_dim, hidden_dim):\n",
    "        super().__init__()\n",
    "\n",
    "        self.embedding = nn.Embedding(vocab_size, embedding_dim)\n",
    "\n",
    "        self.lstm = nn.LSTM(embedding_dim, hidden_dim, batch_first=True)\n",
    "\n",
    "        self.fc = nn.Linear(hidden_dim, vocab_size)\n",
    "\n",
    "    def forward(self, x, hidden=None):\n",
    "\n",
    "        x = self.embedding(x) # [batch, seq, embed]\n",
    "\n",
    "        output, hidden = self.lstm(x, hidden) # [batch, seq, hidden]\n",
    "\n",
    "        output = self.fc(output[:,-1,:]) # take last time step\n",
    "\n",
    "        return output, hidden"
   ]
  },
  {
   "cell_type": "markdown",
   "id": "cfc7dd6a",
   "metadata": {},
   "source": [
    "3. Training Loop"
   ]
  },
  {
   "cell_type": "code",
   "execution_count": 19,
   "id": "408a89d1",
   "metadata": {},
   "outputs": [],
   "source": [
    "emebedding_dim = 10\n",
    "\n",
    "hidden_dim = 32\n",
    "\n",
    "vocab_size = len(vocab)\n",
    "\n",
    "learning_rate = 0.01\n",
    "\n",
    "num_epochs = 3.0"
   ]
  },
  {
   "cell_type": "code",
   "execution_count": 20,
   "id": "05295e72",
   "metadata": {},
   "outputs": [],
   "source": [
    "model = WordLSTM(vocab_size, emebedding_dim, hidden_dim)\n",
    "\n",
    "loss_fn = nn.CrossEntropyLoss()\n",
    "\n",
    "optimizer = torch.optim.Adam(model.parameters(), lr=learning_rate)\n"
   ]
  }
 ],
 "metadata": {
  "kernelspec": {
   "display_name": "masterxdl",
   "language": "python",
   "name": "python3"
  },
  "language_info": {
   "codemirror_mode": {
    "name": "ipython",
    "version": 3
   },
   "file_extension": ".py",
   "mimetype": "text/x-python",
   "name": "python",
   "nbconvert_exporter": "python",
   "pygments_lexer": "ipython3",
   "version": "3.9.21"
  }
 },
 "nbformat": 4,
 "nbformat_minor": 5
}
