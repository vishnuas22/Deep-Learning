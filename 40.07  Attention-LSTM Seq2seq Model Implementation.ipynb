{
 "cells": [
  {
   "cell_type": "code",
   "execution_count": null,
   "id": "c3061bfe",
   "metadata": {},
   "outputs": [],
   "source": [
    "import torch\n",
    "import torch.nn as nn\n",
    "from torch.nn.utils.rnn import pad_sequence\n",
    "from torch.utils.data import Dataset, DataLoader\n",
    "\n",
    "# Toy dataset: English to pseudo-French\n",
    "pairs = [\n",
    "    (\"i love you\", \"je t'aime\"),\n",
    "    (\"hello\", \"salut\"),\n",
    "    (\"how are you\", \"comment ça va\"),\n",
    "    (\"thank you\", \"merci\"),\n",
    "    (\"yes\", \"oui\"),\n",
    "    (\"no\", \"non\")\n",
    "]\n",
    "\n",
    "# Special tokens\n",
    "SOS = \"<sos>\"\n",
    "EOS = \"<eos>\"\n",
    "PAD = \"<pad>\"\n",
    "\n",
    "def tokenize(sentence):\n",
    "    return sentence.lower().split()\n",
    "\n",
    "def build_vocab(sentences):\n",
    "    vocab = {PAD: 0, SOS: 1, EOS: 2}\n",
    "    idx = 3\n",
    "    for sent in sentences:\n",
    "        for word in tokenize(sent):\n",
    "            if word not in vocab:\n",
    "                vocab[word] = idx\n",
    "                idx += 1\n",
    "    return vocab\n",
    "\n",
    "# Build vocabularies\n",
    "src_sentences = [src for src, _ in pairs]\n",
    "tgt_sentences = [tgt for _, tgt in pairs]\n",
    "\n",
    "src_vocab = build_vocab(src_sentences)\n",
    "tgt_vocab = build_vocab(tgt_sentences)\n",
    "\n",
    "inv_src_vocab = {idx: word for word, idx in src_vocab.items()}\n",
    "inv_tgt_vocab = {idx: word for word, idx in tgt_vocab.items()}\n",
    "\n",
    "# Encode function\n",
    "def encode(sentence, vocab):\n",
    "    tokens = [vocab[word] for word in tokenize(sentence)]\n",
    "    return torch.tensor(tokens, dtype=torch.long)\n",
    "\n",
    "# Custom Dataset\n",
    "class Seq2SeqDataset(Dataset):\n",
    "    def __init__(self, pairs):\n",
    "        self.pairs = pairs\n",
    "\n",
    "    def __len__(self):\n",
    "        return len(self.pairs)\n",
    "\n",
    "    def __getitem__(self, idx):\n",
    "        src, tgt = self.pairs[idx]\n",
    "        src_tensor = encode(src, src_vocab)\n",
    "        tgt_tensor = torch.tensor(\n",
    "            [tgt_vocab[SOS]] + [tgt_vocab[word] for word in tokenize(tgt)] + [tgt_vocab[EOS]],\n",
    "            dtype=torch.long\n",
    "        )\n",
    "        return src_tensor, tgt_tensor\n",
    "\n",
    "# Collate function for padding\n",
    "def collate_fn(batch):\n",
    "    src_batch, tgt_batch = zip(*batch)\n",
    "    src_batch = pad_sequence(src_batch, batch_first=True, padding_value=src_vocab[PAD])\n",
    "    tgt_batch = pad_sequence(tgt_batch, batch_first=True, padding_value=tgt_vocab[PAD])\n",
    "    return src_batch, tgt_batch\n",
    "\n",
    "# Dataset and DataLoader\n",
    "dataset = Seq2SeqDataset(pairs)\n",
    "dataloader = DataLoader(dataset, batch_size=2, shuffle=True, collate_fn=collate_fn)\n",
    "\n",
    "print(\"Sample vocab:\")\n",
    "print(\"SRC:\", src_vocab)\n",
    "print(\"TGT:\", tgt_vocab)\n"
   ]
  },
  {
   "cell_type": "markdown",
   "id": "a86b28f4",
   "metadata": {},
   "source": [
    "[Encoder LSTM] ---> [Attention + Decoder LSTM] ---> Target sequence\n"
   ]
  },
  {
   "cell_type": "markdown",
   "id": "1e4329ad",
   "metadata": {},
   "source": [
    "🔧 Step 2.1: Encoder"
   ]
  },
  {
   "cell_type": "code",
   "execution_count": null,
   "id": "f55a0b82",
   "metadata": {},
   "outputs": [],
   "source": [
    "class Encoder(nn.Module):\n",
    "    def __init__(self, input_dim, emb_dim, hidden_dim):\n",
    "        super(Encoder, self).__init__()\n",
    "        self.embedding = nn.Embedding(input_dim, emb_dim)\n",
    "        self.lstm = nn.LSTM(emb_dim, hidden_dim, batch_first=True)\n",
    "\n",
    "    def forward(self, src):\n",
    "        embedded = self.embedding(src)  # [B, T, E]\n",
    "        outputs, (hidden, cell) = self.lstm(embedded)  # outputs: [B, T, H]\n",
    "        return outputs, hidden, cell\n"
   ]
  },
  {
   "cell_type": "markdown",
   "id": "2abdf083",
   "metadata": {},
   "source": [
    " Step 2.2: Attention"
   ]
  },
  {
   "cell_type": "code",
   "execution_count": null,
   "id": "4d4a18fc",
   "metadata": {},
   "outputs": [],
   "source": [
    "class Attention(nn.Module):\n",
    "    def __init__(self, hidden_dim):\n",
    "        super(Attention, self).__init__()\n",
    "        self.attn = nn.Linear(hidden_dim * 2, hidden_dim)\n",
    "        self.v = nn.Linear(hidden_dim, 1, bias=False)\n",
    "\n",
    "    def forward(self, hidden, encoder_outputs):\n",
    "        # hidden: [1, B, H], encoder_outputs: [B, T, H]\n",
    "        B, T, H = encoder_outputs.shape\n",
    "        hidden = hidden[-1].unsqueeze(1).repeat(1, T, 1)  # [B, T, H]\n",
    "\n",
    "        energy = torch.tanh(self.attn(torch.cat((hidden, encoder_outputs), dim=2)))  # [B, T, H]\n",
    "        attention = self.v(energy).squeeze(2)  # [B, T]\n",
    "        return torch.softmax(attention, dim=1)\n"
   ]
  },
  {
   "cell_type": "markdown",
   "id": "e0f1e6d2",
   "metadata": {},
   "source": [
    " Step 2.3: Decoder with Attention"
   ]
  },
  {
   "cell_type": "code",
   "execution_count": null,
   "id": "55cb191d",
   "metadata": {},
   "outputs": [],
   "source": [
    "class Decoder(nn.Module):\n",
    "    def __init__(self, output_dim, emb_dim, hidden_dim):\n",
    "        super(Decoder, self).__init__()\n",
    "        self.embedding = nn.Embedding(output_dim, emb_dim)\n",
    "        self.lstm = nn.LSTM(hidden_dim + emb_dim, hidden_dim, batch_first=True)\n",
    "        self.fc_out = nn.Linear(hidden_dim * 2, output_dim)\n",
    "        self.attention = Attention(hidden_dim)\n",
    "\n",
    "    def forward(self, input_token, hidden, cell, encoder_outputs):\n",
    "        input_token = input_token.unsqueeze(1)  # [B, 1]\n",
    "        embedded = self.embedding(input_token)  # [B, 1, E]\n",
    "\n",
    "        attn_weights = self.attention(hidden, encoder_outputs)  # [B, T]\n",
    "        attn_weights = attn_weights.unsqueeze(1)  # [B, 1, T]\n",
    "\n",
    "        context = torch.bmm(attn_weights, encoder_outputs)  # [B, 1, H]\n",
    "\n",
    "        rnn_input = torch.cat((embedded, context), dim=2)  # [B, 1, E+H]\n",
    "        output, (hidden, cell) = self.lstm(rnn_input, (hidden, cell))  # output: [B, 1, H]\n",
    "\n",
    "        prediction = self.fc_out(torch.cat((output, context), dim=2).squeeze(1))  # [B, output_dim]\n",
    "        return prediction, hidden, cell\n"
   ]
  },
  {
   "cell_type": "markdown",
   "id": "7d3b3517",
   "metadata": {},
   "source": [
    " Step 2.4: Seq2Seq Wrapper"
   ]
  },
  {
   "cell_type": "code",
   "execution_count": null,
   "id": "e950bc34",
   "metadata": {},
   "outputs": [],
   "source": [
    "class Seq2Seq(nn.Module):\n",
    "    def __init__(self, encoder, decoder, device):\n",
    "        super(Seq2Seq, self).__init__()\n",
    "        self.encoder = encoder\n",
    "        self.decoder = decoder\n",
    "        self.device = device\n",
    "\n",
    "    def forward(self, src, tgt, teacher_forcing_ratio=0.5):\n",
    "        B, tgt_len = tgt.shape\n",
    "        vocab_size = self.decoder.fc_out.out_features\n",
    "        outputs = torch.zeros(B, tgt_len, vocab_size).to(self.device)\n",
    "\n",
    "        encoder_outputs, hidden, cell = self.encoder(src)\n",
    "\n",
    "        input_token = tgt[:, 0]  # <sos>\n",
    "\n",
    "        for t in range(1, tgt_len):\n",
    "            output, hidden, cell = self.decoder(input_token, hidden, cell, encoder_outputs)\n",
    "            outputs[:, t] = output\n",
    "\n",
    "            teacher_force = torch.rand(1).item() < teacher_forcing_ratio\n",
    "            top1 = output.argmax(1)\n",
    "            input_token = tgt[:, t] if teacher_force else top1\n",
    "\n",
    "        return outputs\n"
   ]
  },
  {
   "cell_type": "markdown",
   "id": "cc730c66",
   "metadata": {},
   "source": [
    "Step 3: Training the Seq2Seq Model"
   ]
  },
  {
   "cell_type": "code",
   "execution_count": null,
   "id": "d9e73dbe",
   "metadata": {},
   "outputs": [],
   "source": [
    "import torch.nn.functional as F\n",
    "\n",
    "def train(model, data_loader, optimizer, loss_fn, device):\n",
    "    model.train()\n",
    "    epoch_loss = 0\n",
    "\n",
    "    for src, tgt in data_loader:\n",
    "        src, tgt = src.to(device), tgt.to(device)\n",
    "        optimizer.zero_grad()\n",
    "\n",
    "        output = model(src, tgt)  # [B, T, vocab_size]\n",
    "        output_dim = output.shape[-1]\n",
    "\n",
    "        output = output[:, 1:].reshape(-1, output_dim)\n",
    "        tgt = tgt[:, 1:].reshape(-1)\n",
    "\n",
    "        loss = loss_fn(output, tgt)\n",
    "        loss.backward()\n",
    "        optimizer.step()\n",
    "        epoch_loss += loss.item()\n",
    "\n",
    "    return epoch_loss / len(data_loader)\n"
   ]
  },
  {
   "cell_type": "markdown",
   "id": "6fa4b26f",
   "metadata": {},
   "source": [
    " 3.2: Evaluation / Inference"
   ]
  },
  {
   "cell_type": "code",
   "execution_count": null,
   "id": "71a1bf57",
   "metadata": {},
   "outputs": [],
   "source": [
    "def translate_sentence(model, sentence, src_vocab, tgt_vocab, max_len=10, device='cpu'):\n",
    "    model.eval()\n",
    "    tokens = [src_vocab.get(tok, src_vocab[\"<unk>\"]) for tok in sentence]\n",
    "    src_tensor = torch.tensor(tokens).unsqueeze(0).to(device)\n",
    "\n",
    "    with torch.no_grad():\n",
    "        encoder_outputs, hidden, cell = model.encoder(src_tensor)\n",
    "\n",
    "    input_token = torch.tensor([tgt_vocab[\"<sos>\"]]).to(device)\n",
    "    generated_tokens = []\n",
    "\n",
    "    for _ in range(max_len):\n",
    "        with torch.no_grad():\n",
    "            output, hidden, cell = model.decoder(input_token, hidden, cell, encoder_outputs)\n",
    "            top1 = output.argmax(1)\n",
    "            generated_tokens.append(top1.item())\n",
    "            input_token = top1\n",
    "\n",
    "            if top1.item() == tgt_vocab[\"<eos>\"]:\n",
    "                break\n",
    "\n",
    "    inv_vocab = {v: k for k, v in tgt_vocab.items()}\n",
    "    return [inv_vocab.get(idx, \"<unk>\") for idx in generated_tokens]\n"
   ]
  },
  {
   "cell_type": "markdown",
   "id": "cd3649fd",
   "metadata": {},
   "source": [
    " 3.3: Example Setup for Training"
   ]
  },
  {
   "cell_type": "code",
   "execution_count": null,
   "id": "b353b475",
   "metadata": {},
   "outputs": [],
   "source": [
    "device = torch.device(\"cuda\" if torch.cuda.is_available() else \"cpu\")\n",
    "\n",
    "INPUT_DIM = len(input_vocab)\n",
    "OUTPUT_DIM = len(target_vocab)\n",
    "EMB_DIM = 64\n",
    "HID_DIM = 128\n",
    "\n",
    "enc = Encoder(INPUT_DIM, EMB_DIM, HID_DIM)\n",
    "dec = Decoder(OUTPUT_DIM, EMB_DIM, HID_DIM)\n",
    "\n",
    "model = Seq2Seq(enc, dec, device).to(device)\n",
    "\n",
    "optimizer = torch.optim.Adam(model.parameters(), lr=0.001)\n",
    "loss_fn = nn.CrossEntropyLoss(ignore_index=target_vocab[\"<pad>\"])\n"
   ]
  },
  {
   "cell_type": "markdown",
   "id": "951c1fd1",
   "metadata": {},
   "source": [
    "🌀 Loop Over Epochs"
   ]
  },
  {
   "cell_type": "code",
   "execution_count": null,
   "id": "315806e4",
   "metadata": {},
   "outputs": [],
   "source": [
    "for epoch in range(1, 11):\n",
    "    loss = train(model, train_loader, optimizer, loss_fn, device)\n",
    "    print(f\"Epoch {epoch}, Loss: {loss:.4f}\")\n"
   ]
  },
  {
   "cell_type": "markdown",
   "id": "45a3e329",
   "metadata": {},
   "source": [
    "🔍 Try Inference"
   ]
  },
  {
   "cell_type": "code",
   "execution_count": null,
   "id": "b4df4bb7",
   "metadata": {},
   "outputs": [],
   "source": [
    "test_sentence = [\"i\", \"am\", \"learning\"]\n",
    "output_words = translate_sentence(model, test_sentence, input_vocab, target_vocab, device=device)\n",
    "print(\"Output:\", \" \".join(output_words))\n"
   ]
  }
 ],
 "metadata": {
  "language_info": {
   "name": "python"
  }
 },
 "nbformat": 4,
 "nbformat_minor": 5
}
