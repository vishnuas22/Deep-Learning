{
 "cells": [
  {
   "cell_type": "code",
   "execution_count": 13,
   "metadata": {},
   "outputs": [],
   "source": [
    "import torch"
   ]
  },
  {
   "cell_type": "code",
   "execution_count": 14,
   "metadata": {},
   "outputs": [],
   "source": [
    "# Creating a Scalar (0D tensor)\n",
    "\n",
    "scalar = torch.tensor(5)\n",
    "\n",
    "# Creating a Vector (1D tensor)\n",
    "\n",
    "vector = torch.tensor([1,2,3])\n",
    "\n",
    "# Creating a Matrix (2D tensor)\n",
    "\n",
    "matrix = torch.tensor([[1,2], \n",
    "                       [3,4]])\n",
    "\n",
    "# Creating a 3D Tensor\n",
    "\n",
    "tensor3D = torch.tensor([[[1,2], [3,4]],\n",
    "                        [[5,6],[7,8]]])"
   ]
  },
  {
   "cell_type": "code",
   "execution_count": 15,
   "metadata": {},
   "outputs": [
    {
     "name": "stdout",
     "output_type": "stream",
     "text": [
      "Scalar: \n",
      " tensor(5)\n",
      "\n",
      "Vector:\n",
      " tensor([1, 2, 3])\n",
      "\n",
      "Matrix:\n",
      " tensor([[1, 2],\n",
      "        [3, 4]])\n",
      "\n",
      "3D Tensor:\n",
      " tensor([[[1, 2],\n",
      "         [3, 4]],\n",
      "\n",
      "        [[5, 6],\n",
      "         [7, 8]]])\n",
      "\n",
      "Shapes:\n",
      "\n",
      "Scalar Shape: torch.Size([])\n",
      "Vector Shape: torch.Size([3])\n",
      "Matrix Shape: torch.Size([2, 2])\n",
      "3D Tensor Shape: torch.Size([2, 2, 2])\n"
     ]
    }
   ],
   "source": [
    "# Print the tensors\n",
    "print(\"Scalar: \\n\", scalar)\n",
    "print(\"\\nVector:\\n\", vector)\n",
    "print(\"\\nMatrix:\\n\", matrix)\n",
    "print(\"\\n3D Tensor:\\n\", tensor3D)\n",
    "\n",
    "# Checking the shape (dimensions) of each tensor\n",
    "print(\"\\nShapes:\\n\")\n",
    "print(\"Scalar Shape:\", scalar.shape)\n",
    "print(\"Vector Shape:\", vector.shape)\n",
    "print(\"Matrix Shape:\", matrix.shape)\n",
    "print(\"3D Tensor Shape:\", tensor3D.shape)"
   ]
  }
 ],
 "metadata": {
  "kernelspec": {
   "display_name": "masterxdl",
   "language": "python",
   "name": "python3"
  },
  "language_info": {
   "codemirror_mode": {
    "name": "ipython",
    "version": 3
   },
   "file_extension": ".py",
   "mimetype": "text/x-python",
   "name": "python",
   "nbconvert_exporter": "python",
   "pygments_lexer": "ipython3",
   "version": "3.9.21"
  }
 },
 "nbformat": 4,
 "nbformat_minor": 2
}
