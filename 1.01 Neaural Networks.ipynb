{
 "cells": [
  {
   "cell_type": "code",
   "execution_count": 12,
   "metadata": {},
   "outputs": [
    {
     "name": "stdout",
     "output_type": "stream",
     "text": [
      "Neauron Output : 1.1\n"
     ]
    }
   ],
   "source": [
    "# output=ReLU(w1×x1+w2×x2+bias)\n",
    "\n",
    "def neauron_output(x1,x2,w1,w2, bias):\n",
    "\n",
    "        Z = w1 * x1 * w2 * x2 +bias\n",
    "\n",
    "        return max(0,Z)\n",
    "\n",
    "output = neauron_output(3, 5, 0.2, 0.7, -1)\n",
    "\n",
    "print(f'Neauron Output : {output}')"
   ]
  }
 ],
 "metadata": {
  "kernelspec": {
   "display_name": "Python 3",
   "language": "python",
   "name": "python3"
  },
  "language_info": {
   "codemirror_mode": {
    "name": "ipython",
    "version": 3
   },
   "file_extension": ".py",
   "mimetype": "text/x-python",
   "name": "python",
   "nbconvert_exporter": "python",
   "pygments_lexer": "ipython3",
   "version": "3.9.21"
  }
 },
 "nbformat": 4,
 "nbformat_minor": 2
}
