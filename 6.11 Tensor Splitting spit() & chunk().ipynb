{
 "cells": [
  {
   "cell_type": "markdown",
   "metadata": {},
   "source": [
    "Task:\n",
    "\n",
    "🔹 Create a 1D tensor of 10 elements\n",
    "\n",
    "🔹 Split into 2 parts of sizes [3, 7]\n",
    "\n",
    "🔹 Chunk into 5 equal parts"
   ]
  },
  {
   "cell_type": "code",
   "execution_count": 26,
   "metadata": {},
   "outputs": [],
   "source": [
    "import torch"
   ]
  },
  {
   "cell_type": "code",
   "execution_count": 27,
   "metadata": {},
   "outputs": [],
   "source": [
    "C = torch.arange(10)"
   ]
  },
  {
   "cell_type": "code",
   "execution_count": 28,
   "metadata": {},
   "outputs": [],
   "source": [
    "# Split into sizes 3 and 7\n",
    "\n",
    "C_split = torch.split(C,[3,7])"
   ]
  },
  {
   "cell_type": "code",
   "execution_count": 29,
   "metadata": {},
   "outputs": [],
   "source": [
    "# Chunk into 5 equal parts\n",
    "\n",
    "C_chunk = torch.chunk(C, 5)"
   ]
  },
  {
   "cell_type": "code",
   "execution_count": 30,
   "metadata": {},
   "outputs": [
    {
     "name": "stdout",
     "output_type": "stream",
     "text": [
      "\n",
      "Original Tensor:\n",
      " tensor([0, 1, 2, 3, 4, 5, 6, 7, 8, 9])\n",
      "\n",
      "Split into sizes [3,7]:\n",
      " (tensor([0, 1, 2]), tensor([3, 4, 5, 6, 7, 8, 9]))\n",
      "\n",
      "Chunked into 5 equal parts:\n",
      " (tensor([0, 1]), tensor([2, 3]), tensor([4, 5]), tensor([6, 7]), tensor([8, 9]))\n"
     ]
    }
   ],
   "source": [
    "print(\"\\nOriginal Tensor:\\n\", C)\n",
    "\n",
    "print(\"\\nSplit into sizes [3,7]:\\n\", C_split)\n",
    "\n",
    "print(\"\\nChunked into 5 equal parts:\\n\", C_chunk)"
   ]
  }
 ],
 "metadata": {
  "kernelspec": {
   "display_name": "masterxdl",
   "language": "python",
   "name": "python3"
  },
  "language_info": {
   "codemirror_mode": {
    "name": "ipython",
    "version": 3
   },
   "file_extension": ".py",
   "mimetype": "text/x-python",
   "name": "python",
   "nbconvert_exporter": "python",
   "pygments_lexer": "ipython3",
   "version": "3.9.21"
  }
 },
 "nbformat": 4,
 "nbformat_minor": 2
}
