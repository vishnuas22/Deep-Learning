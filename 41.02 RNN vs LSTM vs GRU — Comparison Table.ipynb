{
 "cells": [
  {
   "cell_type": "markdown",
   "id": "e3c00c8b",
   "metadata": {},
   "source": [
    "| **Aspect**                         | **Vanilla RNN**              | **LSTM**                        | **GRU**                                       |\n",
    "| ---------------------------------- | ---------------------------- | ------------------------------- | --------------------------------------------- |\n",
    "| **Introduced**                     | Early 1990s                  | 1997 (Hochreiter & Schmidhuber) | 2014 (Cho et al.)                             |\n",
    "| **Core Purpose**                   | Basic sequential memory      | Learn long-term dependencies    | Simplified LSTM with fewer gates              |\n",
    "| **Gates**                          | None                         | 3 Gates: Input, Forget, Output  | 2 Gates: Update, Reset                        |\n",
    "| **Cell State**                     | ❌ No separate cell state     | ✅ Maintains separate cell state | ❌ No separate cell state (merged with hidden) |\n",
    "| **Handles Long-Term Dependencies** | ❌ Poor                       | ✅ Excellent                     | ✅ Good (not as strong as LSTM)                |\n",
    "| **Training Time**                  | ⏱️ Fast (but less effective) | 🐢 Slower due to more gates     | ⚡ Faster than LSTM                            |\n",
    "| **Performance on Small Data**      | ❌ Poor                       | ✅ Good with regularization      | ✅ Good                                        |\n",
    "| **Parameters**                     | 🔹 Few                       | 🔸 More                         | 🔹 Medium                                     |\n",
    "| **Complexity**                     | ⚙️ Simple                    | ⚙️⚙️ Complex                    | ⚙️ Moderate                                   |\n",
    "| **Interpretability**               | Easy                         | Medium                          | Medium                                        |\n",
    "| **Vanishing Gradient**             | ❌ Severe issue               | ✅ Mitigated                     | ✅ Mitigated                                   |\n"
   ]
  }
 ],
 "metadata": {
  "language_info": {
   "name": "python"
  }
 },
 "nbformat": 4,
 "nbformat_minor": 5
}
