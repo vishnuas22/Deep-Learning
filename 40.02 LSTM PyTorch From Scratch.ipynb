{
 "cells": [
  {
   "cell_type": "code",
   "execution_count": 4,
   "id": "d7fcc4b0",
   "metadata": {},
   "outputs": [],
   "source": [
    "import torch\n",
    "\n",
    "import torch.nn as nn\n",
    "\n",
    "import torch.nn.functional as F \n",
    "\n",
    "import numpy as np"
   ]
  },
  {
   "cell_type": "code",
   "execution_count": 5,
   "id": "ee65d2e9",
   "metadata": {},
   "outputs": [],
   "source": [
    "# Tiny corpus\n",
    "\n",
    "corpus = [\n",
    "    \"deep learning is powerful\",\n",
    "    \"learning is fun and powerful\",\n",
    "    \"deep learning is fun\"\n",
    "]\n"
   ]
  },
  {
   "cell_type": "code",
   "execution_count": 6,
   "id": "812e9b41",
   "metadata": {},
   "outputs": [],
   "source": [
    "# Tokenize\n",
    "\n",
    "tokens = \" \".join(corpus).split()\n",
    "\n",
    "vocab = sorted(set(tokens))\n",
    "\n",
    "word_to_idx = {word: i for i, word in enumerate(vocab)}\n",
    "\n",
    "idx_to_word = {i: word for word, i in word_to_idx.items()}"
   ]
  },
  {
   "cell_type": "code",
   "execution_count": 7,
   "id": "b32e2624",
   "metadata": {},
   "outputs": [],
   "source": [
    "# Convert to sequences\n",
    "\n",
    "seq_len = 3\n",
    "\n",
    "data = []"
   ]
  },
  {
   "cell_type": "code",
   "execution_count": 8,
   "id": "06d680aa",
   "metadata": {},
   "outputs": [],
   "source": [
    "for sentence in corpus:\n",
    "\n",
    "    words = sentence.split()\n",
    "\n",
    "    for i in range(len(words) - seq_len):\n",
    "\n",
    "        input_seq = words[i: i + seq_len]\n",
    "\n",
    "        target_word = words[i+seq_len]\n",
    "\n",
    "        input_idx = [word_to_idx[word] for word in input_seq]\n",
    "\n",
    "        target_idx = word_to_idx[target_word]\n",
    "\n",
    "        data.append((input_idx, target_idx))\n",
    "\n",
    "\n",
    "input_seqs = [torch.tensor(x) for x , _ in data]\n",
    "\n",
    "target_words = [torch.tensor(y) for y ,_ in data]"
   ]
  }
 ],
 "metadata": {
  "kernelspec": {
   "display_name": "masterxdl",
   "language": "python",
   "name": "python3"
  },
  "language_info": {
   "codemirror_mode": {
    "name": "ipython",
    "version": 3
   },
   "file_extension": ".py",
   "mimetype": "text/x-python",
   "name": "python",
   "nbconvert_exporter": "python",
   "pygments_lexer": "ipython3",
   "version": "3.9.21"
  }
 },
 "nbformat": 4,
 "nbformat_minor": 5
}
