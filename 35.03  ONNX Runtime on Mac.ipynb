{
 "cells": [
  {
   "cell_type": "code",
   "execution_count": null,
   "id": "9087aa49",
   "metadata": {},
   "outputs": [],
   "source": [
    "import onnxruntime as ort\n",
    "\n",
    "import numpy as np"
   ]
  },
  {
   "cell_type": "code",
   "execution_count": null,
   "id": "ac547a9c",
   "metadata": {},
   "outputs": [],
   "source": [
    "session = ort.InferenceSession(\"resnet18_traced.onnx\")\n",
    "\n",
    "input_name = session.get_inputs()[0].name"
   ]
  },
  {
   "cell_type": "code",
   "execution_count": null,
   "id": "af4a2ae7",
   "metadata": {},
   "outputs": [],
   "source": [
    "# Dummy input\n",
    "\n",
    "x = np.random.rand(1, 3, 32, 32).astype(np.float32)"
   ]
  },
  {
   "cell_type": "code",
   "execution_count": null,
   "id": "2c8a3ef7",
   "metadata": {},
   "outputs": [],
   "source": [
    "output = session.run(None, {input_name:x})\n",
    "\n",
    "pred = np.argmax(output[0], axis=1)"
   ]
  },
  {
   "cell_type": "code",
   "execution_count": null,
   "id": "5f925c62",
   "metadata": {},
   "outputs": [],
   "source": [
    "print(\"Predicted class:\", pred)"
   ]
  }
 ],
 "metadata": {
  "kernelspec": {
   "display_name": "masterxdl",
   "language": "python",
   "name": "python3"
  },
  "language_info": {
   "codemirror_mode": {
    "name": "ipython",
    "version": 3
   },
   "file_extension": ".py",
   "mimetype": "text/x-python",
   "name": "python",
   "nbconvert_exporter": "python",
   "pygments_lexer": "ipython3",
   "version": "3.9.21"
  }
 },
 "nbformat": 4,
 "nbformat_minor": 5
}
