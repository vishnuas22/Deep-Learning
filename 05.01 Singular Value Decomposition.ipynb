{
 "cells": [
  {
   "cell_type": "markdown",
   "metadata": {},
   "source": [
    "SVD is one of the most powerful matrix factorizations in linear algebra, widely used in machine learning, computer vision, recommendation systems, and deep learning. To truly understand SVD, let’s break it down into digestible parts."
   ]
  },
  {
   "cell_type": "markdown",
   "metadata": {},
   "source": [
    "Singular Value Decomposition (SVD) is a way to break down any matrix into three simpler matrices that reveal its fundamental properties."
   ]
  },
  {
   "cell_type": "markdown",
   "metadata": {},
   "source": [
    "A=UΣVT\n",
    " \n",
    " U (m × m) → Left singular vectors (columns are orthonormal)\n",
    "\n",
    "Σ (m × n) → Diagonal matrix of singular values (like eigenvalues)\n",
    "\n",
    "V ^T (n × n) → Right singular vectors (rows are orthonormal)\n",
    "\n"
   ]
  },
  {
   "cell_type": "markdown",
   "metadata": {},
   "source": [
    "For a matrix A:\n",
    "1️⃣ Compute eigenvalues & eigenvectors of \n",
    "\n",
    "A^TA (gives V)\n",
    "\n",
    "2️⃣ Compute eigenvalues & eigenvectors of \n",
    "\n",
    "AA^T  (gives U)\n",
    "\n",
    "3️⃣ Singular values are the square roots of eigenvalues of \n",
    "A^TA\n",
    "\n",
    "4️⃣ Construct \n",
    "\n",
    "U,Σ,V^T\n",
    " "
   ]
  },
  {
   "cell_type": "code",
   "execution_count": 29,
   "metadata": {},
   "outputs": [],
   "source": [
    "import numpy as np"
   ]
  },
  {
   "cell_type": "code",
   "execution_count": 30,
   "metadata": {},
   "outputs": [],
   "source": [
    "# Define a simple 3x3 matrix\n",
    "\n",
    "\n",
    "A = np.array([[4,2,3],\n",
    "              [3,1,4],\n",
    "              [2,5,6]])"
   ]
  },
  {
   "cell_type": "code",
   "execution_count": 31,
   "metadata": {},
   "outputs": [],
   "source": [
    "U,S, Vt = np.linalg.svd(A)"
   ]
  },
  {
   "cell_type": "code",
   "execution_count": 32,
   "metadata": {},
   "outputs": [
    {
     "name": "stdout",
     "output_type": "stream",
     "text": [
      "Original Matrix A: \n",
      " [[4 2 3]\n",
      " [3 1 4]\n",
      " [2 5 6]]\n",
      "\n",
      " U (Left Singular Vectors): \n",
      " [[-0.4806589   0.5875834   0.65093224]\n",
      " [-0.46073166  0.46237311 -0.75758659]\n",
      " [-0.74611886 -0.66404583  0.04847453]]\n",
      "\n",
      " Singualr Values  (Diagonal of Σ): \n",
      " [10.47875438  2.96224118  1.19198736]\n",
      "\n",
      " T (Right Singular Vectors Transposed): \n",
      " [[-0.45778994 -0.49172293 -0.7407003 ]\n",
      " [ 0.81335756 -0.56804599 -0.12559151]\n",
      " [ 0.35899561  0.65994872 -0.6599923 ]]\n"
     ]
    }
   ],
   "source": [
    "# Print the decomposed matrices\n",
    "\n",
    "print(f'Original Matrix A: \\n {A}')\n",
    "\n",
    "print(f'\\n U (Left Singular Vectors): \\n {U}')\n",
    "\n",
    "print(f'\\n Singualr Values  (Diagonal of Σ): \\n {S}')\n",
    "\n",
    "print(f'\\n T (Right Singular Vectors Transposed): \\n {Vt}')\n"
   ]
  },
  {
   "cell_type": "code",
   "execution_count": 33,
   "metadata": {},
   "outputs": [],
   "source": [
    "# Reconstruct the original matrix A using SVD components\n",
    "\n",
    "S_Matrix = np.zeros((A.shape[0], A.shape[1])) # Convert S into diagonal matrix\n",
    "\n",
    "np.fill_diagonal(S_Matrix,S)"
   ]
  },
  {
   "cell_type": "code",
   "execution_count": 34,
   "metadata": {},
   "outputs": [
    {
     "name": "stdout",
     "output_type": "stream",
     "text": [
      "\n",
      " Reconstructed Matrix A: \n",
      " [[4. 2. 3.]\n",
      " [3. 1. 4.]\n",
      " [2. 5. 6.]]\n"
     ]
    }
   ],
   "source": [
    "A_reconstructed = U @ S_Matrix @ Vt\n",
    "\n",
    "print(f'\\n Reconstructed Matrix A: \\n {A_reconstructed}')"
   ]
  },
  {
   "cell_type": "code",
   "execution_count": 35,
   "metadata": {},
   "outputs": [
    {
     "name": "stdout",
     "output_type": "stream",
     "text": [
      " \n",
      " Reconstruction is Accurate: True\n"
     ]
    }
   ],
   "source": [
    "# Verify that the reconstructed matrix is close to the original\n",
    "\n",
    "print(f' \\n Reconstruction is Accurate: {np.allclose(A, A_reconstructed)}')"
   ]
  },
  {
   "cell_type": "markdown",
   "metadata": {},
   "source": [
    " Key Takeaways from the Code\n",
    "\n",
    "np.linalg.svd(A) decomposes A into three parts:\n",
    "\n",
    "U (left singular vectors)\n",
    "\n",
    "S (singular values)\n",
    "\n",
    "Vt (right singular vectors, transposed)"
   ]
  },
  {
   "cell_type": "markdown",
   "metadata": {},
   "source": [
    "We reconstruct A using U, Σ, Vᵀ:\n",
    "\n",
    "\n",
    "A=U⋅Σ⋅V T"
   ]
  },
  {
   "cell_type": "markdown",
   "metadata": {},
   "source": [
    "The np.allclose(A, A_reconstructed) confirms that we successfully decomposed and reconstructed the matrix."
   ]
  }
 ],
 "metadata": {
  "kernelspec": {
   "display_name": "masterxdl",
   "language": "python",
   "name": "python3"
  },
  "language_info": {
   "codemirror_mode": {
    "name": "ipython",
    "version": 3
   },
   "file_extension": ".py",
   "mimetype": "text/x-python",
   "name": "python",
   "nbconvert_exporter": "python",
   "pygments_lexer": "ipython3",
   "version": "3.9.21"
  }
 },
 "nbformat": 4,
 "nbformat_minor": 2
}
