{
 "cells": [
  {
   "cell_type": "markdown",
   "id": "3ea28223",
   "metadata": {},
   "source": [
    "Architecture Overview\n",
    "\n",
    "Encoder: Bi-directional LSTM to get rich context from both directions.\n",
    "Attention: Dot-product between decoder hidden state and all encoder outputs.\n",
    "Decoder: LSTM + Attention context → predicts next word."
   ]
  },
  {
   "cell_type": "code",
   "execution_count": 1,
   "id": "8c44d045",
   "metadata": {},
   "outputs": [],
   "source": [
    "import torch\n",
    "\n",
    "import torch.nn as nn \n",
    "\n",
    "import torch.nn.functional as F"
   ]
  },
  {
   "cell_type": "markdown",
   "id": "0fd905de",
   "metadata": {},
   "source": [
    "Encoder with Bi-LSTM"
   ]
  },
  {
   "cell_type": "code",
   "execution_count": 2,
   "id": "97d6bf1e",
   "metadata": {},
   "outputs": [],
   "source": [
    "class Encoder(nn.Module):\n",
    "    def __init__(self, vocab_size, embed_dim, hidden_dim):\n",
    "        super(Encoder,self).__init__()\n",
    "\n",
    "        self.embedding = nn.Embedding(vocab_size, embed_dim)\n",
    "\n",
    "        self.lstm(nn.LSTM(embed_dim, hidden_dim, batch_first=True, bidirectional=True))\n",
    "\n",
    "    \n",
    "    def forward(self,x):\n",
    "\n",
    "        embedded = self.embedding(x) # [B, T, E]\n",
    "\n",
    "        outputs , (h_n,c_n) = self.lstm(embedded)  # outputs: [B, T, 2H]\n",
    "\n",
    "        return outputs, (h_n,c_n)  # Return all encoder outputs + final hidden states"
   ]
  },
  {
   "cell_type": "markdown",
   "id": "d73d32fa",
   "metadata": {},
   "source": [
    "Attention Mechanism"
   ]
  },
  {
   "cell_type": "code",
   "execution_count": 3,
   "id": "f102d01c",
   "metadata": {},
   "outputs": [],
   "source": [
    "class Attention(nn.Module):\n",
    "\n",
    "    def __init__(self,hidden_dim):\n",
    "        super(Attention,self).__init__()\n",
    "\n",
    "        self.hidden_dim = hidden_dim\n",
    "\n",
    "    def forward(decoder_hidden, encoder_outputs):\n",
    "\n",
    "            # input_token: [B], decoder_hidden: ([1, B, H], [1, B, H])\n",
    "\n",
    "            scores = torch.bmm(encoder_outputs, decoder_hidden.unsqueeze(2)).squeeze(2) # [B, T]\n",
    "\n",
    "            attn_weights = F.softmax(scores, dim=1) # [B, T]\n",
    "\n",
    "            context = torch.bmm(attn_weights.unsqueeze(1), encoder_outputs).squeeze(1) # [B, 2H]\n",
    "\n",
    "            return context, attn_weights"
   ]
  },
  {
   "cell_type": "markdown",
   "id": "284a9e5f",
   "metadata": {},
   "source": [
    "Decoder with Attention"
   ]
  },
  {
   "cell_type": "code",
   "execution_count": 4,
   "id": "06c01334",
   "metadata": {},
   "outputs": [],
   "source": [
    "class Decoder(nn.Module):\n",
    "\n",
    "    def __init__(self, vocab_size, embed_dim,enc_hidden_dim, dec_hidden_dim):\n",
    "        super(Decoder,self).__init__()\n",
    "\n",
    "        self.embedding = nn.Embedding(vocab_size, embed_dim)\n",
    "\n",
    "        self.lstm = nn.LSTM(embed_dim + enc_hidden_dim * 2, dec_hidden_dim, batch_first=True)\n",
    "\n",
    "        self.fc = nn.Linear(dec_hidden_dim, vocab_size) # Multiply hidden by 2 for bidirectional\n",
    "\n",
    "        self.attention = Attention(dec_hidden_dim)\n",
    "\n",
    "    \n",
    "    def forward(self, input_token, decoder_hidden, encoder_outputs):\n",
    "\n",
    "        # input_token: [B], decoder_hidden: ([1, B, H], [1, B, H])\n",
    "\n",
    "        embedded = self.embedding(input_token).unsqueeze(1)  # [B, 1, E]\n",
    "\n",
    "        # Calculate attention context\n",
    "\n",
    "        hidden_state = decoder_hidden[0].squeeze(0)  # [B, H]\n",
    "\n",
    "        context, attn_weights = self.attention(hidden_state, encoder_outputs)  # [B, 2H]\n",
    "\n",
    "        # Combine context + embedding\n",
    "\n",
    "        combined = torch.cat((embedded, context.unsqueeze(1)), dim=2) # [B, 1, E+2H]\n",
    "\n",
    "        # Pass through LSTM\n",
    "\n",
    "        output, decoder_hidden = self.lstm(combined, decoder_hidden) # [B, 1, H]\n",
    "\n",
    "\n",
    "        logits = self.fc(output.squeeze(1)) # [B, vocab_size]\n",
    "\n",
    "        return logits, decoder_hidden, attn_weights"
   ]
  },
  {
   "cell_type": "markdown",
   "id": "79fff94c",
   "metadata": {},
   "source": [
    "Seq2Seq with Attention"
   ]
  },
  {
   "cell_type": "code",
   "execution_count": 5,
   "id": "ec31db89",
   "metadata": {},
   "outputs": [],
   "source": [
    "class Seq2Seq(nn.Module):\n",
    "\n",
    "    def __init__(self, encoder, decoder, device):\n",
    "        super(Seq2Seq, self).__init__()\n",
    "\n",
    "        self.encoder = encoder\n",
    "\n",
    "        self.decoder = decoder\n",
    "\n",
    "        self.device = device\n",
    "\n",
    "\n",
    "    def forward(self, src, tgt, teacher_forcing_ratio = 0.5):\n",
    "\n",
    "        batch_size, tgt_len = tgt.shape\n",
    "\n",
    "        vocab_size = self.decoder.fc.out_features\n",
    "\n",
    "\n",
    "        outputs = torch.zeros(batch_size,tgt_len, vocab_size).to(self.device)\n",
    "\n",
    "        encoder_outputs , encoder_hidden = self.encoder(src)\n",
    "\n",
    "\n",
    "        hidden = (encoder_hidden[0][:1], encoder_hidden[1][:1]) # Use only one direction\n",
    " \n",
    "        input_token = tgt[:,0] # <sos>\n",
    "\n",
    "\n",
    "        for t in range(1, tgt_len):\n",
    "\n",
    "            output, hidden, _ = self.decoder(input_token, hidden, encoder_outputs)\n",
    "\n",
    "            outputs[:,t,:] = output\n",
    "\n",
    "            top1 = output.argmax(1)\n",
    "\n",
    "            input_token = tgt[:,t] if torch.rand(1).item() < teacher_forcing_ratio else top1\n",
    "\n",
    "        \n",
    "        return outputs"
   ]
  },
  {
   "cell_type": "markdown",
   "id": "34d958c9",
   "metadata": {},
   "source": [
    "Summary\n",
    "\n",
    "This model builds a powerful attention-based decoder.\n",
    "It mimics the way transformers later evolved: querying the encoder outputs per timestep.\n",
    "Great for machine translation, summarization, and any sequence generation."
   ]
  }
 ],
 "metadata": {
  "kernelspec": {
   "display_name": "masterxdl",
   "language": "python",
   "name": "python3"
  },
  "language_info": {
   "codemirror_mode": {
    "name": "ipython",
    "version": 3
   },
   "file_extension": ".py",
   "mimetype": "text/x-python",
   "name": "python",
   "nbconvert_exporter": "python",
   "pygments_lexer": "ipython3",
   "version": "3.9.21"
  }
 },
 "nbformat": 4,
 "nbformat_minor": 5
}
