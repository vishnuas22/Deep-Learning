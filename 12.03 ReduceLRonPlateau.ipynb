{
 "cells": [
  {
   "cell_type": "markdown",
   "metadata": {},
   "source": [
    "Unlike previous schedulers that adjust the LR based on epochs, this scheduler monitors a specific metric (e.g., validation loss) and reduces the LR when no improvement is detected.\n",
    "\n",
    "🔸 Key Idea: If the model stops improving for a while, we reduce the learning rate to help it converge better.\n",
    "\n",
    "🔸 Why is this useful?\n",
    "\n",
    "Avoids reducing the LR too soon like other schedulers.\n",
    "Reduces LR only when necessary, preventing unnecessary slowdowns.\n",
    "Helps escape plateaus where the model gets stuck at a certain loss value."
   ]
  },
  {
   "cell_type": "code",
   "execution_count": 42,
   "metadata": {},
   "outputs": [],
   "source": [
    "import torch\n",
    "\n",
    "import numpy as np\n",
    "\n",
    "import torch.nn as nn\n",
    "\n",
    "import torch.optim as optim\n",
    "\n",
    "import matplotlib.pyplot as plt"
   ]
  },
  {
   "cell_type": "code",
   "execution_count": 43,
   "metadata": {},
   "outputs": [],
   "source": [
    "# Dummy Model\n",
    "\n",
    "model = torch.nn.Linear(10,1)\n",
    "\n",
    "optimizer = optim.Adam(model.parameters(), lr=0.1)"
   ]
  },
  {
   "cell_type": "markdown",
   "metadata": {},
   "source": [
    "🔹 Parameters\n",
    "\n",
    "mode → \"min\" (for loss) or \"max\" (for accuracy).\n",
    "\n",
    "factor → The factor by which the LR is reduced (e.g., 0.1 means LR is divided by 10).\n",
    "\n",
    "patience → Number of epochs to wait before reducing LR if no improvement is seen.\n",
    "\n",
    "threshold → Minimum change to be considered an improvement.\n",
    "\n",
    "cooldown → Number of epochs to wait after reducing LR before resuming normal operation.\n",
    "\n",
    "min_lr → The lowest possible LR."
   ]
  },
  {
   "cell_type": "code",
   "execution_count": 44,
   "metadata": {},
   "outputs": [],
   "source": [
    "# Define ReduceLROnPlateau\n",
    "\n",
    "scheduler = optim.lr_scheduler.ReduceLROnPlateau(optimizer,\n",
    "                                                 mode='min',\n",
    "                                                 factor=0.5,\n",
    "                                                 patience=5,\n",
    "                                                 threshold=0.01,\n",
    "                                                 cooldown=2,\n",
    "                                                 min_lr=1e-6)\n"
   ]
  },
  {
   "cell_type": "code",
   "execution_count": 45,
   "metadata": {},
   "outputs": [],
   "source": [
    "# Simulating a loss trend (e.g., initially decreasing, then a plateau)\n",
    "\n",
    "losses = [0.5 / (epoch + 1) for epoch in range(20)]\n",
    "\n",
    "losses[10:] = [0.05] * 10 # Simulating a plateau at epoch 10"
   ]
  },
  {
   "cell_type": "code",
   "execution_count": 46,
   "metadata": {},
   "outputs": [
    {
     "name": "stdout",
     "output_type": "stream",
     "text": [
      "Epoch 1, loss: 0.5000, LR: 0.100000\n",
      "Epoch 2, loss: 0.2500, LR: 0.100000\n",
      "Epoch 3, loss: 0.1667, LR: 0.100000\n",
      "Epoch 4, loss: 0.1250, LR: 0.100000\n",
      "Epoch 5, loss: 0.1000, LR: 0.100000\n",
      "Epoch 6, loss: 0.0833, LR: 0.100000\n",
      "Epoch 7, loss: 0.0714, LR: 0.100000\n",
      "Epoch 8, loss: 0.0625, LR: 0.100000\n",
      "Epoch 9, loss: 0.0556, LR: 0.100000\n",
      "Epoch 10, loss: 0.0500, LR: 0.100000\n",
      "Epoch 11, loss: 0.0500, LR: 0.100000\n",
      "Epoch 12, loss: 0.0500, LR: 0.100000\n",
      "Epoch 13, loss: 0.0500, LR: 0.100000\n",
      "Epoch 14, loss: 0.0500, LR: 0.100000\n",
      "Epoch 15, loss: 0.0500, LR: 0.100000\n",
      "Epoch 16, loss: 0.0500, LR: 0.010000\n",
      "Epoch 17, loss: 0.0500, LR: 0.010000\n",
      "Epoch 18, loss: 0.0500, LR: 0.010000\n",
      "Epoch 19, loss: 0.0500, LR: 0.010000\n",
      "Epoch 20, loss: 0.0500, LR: 0.010000\n"
     ]
    },
    {
     "data": {
      "image/png": "[encoded data removed]",
      "text/plain": [
       "<Figure size 640x480 with 1 Axes>"
      ]
     },
     "metadata": {},
     "output_type": "display_data"
    }
   ],
   "source": [
    "lrs = []\n",
    "\n",
    "# Simulate training loop\n",
    "\n",
    "for epoch , loss in enumerate (losses):\n",
    "\n",
    "    optimizer.step() # Dummy optimizer step\n",
    "\n",
    "    scheduler.step(loss) # Reduce LR based on loss\n",
    "\n",
    "    # Store LR for visualization\n",
    "\n",
    "    lrs.append(optimizer.param_groups[0]['lr'])\n",
    "\n",
    "    print(f'Epoch {epoch +1}, loss: {loss:.4f}, LR: {lrs[-1]:6f}')\n",
    "\n",
    "\n",
    "# Plot Learning Rate Changes\n",
    "\n",
    "plt.plot(range(1, len(lrs)+1 ), lrs, marker='o', linestyle='-')\n",
    "\n",
    "plt.xlabel('Epoches')\n",
    "\n",
    "plt.ylabel('Learning rate')\n",
    "\n",
    "plt.title(\"ReduceLROnPlateau - Learning Rate Adjustment\")\n",
    "\n",
    "plt.grid(True)\n",
    "\n",
    "plt.show()"
   ]
  },
  {
   "cell_type": "markdown",
   "metadata": {},
   "source": [
    "Initially, the LR stays constant as long as the loss is improving.\n",
    "\n",
    "Once loss stagnates (plateau detected at epoch 10), the LR starts decreasing based on the factor.\n",
    "\n",
    "The scheduler waits for patience epochs before reducing the LR.\n",
    "\n",
    "Cooldown period prevents it from reducing LR too frequently.\n",
    "\n",
    "The LR stops decreasing once it reaches min_lr."
   ]
  },
  {
   "cell_type": "markdown",
   "metadata": {},
   "source": [
    "✅ Best for scenarios where training loss fluctuates instead of steadily decreasing.\n",
    "\n",
    "✅ More adaptive than fixed schedules like StepLR or Exponential Decay.\n",
    "\n",
    "✅ Works well in real-world models when you don’t know the best LR decay timing."
   ]
  }
 ],
 "metadata": {
  "kernelspec": {
   "display_name": "masterxdl",
   "language": "python",
   "name": "python3"
  },
  "language_info": {
   "codemirror_mode": {
    "name": "ipython",
    "version": 3
   },
   "file_extension": ".py",
   "mimetype": "text/x-python",
   "name": "python",
   "nbconvert_exporter": "python",
   "pygments_lexer": "ipython3",
   "version": "3.9.21"
  }
 },
 "nbformat": 4,
 "nbformat_minor": 2
}
