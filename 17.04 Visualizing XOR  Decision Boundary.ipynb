{
 "cells": [
  {
   "cell_type": "code",
   "execution_count": 21,
   "metadata": {},
   "outputs": [],
   "source": [
    "import torch\n",
    "\n",
    "import numpy as np\n",
    "\n",
    "import matplotlib.pyplot as plt\n",
    "\n",
    "import torch.nn as nn"
   ]
  },
  {
   "cell_type": "code",
   "execution_count": 22,
   "metadata": {},
   "outputs": [],
   "source": [
    "# Step 1: Create XOR Dataset\n",
    "\n",
    "X = torch.tensor([[0.0, 0.0], [0.0, 1.0], [1.0, 0.0], [1.0, 1.0]], dtype=torch.float32)\n",
    "\n",
    "y = torch.tensor([[0.0], [1.0], [1.0], [0.0]], dtype=torch.float32)"
   ]
  },
  {
   "cell_type": "code",
   "execution_count": 23,
   "metadata": {},
   "outputs": [],
   "source": [
    "# Step 2: Define a simple Neural Network with 1 hidden layer\n",
    "\n",
    "class XORNetwork(nn.Module):\n",
    "\n",
    "    def __init__(self):\n",
    "        super(XORNetwork,self).__init__()\n",
    "\n",
    "        # 2 input features -> 4 neurons in hidden layer -> 1 output\n",
    "\n",
    "        self.fc1 = nn.Linear(2, 4)  # Input layer (2 features) to hidden layer (4 neurons)\n",
    "\n",
    "        self.fc2 = nn.Linear(4, 1)  # Hidden layer (4 neurons) to output layer (1 neuron)\n",
    "\n",
    "        self.sigmoid = nn.Sigmoid() # Activation function for output layer\n",
    "\n",
    "    def forward(self,x):\n",
    "\n",
    "        x = torch.relu(self.fc1(x)) # ReLU activation for hidden layer\n",
    "\n",
    "        x = self.sigmoid(self.fc2(x)) # Sigmoid activation for output\n",
    "\n",
    "        return x"
   ]
  },
  {
   "cell_type": "code",
   "execution_count": 24,
   "metadata": {},
   "outputs": [],
   "source": [
    "# Step 3: Instantiate the model\n",
    "\n",
    "model = XORNetwork()"
   ]
  },
  {
   "cell_type": "code",
   "execution_count": 25,
   "metadata": {},
   "outputs": [],
   "source": [
    "\n",
    "\n",
    "loss_fn = nn.BCELoss()  # Binary Cross Entropy for classification\n",
    "\n",
    "optimizer = torch.optim.SGD(model.parameters(), lr=0.1)"
   ]
  },
  {
   "cell_type": "code",
   "execution_count": 26,
   "metadata": {},
   "outputs": [
    {
     "name": "stdout",
     "output_type": "stream",
     "text": [
      "Epoch 1/10000, Loss: 0.7173252105712891\n",
      "Epoch 1001/10000, Loss: 0.6931480169296265\n",
      "Epoch 2001/10000, Loss: 0.6931474208831787\n",
      "Epoch 3001/10000, Loss: 0.6931473016738892\n",
      "Epoch 4001/10000, Loss: 0.6931473016738892\n",
      "Epoch 5001/10000, Loss: 0.6931471228599548\n",
      "Epoch 6001/10000, Loss: 0.6931471824645996\n",
      "Epoch 7001/10000, Loss: 0.6931471824645996\n",
      "Epoch 8001/10000, Loss: 0.6931471824645996\n",
      "Epoch 9001/10000, Loss: 0.6931472420692444\n"
     ]
    }
   ],
   "source": [
    "# Step 5: Train the model using backpropagation\n",
    "\n",
    "epochs = 10000 # Number of training iterations\n",
    "\n",
    "for epoch in range(epochs):\n",
    "\n",
    "        # Forward pass: Compute predicted y by passing X to the model\n",
    "\n",
    "        predictions = model(X)\n",
    "\n",
    "        # Compute the loss (error)\n",
    "\n",
    "        loss = loss_fn(predictions, y)\n",
    "\n",
    "        # Zero the gradients before backward pass\n",
    "\n",
    "        optimizer.zero_grad()\n",
    "\n",
    "        # Backward pass: Compute gradients\n",
    "\n",
    "        loss.backward()\n",
    "\n",
    "        # Update weights and biases using gradient descent\n",
    "\n",
    "        optimizer.step()\n",
    "\n",
    "        # Print loss every 1000 epochs to monitor progress\n",
    "\n",
    "        if epoch % 1000 == 0:\n",
    "                \n",
    "                    print(f'Epoch {epoch+1}/{epochs}, Loss: {loss.item()}')"
   ]
  },
  {
   "cell_type": "code",
   "execution_count": 27,
   "metadata": {},
   "outputs": [],
   "source": [
    "# Create a dense grid of points\n",
    "\n",
    "x1_vals = np.linspace(-0.2,1.2,100)\n",
    "\n",
    "x2_vals = np.linspace(-0.2,1.2,100)\n",
    "\n",
    "xx, yy = np.meshgrid(x1_vals, x2_vals)\n",
    "\n",
    "grid = np.c_[xx.ravel(), yy.ravel()]"
   ]
  },
  {
   "cell_type": "code",
   "execution_count": 28,
   "metadata": {},
   "outputs": [],
   "source": [
    "# Convert to PyTorch tensor\n",
    "\n",
    "grid_tensor = torch.tensor(grid, dtype=torch.float32)"
   ]
  },
  {
   "cell_type": "code",
   "execution_count": 29,
   "metadata": {},
   "outputs": [
    {
     "name": "stdout",
     "output_type": "stream",
     "text": [
      "\n",
      "Final Predictions:\n",
      "Input [0.0, 0.0] → Prediction: 0\n",
      "Input [0.0, 1.0] → Prediction: 0\n",
      "Input [1.0, 0.0] → Prediction: 1\n",
      "Input [1.0, 1.0] → Prediction: 1\n"
     ]
    }
   ],
   "source": [
    "# Get final predictions\n",
    "\n",
    "with torch.no_grad():\n",
    "    final_predictions = model(X)\n",
    "\n",
    "# Print the predictions\n",
    "\n",
    "print(\"\\nFinal Predictions:\")\n",
    "\n",
    "for i in range(len(X)):\n",
    "    \n",
    "    print(f\"Input {X[i].tolist()} → Prediction: {round(final_predictions[i].item())}\")\n"
   ]
  },
  {
   "cell_type": "code",
   "execution_count": 30,
   "metadata": {},
   "outputs": [
    {
     "data": {
      "image/png": "[encoded data removed]",
      "text/plain": [
       "<Figure size 640x480 with 1 Axes>"
      ]
     },
     "metadata": {},
     "output_type": "display_data"
    }
   ],
   "source": [
    "# Create a mesh grid for plotting\n",
    "\n",
    "x_min, x_max = -0.5, 1.5\n",
    "\n",
    "y_min, y_max = -0.5, 1.5\n",
    "\n",
    "xx, yy = np.meshgrid(np.linspace(x_min, x_max, 100), np.linspace(y_min, y_max, 100))\n",
    "\n",
    "grid_tensor = torch.tensor(np.c_[xx.ravel(), yy.ravel()], dtype=torch.float32)\n",
    "\n",
    "# Get predictions for the entire grid\n",
    "\n",
    "with torch.no_grad():\n",
    "\n",
    "    preds = model(grid_tensor)\n",
    "\n",
    "    preds = preds.reshape(xx.shape)  # Reshape for plotting\n",
    "\n",
    "# Plot decision boundary\n",
    "plt.contourf(xx, yy, preds, alpha=0.6)\n",
    "\n",
    "plt.scatter(X[:, 0], X[:, 1], c=y[:, 0], edgecolors='k', marker='o', s=100)\n",
    "\n",
    "plt.title(\"Decision Boundary of XOR Neural Network\")\n",
    "\n",
    "plt.xlabel(\"Input 1\")\n",
    "\n",
    "plt.ylabel(\"Input 2\")\n",
    "\n",
    "plt.show()\n"
   ]
  }
 ],
 "metadata": {
  "kernelspec": {
   "display_name": "masterxdl",
   "language": "python",
   "name": "python3"
  },
  "language_info": {
   "codemirror_mode": {
    "name": "ipython",
    "version": 3
   },
   "file_extension": ".py",
   "mimetype": "text/x-python",
   "name": "python",
   "nbconvert_exporter": "python",
   "pygments_lexer": "ipython3",
   "version": "3.9.21"
  }
 },
 "nbformat": 4,
 "nbformat_minor": 2
}
