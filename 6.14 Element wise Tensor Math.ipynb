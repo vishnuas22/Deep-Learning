{
 "cells": [
  {
   "cell_type": "code",
   "execution_count": null,
   "metadata": {},
   "outputs": [],
   "source": [
    "import torch"
   ]
  },
  {
   "cell_type": "code",
   "execution_count": null,
   "metadata": {},
   "outputs": [],
   "source": [
    "A = torch.tensor([[1,2], [3,4]])\n",
    "\n",
    "B = torch.tensor([[5,6], [7,8]])"
   ]
  },
  {
   "cell_type": "code",
   "execution_count": null,
   "metadata": {},
   "outputs": [],
   "source": [
    "# Element-wise operations\n",
    "\n",
    "print('A + B :\\n',A + B)\n",
    "\n",
    "print('A * B :\\n',A * B) # Element-wise multiplication\n",
    "\n",
    "print('A / B :\\n',A / B)\n",
    "\n",
    "print('A ** 2 :\\n',A ** 2) # Squaring each element\n",
    "\n",
    "print('Log (A)\\n:', torch.log(A.float()))    # Logarithm (convert to float to avoid integer issue)"
   ]
  },
  {
   "cell_type": "markdown",
   "metadata": {},
   "source": [
    "📌 Element-wise operations are super fast and efficient due to GPU acceleration."
   ]
  }
 ],
 "metadata": {
  "kernelspec": {
   "display_name": "masterxdl",
   "language": "python",
   "name": "python3"
  },
  "language_info": {
   "name": "python",
   "version": "3.9.21"
  }
 },
 "nbformat": 4,
 "nbformat_minor": 2
}
