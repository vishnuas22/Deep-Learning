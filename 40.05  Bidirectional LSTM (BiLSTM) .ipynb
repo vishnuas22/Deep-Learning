{
 "cells": [
  {
   "cell_type": "markdown",
   "id": "c4675a2c",
   "metadata": {},
   "source": [
    "| Feature                     | Standard LSTM       | Bidirectional LSTM              |\n",
    "| --------------------------- | ------------------- | ------------------------------- |\n",
    "| Sequence direction          | One-way (past only) | Two-way (past + future)         |\n",
    "| Context available at time t | t-1                 | t-1 and t+1                     |\n",
    "| Useful when future matters? | ❌ No                | ✅ Yes                           |\n",
    "| Performance (typically)     | Moderate            | Higher (if bidirectional helps) |\n"
   ]
  },
  {
   "cell_type": "markdown",
   "id": "6e8af875",
   "metadata": {},
   "source": [
    "What is a Bidirectional LSTM?\n",
    "\n",
    "A Bidirectional LSTM processes the input sequence in both directions:\n",
    "\n",
    "Forward: from first to last word\n",
    "Backward: from last to first word\n",
    "\n",
    "This gives the network context from both past and future at every time step. It’s super useful when:\n",
    "Understanding a word depends on both previous and next words\n",
    "\n",
    "Tasks like Named Entity Recognition (NER), Sentiment Analysis, POS tagging, etc.\n"
   ]
  },
  {
   "cell_type": "code",
   "execution_count": 4,
   "id": "6e49f1f8",
   "metadata": {},
   "outputs": [],
   "source": [
    "import torch\n",
    "\n",
    "import torch.nn as nn \n",
    "\n",
    "import torch.nn.functional as F"
   ]
  },
  {
   "cell_type": "code",
   "execution_count": 5,
   "id": "a1ca6014",
   "metadata": {},
   "outputs": [],
   "source": [
    "# Sample vocab and data\n",
    "\n",
    "vocab = {'i':0, 'love':1, 'deep':2, 'learning':3,'very':4, 'much':5}\n",
    "\n",
    "idx_to_word = {idx: word for word , idx in vocab.items()}\n",
    "\n",
    "sequences = [['i', 'love', 'deep'], ['love', 'deep', 'learning'], ['deep', 'learning', 'very']]\n",
    "\n",
    "targets = ['deep', 'learning', 'much']"
   ]
  },
  {
   "cell_type": "code",
   "execution_count": 6,
   "id": "1c3a3759",
   "metadata": {},
   "outputs": [],
   "source": [
    "# Convert to tensors\n",
    "\n",
    "def encode_seq(seq):\n",
    "\n",
    "    return torch.tensor([vocab[word] for word in seq ], dtype=torch.long)\n",
    "\n",
    "input_seqs = [encode_seq(seq) for seq in sequences]\n",
    "\n",
    "target_seqs = [vocab[word] for word in targets]\n",
    "\n",
    "target_seqs = torch.tensor(target_seqs, dtype=torch.long)"
   ]
  },
  {
   "cell_type": "code",
   "execution_count": 7,
   "id": "1eb2fb95",
   "metadata": {},
   "outputs": [],
   "source": [
    "# Model\n",
    "\n",
    "class BiLSTMModel(nn.Module):\n",
    "\n",
    "    def __init__(self, vocab_size, embedding_dim, hidden_dim):\n",
    "        super(BiLSTMModel, self).__init__()\n",
    "\n",
    "        self.embedding = nn.Embedding(vocab_size, embedding_dim)\n",
    "\n",
    "        self.lstm = nn.LSTM(embedding_dim, hidden_dim, bidirectional=True)\n",
    "\n",
    "        self.fc = nn.Linear(hidden_dim * 2, vocab_size) # Multiply hidden by 2 for bidirectional\n",
    "\n",
    "    \n",
    "    def forward(self,x):\n",
    "\n",
    "        emb = self.embedding(x) # [seq_len, batch] → [seq_len, batch, emb_dim]\n",
    "\n",
    "        output, (hn, cn) = self.lstm(emb) # output: [seq_len, batch, hidden*2]\n",
    "\n",
    "        last_output = output[-1]  # Take last time step’s output\n",
    "\n",
    "        out = self.fc(last_output) # [batch, vocab_size]\n",
    "\n",
    "        return out"
   ]
  },
  {
   "cell_type": "code",
   "execution_count": 8,
   "id": "7522ec34",
   "metadata": {},
   "outputs": [],
   "source": [
    "# Parameters\n",
    "\n",
    "embedding_dim = 8\n",
    "\n",
    "hidden_dim = 16\n",
    "\n",
    "model = BiLSTMModel(len(vocab), embedding_dim, hidden_dim)\n",
    "\n",
    "\n",
    "# Training\n",
    "\n",
    "optimizer = torch.optim.Adam(model.parameters(), lr=0.01)\n",
    "\n",
    "loss_fn = nn.CrossEntropyLoss()"
   ]
  },
  {
   "cell_type": "code",
   "execution_count": 9,
   "id": "7a74bab5",
   "metadata": {},
   "outputs": [
    {
     "name": "stdout",
     "output_type": "stream",
     "text": [
      "20/100, Loss: 0.0376\n",
      "40/100, Loss: 0.0113\n",
      "60/100, Loss: 0.0064\n",
      "80/100, Loss: 0.0042\n",
      "100/100, Loss: 0.0030\n"
     ]
    }
   ],
   "source": [
    "for epoch in range(100):\n",
    "\n",
    "    total_loss = 0\n",
    "\n",
    "    for x, y in zip(input_seqs, target_seqs):\n",
    "\n",
    "        x = x.unsqueeze(1) # [seq_len] → [seq_len, 1]\n",
    "\n",
    "        optimizer.zero_grad()\n",
    "\n",
    "        output = model(x)  # [1, vocab_size]\n",
    "\n",
    "        loss = loss_fn(output, y.unsqueeze(0))  # y: scalar → shape [1]\n",
    "\n",
    "        loss.backward()\n",
    "\n",
    "        optimizer.step()\n",
    "\n",
    "        total_loss += loss.item()\n",
    "\n",
    "    \n",
    "    if (epoch+1) % 20 == 0:\n",
    "\n",
    "        print(f'{epoch + 1}/100, Loss: {total_loss:.4f}')"
   ]
  },
  {
   "cell_type": "markdown",
   "id": "b8f298dd",
   "metadata": {},
   "source": [
    "Output\n",
    "\n",
    "\n",
    "Loss decreasing every 20 epochs\n",
    "Model learns to predict next word using past + future context"
   ]
  }
 ],
 "metadata": {
  "kernelspec": {
   "display_name": "masterxdl",
   "language": "python",
   "name": "python3"
  },
  "language_info": {
   "codemirror_mode": {
    "name": "ipython",
    "version": 3
   },
   "file_extension": ".py",
   "mimetype": "text/x-python",
   "name": "python",
   "nbconvert_exporter": "python",
   "pygments_lexer": "ipython3",
   "version": "3.9.21"
  }
 },
 "nbformat": 4,
 "nbformat_minor": 5
}
