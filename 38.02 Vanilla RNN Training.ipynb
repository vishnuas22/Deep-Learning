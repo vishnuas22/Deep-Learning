{
 "cells": [
  {
   "cell_type": "code",
   "execution_count": null,
   "id": "3211dbea",
   "metadata": {},
   "outputs": [],
   "source": [
    "import torch\n",
    "\n",
    "import torch.nn as nn \n",
    "\n",
    "import torch.optim as optim"
   ]
  },
  {
   "cell_type": "code",
   "execution_count": null,
   "id": "aefee32c",
   "metadata": {},
   "outputs": [],
   "source": [
    "# ----- Setup -----\n",
    "\n"
   ]
  },
  {
   "cell_type": "code",
   "execution_count": null,
   "id": "34d6d37b",
   "metadata": {},
   "outputs": [
    {
     "name": "stdout",
     "output_type": "stream",
     "text": [
      "Epoch 20/100, Loss: 1.7284\n",
      "Epoch 40/100, Loss: 0.3393\n",
      "Epoch 60/100, Loss: 0.1370\n",
      "Epoch 80/100, Loss: 0.0765\n",
      "Epoch 100/100, Loss: 0.0499\n",
      "\n",
      "🧠 Inference after training:\n",
      "Target Characters   : ['B', 'A', 'A', 'D']\n",
      "Predicted Characters: ['B', 'A', 'A', 'D']\n"
     ]
    }
   ],
   "source": [
    "\n",
    "\n",
    "# ----- Setup -----\n",
    "device = torch.device(\"mps\" if torch.backends.mps.is_available() else \"cpu\")\n",
    "chars = ['A', 'B', 'C', 'D']\n",
    "char_to_idx = {ch: i for i, ch in enumerate(chars)}\n",
    "idx_to_char = {i: ch for ch, i in char_to_idx.items()}\n",
    "\n",
    "# Sample input and target\n",
    "input_indices = torch.tensor([2, 1, 0, 0], dtype=torch.long)   # C B A A\n",
    "target_indices = torch.tensor([1, 0, 0, 3], dtype=torch.long)  # B A A D\n",
    "\n",
    "# One-hot encode inputs\n",
    "def one_hot_encode(index, vocab_size):\n",
    "    vec = torch.zeros(vocab_size)\n",
    "    vec[index] = 1.0\n",
    "    return vec\n",
    "\n",
    "vocab_size = len(chars)\n",
    "input_one_hot = torch.stack([one_hot_encode(i, vocab_size) for i in input_indices])\n",
    "input_one_hot = input_one_hot.unsqueeze(1).to(device)  # [seq_len, 1, vocab_size]\n",
    "target_tensor = target_indices.to(device)\n",
    "\n",
    "# ----- Model -----\n",
    "class VanillaRNN(nn.Module):\n",
    "    def __init__(self, input_size, hidden_size, output_size):\n",
    "        super(VanillaRNN, self).__init__()\n",
    "        self.rnn = nn.RNN(input_size, hidden_size)\n",
    "        self.fc = nn.Linear(hidden_size, output_size)\n",
    "        self.softmax = nn.LogSoftmax(dim=1)\n",
    "\n",
    "    def forward(self, input_seq, hidden):\n",
    "        out, hidden = self.rnn(input_seq, hidden)\n",
    "        out = self.fc(out.squeeze(0))  # remove seq_len dimension\n",
    "        out = self.softmax(out)\n",
    "        return out, hidden\n",
    "\n",
    "hidden_size = 8\n",
    "model = VanillaRNN(vocab_size, hidden_size, vocab_size).to(device)\n",
    "\n",
    "# ----- Training -----\n",
    "loss_fn = nn.NLLLoss()\n",
    "optimizer = optim.Adam(model.parameters(), lr=0.01)\n",
    "\n",
    "n_epochs = 100\n",
    "for epoch in range(n_epochs):\n",
    "    hidden = torch.zeros(1, 1, hidden_size).to(device)\n",
    "    total_loss = 0\n",
    "\n",
    "    for i in range(len(input_one_hot)):\n",
    "        optimizer.zero_grad()\n",
    "        inp = input_one_hot[i].unsqueeze(0)  # [1, 1, vocab_size]\n",
    "        out, hidden = model(inp, hidden.detach())\n",
    "        loss = loss_fn(out, target_tensor[i].unsqueeze(0))\n",
    "        loss.backward()\n",
    "        optimizer.step()\n",
    "        total_loss += loss.item()\n",
    "    \n",
    "    if (epoch + 1) % 20 == 0:\n",
    "        print(f\"Epoch {epoch+1}/{n_epochs}, Loss: {total_loss:.4f}\")\n",
    "\n",
    "# ----- Inference -----\n",
    "print(\"\\n🧠 Inference after training:\")\n",
    "hidden = torch.zeros(1, 1, hidden_size).to(device)\n",
    "predicted_indices = []\n",
    "\n",
    "for i in range(len(input_one_hot)):\n",
    "    inp = input_one_hot[i].unsqueeze(0)\n",
    "    output, hidden = model(inp, hidden)\n",
    "    pred_idx = torch.argmax(output, dim=1).item()\n",
    "    predicted_indices.append(pred_idx)\n",
    "\n",
    "predicted_chars = [idx_to_char[i] for i in predicted_indices]\n",
    "target_chars = [idx_to_char[i.item()] for i in target_tensor]\n",
    "\n",
    "print(\"Target Characters   :\", target_chars)\n",
    "print(\"Predicted Characters:\", predicted_chars)\n"
   ]
  }
 ],
 "metadata": {
  "kernelspec": {
   "display_name": "masterxdl",
   "language": "python",
   "name": "python3"
  },
  "language_info": {
   "codemirror_mode": {
    "name": "ipython",
    "version": 3
   },
   "file_extension": ".py",
   "mimetype": "text/x-python",
   "name": "python",
   "nbconvert_exporter": "python",
   "pygments_lexer": "ipython3",
   "version": "3.9.21"
  }
 },
 "nbformat": 4,
 "nbformat_minor": 5
}
