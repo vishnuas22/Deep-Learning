{
 "cells": [
  {
   "cell_type": "code",
   "execution_count": 1,
   "id": "6f485f12",
   "metadata": {},
   "outputs": [],
   "source": [
    "import torch\n",
    "\n",
    "import torch.nn as nn\n",
    "\n",
    "from  torch.nn.utils.rnn import pad_sequence,pad_packed_sequence, pack_padded_sequence"
   ]
  },
  {
   "cell_type": "code",
   "execution_count": 2,
   "id": "398c73d9",
   "metadata": {},
   "outputs": [],
   "source": [
    "# Suppose our vocab: {0: PAD, 1: deep, 2: learning, 3: is, 4: fun, 5: powerful, 6: and}\n",
    "\n",
    "# Variable-length sequences (already tokenized)\n",
    "\n",
    "seqs = [\n",
    "    torch.tensor([1, 2, 3]),          # \"deep learning is\"     → length 3\n",
    "    torch.tensor([4, 6, 5]),          # \"fun and powerful\"     → length 3\n",
    "    torch.tensor([1, 2])              # \"deep learning\"        → length 2\n",
    "]\n",
    "\n",
    "# Lengths before padding\n",
    "seq_lengths = torch.tensor([3, 3, 2])"
   ]
  },
  {
   "cell_type": "markdown",
   "id": "94f44cc1",
   "metadata": {},
   "source": [
    "Padding and Packing"
   ]
  },
  {
   "cell_type": "code",
   "execution_count": 3,
   "id": "5948c800",
   "metadata": {},
   "outputs": [
    {
     "name": "stdout",
     "output_type": "stream",
     "text": [
      "Padded:\n",
      " tensor([[1, 4, 1],\n",
      "        [2, 6, 2],\n",
      "        [3, 5, 0]])\n"
     ]
    }
   ],
   "source": [
    "# Pad sequences (batch_first = False for LSTM default shape)\n",
    "\n",
    "padded_seqs = pad_sequence(seqs, batch_first=False, padding_value=0)\n",
    "\n",
    "print(\"Padded:\\n\",padded_seqs)\n",
    "\n",
    "\n",
    "# Pack them (enables LSTM to skip PADs)\n",
    "\n",
    "packed_input = pack_padded_sequence(padded_seqs, seq_lengths, enforce_sorted=False)"
   ]
  },
  {
   "cell_type": "markdown",
   "id": "5940e1ce",
   "metadata": {},
   "source": [
    "LSTM Definition"
   ]
  },
  {
   "cell_type": "code",
   "execution_count": 4,
   "id": "5e931375",
   "metadata": {},
   "outputs": [],
   "source": [
    "class PackedLSTM(nn.Module):\n",
    "    def __init__(self,vocab_size, embedding_dim, hidden_dim):\n",
    "        super().__init__()\n",
    "\n",
    "        self.embedding = nn.Embedding(vocab_size,embedding_dim, padding_idx=0)\n",
    "\n",
    "        self.lstm = nn.LSTM(embedding_dim, hidden_dim)\n",
    "\n",
    "    \n",
    "    def forward(self, packed_input):\n",
    "\n",
    "        embedded = self.embedding(packed_input.data)   # pack.data is shape [sum(lengths), emb_dim]\n",
    "\n",
    "        packed_embedded = torch.nn.utils.rnn.PackedSequence(embedded, packed_input.batch_sizes)\n",
    "\n",
    "        packed_output,(h_n, c_n) = self.lstm(packed_embedded)\n",
    "\n",
    "        return packed_output, (h_n, c_n)"
   ]
  },
  {
   "cell_type": "markdown",
   "id": "c7e1ecd8",
   "metadata": {},
   "source": [
    "Running the Model"
   ]
  },
  {
   "cell_type": "code",
   "execution_count": 5,
   "id": "88b02c54",
   "metadata": {},
   "outputs": [
    {
     "name": "stdout",
     "output_type": "stream",
     "text": [
      "LSTM output shape (padded): torch.Size([3, 3, 16])\n"
     ]
    }
   ],
   "source": [
    "vocab_size = 7\n",
    "\n",
    "embedding_dim = 8\n",
    "\n",
    "hidden_dim = 16\n",
    "\n",
    "\n",
    "model = PackedLSTM(vocab_size, embedding_dim, hidden_dim)\n",
    "\n",
    "packed_output, (h_n,c_n) = model(packed_input)\n",
    "\n",
    "\n",
    "# To view the output normally (if needed):\n",
    "\n",
    "padded_output, output_lengths = pad_packed_sequence(packed_output,batch_first=False)\n",
    "\n",
    "print(\"LSTM output shape (padded):\", padded_output.shape)"
   ]
  },
  {
   "cell_type": "markdown",
   "id": "770bde0f",
   "metadata": {},
   "source": [
    "| Step                     | Action                                     |\n",
    "| ------------------------ | ------------------------------------------ |\n",
    "| `pad_sequence()`         | Pads all input sequences to match longest. |\n",
    "| `pack_padded_sequence()` | Converts padded input into packed form.    |\n",
    "| `lstm(packed)`           | LSTM processes only the non-padded tokens. |\n",
    "| `pad_packed_sequence()`  | Unpacks the output to padded form again.   |"
   ]
  }
 ],
 "metadata": {
  "kernelspec": {
   "display_name": "masterxdl",
   "language": "python",
   "name": "python3"
  },
  "language_info": {
   "codemirror_mode": {
    "name": "ipython",
    "version": 3
   },
   "file_extension": ".py",
   "mimetype": "text/x-python",
   "name": "python",
   "nbconvert_exporter": "python",
   "pygments_lexer": "ipython3",
   "version": "3.9.21"
  }
 },
 "nbformat": 4,
 "nbformat_minor": 5
}
