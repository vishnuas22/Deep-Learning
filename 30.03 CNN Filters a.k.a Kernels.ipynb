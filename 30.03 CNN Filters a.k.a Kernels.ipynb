{
 "cells": [
  {
   "cell_type": "markdown",
   "metadata": {},
   "source": [
    "Think of filters as feature detectors. Each filter scans over the image and \"activates\" when it detects a specific type of pattern.\n",
    "\n",
    "🧠 Analogy:\n",
    "\n",
    "A filter is like a mini detective magnifying glass that looks for certain clues — edges, textures, corners, etc."
   ]
  },
  {
   "cell_type": "markdown",
   "metadata": {},
   "source": [
    "How It Works\n",
    "\n",
    "A filter is a small matrix (e.g., 3×3 or 5×5) with learnable weights. During convolution:\n",
    "\n",
    "The filter slides (or convolves) over the input image.\n",
    "\n",
    "At each location, it performs an element-wise multiplication with the image patch.\n",
    "\n",
    "The results are summed into a single number — that's your activation at that point.\n",
    "\n",
    "The output is a feature map (or activation map) showing how strongly the pattern appears across the image."
   ]
  },
  {
   "cell_type": "code",
   "execution_count": null,
   "metadata": {},
   "outputs": [],
   "source": [
    "import torch\n",
    "\n",
    "import torch.nn.functional as F\n",
    "\n",
    "import numpy as np\n",
    "\n",
    "import matplotlib.pyplot as plt\n",
    "\n",
    "from torchvision import transforms\n",
    "\n",
    "from PIL import image"
   ]
  },
  {
   "cell_type": "markdown",
   "metadata": {},
   "source": [
    "Take a grayscale image\n",
    "\n",
    "Define 3 custom filters: edge detector, sharpen, and blur\n",
    "\n",
    "Apply them using torch.nn.functional.conv2d to show how filters transform an image\n",
    "\n",
    "Then we'll show what learned filters might look like in a trained CNN.\n"
   ]
  },
  {
   "cell_type": "code",
   "execution_count": null,
   "metadata": {},
   "outputs": [],
   "source": [
    "# Load and preprocess grayscale image\n",
    "\n",
    "img = Image.open(\"https://upload.wikimedia.org/wikipedia/commons/7/7d/Dog_face.png\").convert('L')\n"
   ]
  }
 ],
 "metadata": {
  "kernelspec": {
   "display_name": "masterxdl",
   "language": "python",
   "name": "python3"
  },
  "language_info": {
   "name": "python",
   "version": "3.9.21"
  }
 },
 "nbformat": 4,
 "nbformat_minor": 2
}
