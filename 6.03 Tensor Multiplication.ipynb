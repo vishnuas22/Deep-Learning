{
 "cells": [
  {
   "cell_type": "markdown",
   "metadata": {},
   "source": [
    "There are two types of multiplication in tensors: 1️⃣ Element-wise Multiplication (Hadamard Product)\n",
    "\n",
    "2️⃣ Matrix Multiplication (Dot Product)"
   ]
  },
  {
   "cell_type": "code",
   "execution_count": 16,
   "metadata": {},
   "outputs": [],
   "source": [
    "import torch"
   ]
  },
  {
   "cell_type": "code",
   "execution_count": 17,
   "metadata": {},
   "outputs": [],
   "source": [
    "# Creating two tensors\n",
    "\n",
    "A = torch.tensor([[2,3],\n",
    "                  [4,5]])\n",
    "\n",
    "B = torch.tensor([[2,4],\n",
    "                  [3,6]])\n"
   ]
  },
  {
   "cell_type": "code",
   "execution_count": 18,
   "metadata": {},
   "outputs": [],
   "source": [
    "# Element-wise Multiplication\n",
    "\n",
    "elementwise_mul = A * B # or torch.mul(A,B)\n",
    "\n",
    "# Matrix Multiplication (Dot Product)\n",
    "\n",
    "matrix_mul = torch.mm(A, B.T)  # Transpose B for valid matrix multiplication"
   ]
  },
  {
   "cell_type": "code",
   "execution_count": 19,
   "metadata": {},
   "outputs": [
    {
     "name": "stdout",
     "output_type": "stream",
     "text": [
      "Element-wise Multiplication:\n",
      " tensor([[ 4, 12],\n",
      "        [12, 30]])\n",
      "\n",
      "Matrix Multiplication:\n",
      " tensor([[16, 24],\n",
      "        [28, 42]])\n"
     ]
    }
   ],
   "source": [
    "print(\"Element-wise Multiplication:\\n\", elementwise_mul)\n",
    "\n",
    "print(\"\\nMatrix Multiplication:\\n\", matrix_mul)"
   ]
  }
 ],
 "metadata": {
  "kernelspec": {
   "display_name": "masterxdl",
   "language": "python",
   "name": "python3"
  },
  "language_info": {
   "codemirror_mode": {
    "name": "ipython",
    "version": 3
   },
   "file_extension": ".py",
   "mimetype": "text/x-python",
   "name": "python",
   "nbconvert_exporter": "python",
   "pygments_lexer": "ipython3",
   "version": "3.9.21"
  }
 },
 "nbformat": 4,
 "nbformat_minor": 2
}
