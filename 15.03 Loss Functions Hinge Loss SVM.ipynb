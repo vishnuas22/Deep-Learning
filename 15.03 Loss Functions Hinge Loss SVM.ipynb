{
 "cells": [
  {
   "cell_type": "markdown",
   "metadata": {},
   "source": [
    "Implementation of Hinge Loss in Python using NumPy."
   ]
  },
  {
   "cell_type": "code",
   "execution_count": 52,
   "metadata": {},
   "outputs": [],
   "source": [
    "import numpy as np"
   ]
  },
  {
   "cell_type": "code",
   "execution_count": 53,
   "metadata": {},
   "outputs": [],
   "source": [
    "def hinge_loss(y_true, y_pred):\n",
    "\n",
    "    \"\"\"\n",
    "    Computes Hinge Loss.\n",
    "    y_true: Array of true labels (+1 or -1)\n",
    "    y_pred: Array of predicted scores\n",
    "    \"\"\"\n",
    "    loss = np.maximum(0, 1- y_true * y_pred) \n",
    "\n",
    "    return np.mean(loss)"
   ]
  },
  {
   "cell_type": "code",
   "execution_count": 54,
   "metadata": {},
   "outputs": [],
   "source": [
    "# Example data\n",
    "\n",
    "y_true = np.array([1, -1, 1, -1, 1]) # True Labels\n",
    "\n",
    "y_pred = np.array([0.8, -0.5, 0.9, -0.2, 0.7 ]) # Predicted Scores"
   ]
  },
  {
   "cell_type": "code",
   "execution_count": 55,
   "metadata": {},
   "outputs": [
    {
     "name": "stdout",
     "output_type": "stream",
     "text": [
      "Hinge loss: 0.3800\n"
     ]
    }
   ],
   "source": [
    "loss_value = hinge_loss(y_true, y_pred)\n",
    "\n",
    "print(f'Hinge loss: {loss_value:.4f}')"
   ]
  },
  {
   "cell_type": "markdown",
   "metadata": {},
   "source": [
    " PyTorch Implementation"
   ]
  },
  {
   "cell_type": "code",
   "execution_count": 56,
   "metadata": {},
   "outputs": [],
   "source": [
    "import torch\n",
    "\n",
    "import torch.nn as nn"
   ]
  },
  {
   "cell_type": "code",
   "execution_count": 57,
   "metadata": {},
   "outputs": [],
   "source": [
    "# Convert data to PyTorch tensors\n",
    "\n",
    "y_true_torch = torch.tensor([1, -1, 1, -1, 1], dtype=torch.float32)\n",
    "\n",
    "y_pred_torch = torch.tensor([0.8, -0.5, 0.9, -0.2, 0.7], dtype=torch.float32)"
   ]
  },
  {
   "cell_type": "code",
   "execution_count": 58,
   "metadata": {},
   "outputs": [
    {
     "name": "stdout",
     "output_type": "stream",
     "text": [
      "PyTorch Hinge Loss: 0.3800\n"
     ]
    }
   ],
   "source": [
    "# Hinge Loss in PyTorch\n",
    "\n",
    "hinge_loss_torch = torch.mean(torch.clamp(1 - y_true_torch * y_pred_torch, min=0))\n",
    "\n",
    "print(f\"PyTorch Hinge Loss: {hinge_loss_torch.item():.4f}\")"
   ]
  }
 ],
 "metadata": {
  "kernelspec": {
   "display_name": "masterxdl",
   "language": "python",
   "name": "python3"
  },
  "language_info": {
   "codemirror_mode": {
    "name": "ipython",
    "version": 3
   },
   "file_extension": ".py",
   "mimetype": "text/x-python",
   "name": "python",
   "nbconvert_exporter": "python",
   "pygments_lexer": "ipython3",
   "version": "3.9.21"
  }
 },
 "nbformat": 4,
 "nbformat_minor": 2
}
