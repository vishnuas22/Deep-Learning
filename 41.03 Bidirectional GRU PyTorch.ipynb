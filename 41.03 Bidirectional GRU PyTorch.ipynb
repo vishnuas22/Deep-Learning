{
 "cells": [
  {
   "cell_type": "markdown",
   "id": "23550be6",
   "metadata": {},
   "source": [
    "When to Use BiGRU\n",
    "\n",
    "When both past and future context matters (e.g., for meaning in a sentence).\n",
    "In tasks like:\n",
    "Sentiment analysis\n",
    "Text classification\n",
    "Speech and sequence modeling"
   ]
  },
  {
   "cell_type": "code",
   "execution_count": 1,
   "id": "ef4736cf",
   "metadata": {},
   "outputs": [],
   "source": [
    "import torch\n",
    "\n",
    "import torch.nn as nn"
   ]
  },
  {
   "cell_type": "code",
   "execution_count": 2,
   "id": "626c1ec7",
   "metadata": {},
   "outputs": [],
   "source": [
    "class BiGRUModel(nn.Module):\n",
    "\n",
    "    def __init__(self, vocab_size, embedding_dim, hidden_dim, output_dim, num_layers = 1, dropout = 0.3):\n",
    "        super(BiGRUModel,self).__init__()\n",
    "\n",
    "        self.embedding = nn.Embedding(vocab_size, embedding_dim)\n",
    "\n",
    "        self.gru = nn.GRU(\n",
    "\n",
    "            input_size= embedding_dim,\n",
    "            hidden_size= hidden_dim,\n",
    "            num_layers= num_layers,\n",
    "            batch_first=True,\n",
    "            dropout= dropout if num_layers > 1 else 0,\n",
    "            bidirectional=True\n",
    "        )\n",
    "\n",
    "        self.fc = nn.Linear(hidden_dim * 2, output_dim) # *2 for bidirectional\n",
    "\n",
    "        self.dropout = nn.Dropout(dropout)\n",
    "\n",
    "    def forward(self, x):\n",
    "\n",
    "        embedded = self.dropout(self.embedding(x)) # [batch_size, seq_len, embed_dim]\n",
    "\n",
    "        outputs, hidden = self.gru(embedded) # outputs: [batch_size, seq_len, hidden_dim * 2]\n",
    "\n",
    "        # Concatenate last forward and backward hidden stateforward\n",
    "\n",
    "        forward_hidden = hidden[-2, :, :]  # [batch_size, hidden_dim]\n",
    "\n",
    "        backward_hidden = hidden[-1, :, :]  # [batch_size, hidden_dim]\n",
    "\n",
    "        combined_hidden = torch.cat((forward_hidden, backward_hidden), dim=1) # [batch_size, hidden_dim*2]\n",
    "\n",
    "        return self.fc(combined_hidden)"
   ]
  },
  {
   "cell_type": "markdown",
   "id": "d3ef0751",
   "metadata": {},
   "source": [
    "hidden[-2] → final forward layer\n",
    "hidden[-1] → final backward layer\n",
    "We concatenate them before passing to the linear layer."
   ]
  },
  {
   "cell_type": "code",
   "execution_count": 3,
   "id": "2d045640",
   "metadata": {},
   "outputs": [],
   "source": [
    "model = BiGRUModel(\n",
    "\n",
    "    vocab_size=10000,\n",
    "\n",
    "    embedding_dim=128,\n",
    "\n",
    "    hidden_dim=64,\n",
    "    \n",
    "    output_dim=1  # for binary classification (e.g., sentiment)\n",
    ")\n"
   ]
  }
 ],
 "metadata": {
  "kernelspec": {
   "display_name": "masterxdl",
   "language": "python",
   "name": "python3"
  },
  "language_info": {
   "codemirror_mode": {
    "name": "ipython",
    "version": 3
   },
   "file_extension": ".py",
   "mimetype": "text/x-python",
   "name": "python",
   "nbconvert_exporter": "python",
   "pygments_lexer": "ipython3",
   "version": "3.9.21"
  }
 },
 "nbformat": 4,
 "nbformat_minor": 5
}
