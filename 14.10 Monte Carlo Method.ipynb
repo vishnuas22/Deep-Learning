{
 "cells": [
  {
   "cell_type": "markdown",
   "metadata": {},
   "source": [
    "Monte Carlo methods are probabilistic techniques that rely on random sampling to solve complex problems. These methods are widely used in Deep Learning, Reinforcement Learning, and AI for:\n",
    "\n",
    "Estimating probabilities\n",
    "\n",
    "Approximating integrals\n",
    "\n",
    "Simulating random processes"
   ]
  },
  {
   "cell_type": "markdown",
   "metadata": {},
   "source": [
    "🔹 Real-world Example:\n",
    "\n",
    "🔹 Imagine you want to estimate the value of π (pi) by randomly throwing darts at a square with an inscribed circle. The ratio of darts inside the circle to total darts thrown gives an approximation of π."
   ]
  },
  {
   "cell_type": "markdown",
   "metadata": {},
   "source": [
    "Task:\n",
    "\n",
    "1️⃣ Randomly generate points (x, y) inside a square.\n",
    "\n",
    "2️⃣ Count how many points land inside the inscribed circle.\n",
    "\n",
    "3️⃣ Use the ratio of points inside the circle to estimate π."
   ]
  },
  {
   "cell_type": "code",
   "execution_count": 94,
   "metadata": {},
   "outputs": [],
   "source": [
    "import numpy as np"
   ]
  },
  {
   "cell_type": "code",
   "execution_count": 95,
   "metadata": {},
   "outputs": [],
   "source": [
    "# Number of random points\n",
    "\n",
    "N = 1000"
   ]
  },
  {
   "cell_type": "code",
   "execution_count": 96,
   "metadata": {},
   "outputs": [],
   "source": [
    "# Generate random (x, y) points in range [-1, 1]\n",
    "\n",
    "x = np.random.uniform(-1,1,N)\n",
    "\n",
    "y = np.random.uniform(-1,1,N)"
   ]
  },
  {
   "cell_type": "code",
   "execution_count": 97,
   "metadata": {},
   "outputs": [],
   "source": [
    "# Check if points lie inside the circle (x^2 + y^2 ≤ 1)\n",
    "\n",
    "inside_circle = (x**2 + y**2) <=1"
   ]
  },
  {
   "cell_type": "code",
   "execution_count": 98,
   "metadata": {},
   "outputs": [
    {
     "name": "stdout",
     "output_type": "stream",
     "text": [
      "Estimated π: 3.148\n"
     ]
    }
   ],
   "source": [
    "# Estimate π using ratio of points inside the circle\n",
    "\n",
    "pi_estimate = 4 * np.sum(inside_circle) / N\n",
    "\n",
    "print(f\"Estimated π: {pi_estimate}\")"
   ]
  }
 ],
 "metadata": {
  "kernelspec": {
   "display_name": "masterxdl",
   "language": "python",
   "name": "python3"
  },
  "language_info": {
   "codemirror_mode": {
    "name": "ipython",
    "version": 3
   },
   "file_extension": ".py",
   "mimetype": "text/x-python",
   "name": "python",
   "nbconvert_exporter": "python",
   "pygments_lexer": "ipython3",
   "version": "3.9.21"
  }
 },
 "nbformat": 4,
 "nbformat_minor": 2
}
