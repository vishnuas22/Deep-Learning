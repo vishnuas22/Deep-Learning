{
 "cells": [
  {
   "cell_type": "code",
   "execution_count": 20,
   "metadata": {},
   "outputs": [],
   "source": [
    "import torch\n",
    "\n",
    "import torch.nn as nn\n",
    "\n",
    "import torchvision\n",
    "\n",
    "import torchvision.transforms as transforms\n",
    "\n",
    "from torchvision.models import resnet18\n",
    "\n",
    "from torch.utils.data import DataLoader"
   ]
  },
  {
   "cell_type": "code",
   "execution_count": 21,
   "metadata": {},
   "outputs": [],
   "source": [
    "# Device setup (your MPS for Mac M1 will auto kick in if available)\n",
    "\n",
    "device = torch.device('mps' if torch.backends.mps.is_available() else 'cuda' if torch.cuda.is_available() else 'cpu')"
   ]
  },
  {
   "cell_type": "code",
   "execution_count": 22,
   "metadata": {},
   "outputs": [],
   "source": [
    "# 1. Transforms\n",
    "\n",
    "transform = transforms.Compose([\n",
    "\n",
    "    transforms.Resize((224,224)) ,# ResNet expects 224x224\n",
    "\n",
    "    transforms.ToTensor(),\n",
    "\n",
    "    transforms.Normalize(mean=[0.5]* 3, std=[0.5]* 3)\n",
    "])"
   ]
  },
  {
   "cell_type": "code",
   "execution_count": 23,
   "metadata": {},
   "outputs": [],
   "source": [
    "# 🐶 2. CIFAR10 (We'll simulate Dog vs Not-Dog as two classes)\n",
    "\n",
    "train_dataset = torchvision.datasets.CIFAR10(root='./data', train=True, download=True, transform=transform)\n",
    "\n",
    "test_dataset = torchvision.datasets.CIFAR10(root='./data', train=False, download=True, transform=transform)"
   ]
  },
  {
   "cell_type": "code",
   "execution_count": 24,
   "metadata": {},
   "outputs": [],
   "source": [
    "# Binary classification: dog vs not-dog\n",
    "\n",
    "def binary_target(target):\n",
    "\n",
    "    return 1 if target == 5 else 0  # CIFAR10 class 5 is 'dog'"
   ]
  },
  {
   "cell_type": "code",
   "execution_count": 25,
   "metadata": {},
   "outputs": [],
   "source": [
    "train_dataset.targets = [binary_target(t) for t in train_dataset.targets]\n",
    "\n",
    "test_dataset.targets = [binary_target(t) for t in test_dataset.targets]"
   ]
  },
  {
   "cell_type": "code",
   "execution_count": 26,
   "metadata": {},
   "outputs": [],
   "source": [
    "train_loader = DataLoader(train_dataset, batch_size=64, shuffle=True)\n",
    "\n",
    "test_loader = DataLoader(test_dataset, batch_size=64)"
   ]
  },
  {
   "cell_type": "code",
   "execution_count": 27,
   "metadata": {},
   "outputs": [
    {
     "name": "stderr",
     "output_type": "stream",
     "text": [
      "/opt/anaconda3/envs/masterxdl/lib/python3.9/site-packages/torchvision/models/_utils.py:208: UserWarning: The parameter 'pretrained' is deprecated since 0.13 and may be removed in the future, please use 'weights' instead.\n",
      "  warnings.warn(\n",
      "/opt/anaconda3/envs/masterxdl/lib/python3.9/site-packages/torchvision/models/_utils.py:223: UserWarning: Arguments other than a weight enum or `None` for 'weights' are deprecated since 0.13 and may be removed in the future. The current behavior is equivalent to passing `weights=ResNet18_Weights.IMAGENET1K_V1`. You can also use `weights=ResNet18_Weights.DEFAULT` to get the most up-to-date weights.\n",
      "  warnings.warn(msg)\n"
     ]
    }
   ],
   "source": [
    "# 🧠 3. Load pretrained ResNet18\n",
    "\n",
    "model = resnet18(pretrained=True)"
   ]
  },
  {
   "cell_type": "code",
   "execution_count": 28,
   "metadata": {},
   "outputs": [],
   "source": [
    "# 🧊 4. Freeze all layers first\n",
    "\n",
    "for param in model.parameters():\n",
    "\n",
    "    param.requires_grad = False"
   ]
  },
  {
   "cell_type": "code",
   "execution_count": 29,
   "metadata": {},
   "outputs": [],
   "source": [
    "# 🔓 5. Unfreeze last block (layer4)\n",
    "\n",
    "for param in model.layer4.parameters():\n",
    "\n",
    "    param.requires_grad = True"
   ]
  },
  {
   "cell_type": "code",
   "execution_count": 30,
   "metadata": {},
   "outputs": [],
   "source": [
    "# 🧠 6. Replace the classifier\n",
    "\n",
    "num_ftrs = model.fc.in_features\n",
    "\n",
    "model.fc = nn.Linear(num_ftrs, 1)   # Binary classification (dog vs not-dog)\n",
    "\n",
    "\n",
    "model = model.to(device)"
   ]
  },
  {
   "cell_type": "code",
   "execution_count": 31,
   "metadata": {},
   "outputs": [],
   "source": [
    "# 7. Loss & Optimizer\n",
    "\n",
    "criterion = nn.BCEWithLogitsLoss()\n",
    "\n",
    "optimizer = torch.optim.Adam(filter(lambda p : p.requires_grad, model.parameters()), lr = 1e-4)"
   ]
  },
  {
   "cell_type": "code",
   "execution_count": 32,
   "metadata": {},
   "outputs": [],
   "source": [
    "# 8. Training Loop\n",
    "\n",
    "def train(model, loader, criterion, optimizer):\n",
    "\n",
    "    model.train()\n",
    "\n",
    "    for images , labels in loader:\n",
    "\n",
    "        images, labels = images.to(device), labels.to(device).float().unsqueeze(1)\n",
    "\n",
    "        outputs = model(images)\n",
    "\n",
    "        loss = criterion(outputs, labels)\n",
    "\n",
    "\n",
    "        optimizer.zero_grad()\n",
    "\n",
    "        loss.backward()\n",
    "\n",
    "        optimizer.step()\n",
    "\n",
    "    print(f'Train Loss : {loss.item():.4f}')"
   ]
  },
  {
   "cell_type": "code",
   "execution_count": 33,
   "metadata": {},
   "outputs": [
    {
     "name": "stdout",
     "output_type": "stream",
     "text": [
      "Epoch 1\n",
      "Train Loss : 0.0557\n",
      "Accuracy : 96.70%\n",
      "Epoch 2\n",
      "Train Loss : 0.0127\n",
      "Accuracy : 96.57%\n",
      "Epoch 3\n",
      "Train Loss : 0.0015\n",
      "Accuracy : 96.58%\n"
     ]
    }
   ],
   "source": [
    "# 9. Evaluation\n",
    "\n",
    "def evaluate(model, loader):\n",
    "\n",
    "    model.eval()\n",
    "\n",
    "    correct, total = 0, 0\n",
    "\n",
    "\n",
    "    with torch.no_grad():\n",
    "\n",
    "        for images , labels in loader:\n",
    "\n",
    "                images, labels = images.to(device), labels.to(device)\n",
    "\n",
    "                outputs = torch.sigmoid(model(images)).squeeze()\n",
    "\n",
    "                preds = (outputs > 0.5).long()\n",
    "\n",
    "                correct += (preds == labels).sum().item()\n",
    "\n",
    "                total += labels.size(0)\n",
    "\n",
    "        \n",
    "    print(f'Accuracy : {100 * correct / total:.2f}%')\n",
    "\n",
    "\n",
    "\n",
    "#  10. Run Training\n",
    "\n",
    "for epoch in range(3):\n",
    "     \n",
    "\n",
    "    print(f'Epoch {epoch +1}')\n",
    "\n",
    "    train(model, train_loader, criterion, optimizer)\n",
    "\n",
    "    evaluate(model, test_loader)"
   ]
  }
 ],
 "metadata": {
  "kernelspec": {
   "display_name": "masterxdl",
   "language": "python",
   "name": "python3"
  },
  "language_info": {
   "codemirror_mode": {
    "name": "ipython",
    "version": 3
   },
   "file_extension": ".py",
   "mimetype": "text/x-python",
   "name": "python",
   "nbconvert_exporter": "python",
   "pygments_lexer": "ipython3",
   "version": "3.9.21"
  }
 },
 "nbformat": 4,
 "nbformat_minor": 2
}
