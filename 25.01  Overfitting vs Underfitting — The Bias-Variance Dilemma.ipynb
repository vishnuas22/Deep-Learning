{
 "cells": [
  {
   "cell_type": "markdown",
   "metadata": {},
   "source": [
    "This is where models either fail to learn or learn too much, both hurting generalization."
   ]
  },
  {
   "cell_type": "markdown",
   "metadata": {},
   "source": [
    "🔍 What is Overfitting?\n",
    "\n",
    "The model memorizes the training data, including noise/outliers, and performs poorly on new data.\n",
    "\n",
    "✅ Low training error\n",
    "❌ High validation/test error\n",
    "❌ Poor generalization\n",
    "\n",
    "Symptoms:\n",
    "\n",
    "Excellent accuracy on training\n",
    "Terrible accuracy on unseen data\n",
    "Visual:\n",
    "Decision boundary is too complex (overreacts to every point)"
   ]
  },
  {
   "cell_type": "markdown",
   "metadata": {},
   "source": [
    "🧊 What is Underfitting?\n",
    "\n",
    "The model is too simple to capture the underlying patterns in data.\n",
    "❌ High training error\n",
    "❌ High validation/test error\n",
    "\n",
    "Symptoms:\n",
    "\n",
    "Poor accuracy on both training and test\n",
    "Model can’t capture patterns even on training set\n",
    "Visual:\n",
    "Decision boundary is too simple (e.g., linear line on non-linear data)"
   ]
  },
  {
   "cell_type": "markdown",
   "metadata": {},
   "source": [
    "⚖️ Ideal Case: Good Generalization\n",
    "\n",
    "✅ Low training loss\n",
    "✅ Low validation loss\n",
    "The model learns true patterns, not noise."
   ]
  },
  {
   "cell_type": "markdown",
   "metadata": {},
   "source": [
    "🔄 Bias-Variance Tradeoff:\n",
    "\n",
    "Term\t                Description\n",
    "High Bias\t            Model is too simple → Underfitting\n",
    "High Variance\t        Model is too complex → Overfitting\n",
    "Goal\t                Find the sweet spot with low bias + low variance"
   ]
  },
  {
   "cell_type": "markdown",
   "metadata": {},
   "source": [
    " How to Prevent Overfitting?\n",
    "\n",
    "\n",
    "Technique\t            Description\n",
    "Regularization\t        L1/L2, Dropout, etc.\n",
    "Early Stopping\t        Stop training when val loss stops improving\n",
    "More Data\t            Feed more real-world samples\n",
    "Data Augmentation\t    Add variety artificially\n",
    "Simplify Model\t        Reduce layers/parameters\n",
    "Batch Normalization\t    More stable and less overfit"
   ]
  }
 ],
 "metadata": {
  "language_info": {
   "name": "python"
  }
 },
 "nbformat": 4,
 "nbformat_minor": 2
}
