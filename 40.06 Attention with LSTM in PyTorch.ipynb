{
 "cells": [
  {
   "cell_type": "markdown",
   "id": "3ea28223",
   "metadata": {},
   "source": [
    "Architecture Overview\n",
    "\n",
    "Encoder: Bi-directional LSTM to get rich context from both directions.\n",
    "Attention: Dot-product between decoder hidden state and all encoder outputs.\n",
    "Decoder: LSTM + Attention context → predicts next word."
   ]
  },
  {
   "cell_type": "code",
   "execution_count": null,
   "id": "8c44d045",
   "metadata": {},
   "outputs": [],
   "source": [
    "import torch\n",
    "\n",
    "import torch.nn as nn \n",
    "\n",
    "import torch.nn.functional as F"
   ]
  },
  {
   "cell_type": "markdown",
   "id": "0fd905de",
   "metadata": {},
   "source": [
    "Encoder with Bi-LSTM"
   ]
  },
  {
   "cell_type": "code",
   "execution_count": null,
   "id": "97d6bf1e",
   "metadata": {},
   "outputs": [],
   "source": [
    "class Encoder(nn.Module):\n",
    "    def __init__(self, vocab_size, embed_dim, hidden_dim):\n",
    "        super(Encoder,self).__init__()\n",
    "\n",
    "        self.embedding = nn.Embedding(vocab_size, embed_dim)\n",
    "\n",
    "        self.lstm(nn.LSTM(embed_dim, hidden_dim, batch_first=True, bidirectional=True))\n",
    "\n",
    "    \n",
    "    def forward(self,x):\n",
    "\n",
    "        embedded = self.embedding(x) # [B, T, E]\n",
    "\n",
    "        outputs , (h_n,c_n) = self.lstm(embedded)  # outputs: [B, T, 2H]\n",
    "\n",
    "        return outputs, (h_n,c_n)  # Return all encoder outputs + final hidden states"
   ]
  },
  {
   "cell_type": "markdown",
   "id": "d73d32fa",
   "metadata": {},
   "source": [
    "Attention Mechanism"
   ]
  },
  {
   "cell_type": "code",
   "execution_count": null,
   "id": "f102d01c",
   "metadata": {},
   "outputs": [],
   "source": [
    "class Attention(nn.Module):\n",
    "\n",
    "    def __init__(self,hidden_dim):\n",
    "        super(Attention,self).__init__()\n",
    "\n",
    "        self.hidden_dim = hidden_dim\n",
    "\n",
    "    def forward(decoder_hidden, encoder_outputs):\n",
    "\n",
    "            # input_token: [B], decoder_hidden: ([1, B, H], [1, B, H])\n",
    "\n",
    "            scores = torch.bmm(encoder_outputs, decoder_hidden.unsqueeze(2)).squeeze(2) # [B, T]\n",
    "\n",
    "            attn_weights = F.softmax(scores, dim=1) # [B, T]\n",
    "\n",
    "            context = torch.bmm(attn_weights.unsqueeze(1), encoder_outputs).squeeze(1) # [B, 2H]\n",
    "\n",
    "            return context, attn_weights"
   ]
  }
 ],
 "metadata": {
  "kernelspec": {
   "display_name": "masterxdl",
   "language": "python",
   "name": "python3"
  },
  "language_info": {
   "name": "python",
   "version": "3.9.21"
  }
 },
 "nbformat": 4,
 "nbformat_minor": 5
}
