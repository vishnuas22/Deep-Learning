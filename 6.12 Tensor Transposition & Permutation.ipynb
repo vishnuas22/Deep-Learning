{
 "cells": [
  {
   "cell_type": "markdown",
   "metadata": {},
   "source": [
    "Task:\n",
    "\n",
    "🔹 Create a (2×3) tensor\n",
    "\n",
    "🔹 Transpose to (3×2)\n",
    "\n",
    "🔹 Permute to (1×2×3) and (3×2×1)"
   ]
  },
  {
   "cell_type": "code",
   "execution_count": 6,
   "metadata": {},
   "outputs": [],
   "source": [
    "import torch"
   ]
  },
  {
   "cell_type": "code",
   "execution_count": 7,
   "metadata": {},
   "outputs": [],
   "source": [
    "D = torch.tensor([[1,2,3],[4,5,6]])"
   ]
  },
  {
   "cell_type": "code",
   "execution_count": 8,
   "metadata": {},
   "outputs": [],
   "source": [
    "# Transpose rows & columns\n",
    "\n",
    "D_T = D.T # Same as D.transpose(0,1)"
   ]
  },
  {
   "cell_type": "code",
   "execution_count": 9,
   "metadata": {},
   "outputs": [],
   "source": [
    "# Permute dimensions\n",
    "\n",
    "D_P1 = D.reshape(1,2,3)\n",
    "\n",
    "D_P2 = D.reshape(3,2,1)"
   ]
  },
  {
   "cell_type": "code",
   "execution_count": 10,
   "metadata": {},
   "outputs": [
    {
     "name": "stdout",
     "output_type": "stream",
     "text": [
      "\n",
      "Original Tensor:\n",
      " tensor([[1, 2, 3],\n",
      "        [4, 5, 6]])\n",
      "\n",
      "Transposed (3x2):\n",
      " tensor([[1, 4],\n",
      "        [2, 5],\n",
      "        [3, 6]])\n",
      "\n",
      "Permuted to (1x2x3):\n",
      " tensor([[[1, 2, 3],\n",
      "         [4, 5, 6]]])\n",
      "\n",
      "Permuted to (3x2x1):\n",
      " tensor([[[1],\n",
      "         [2]],\n",
      "\n",
      "        [[3],\n",
      "         [4]],\n",
      "\n",
      "        [[5],\n",
      "         [6]]])\n"
     ]
    }
   ],
   "source": [
    "print(\"\\nOriginal Tensor:\\n\", D)\n",
    "\n",
    "print(\"\\nTransposed (3x2):\\n\", D_T)\n",
    "\n",
    "print(\"\\nPermuted to (1x2x3):\\n\", D_P1)\n",
    "\n",
    "print(\"\\nPermuted to (3x2x1):\\n\", D_P2)"
   ]
  }
 ],
 "metadata": {
  "kernelspec": {
   "display_name": "masterxdl",
   "language": "python",
   "name": "python3"
  },
  "language_info": {
   "codemirror_mode": {
    "name": "ipython",
    "version": 3
   },
   "file_extension": ".py",
   "mimetype": "text/x-python",
   "name": "python",
   "nbconvert_exporter": "python",
   "pygments_lexer": "ipython3",
   "version": "3.9.21"
  }
 },
 "nbformat": 4,
 "nbformat_minor": 2
}
