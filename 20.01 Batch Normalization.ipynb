{
 "cells": [
  {
   "cell_type": "markdown",
   "metadata": {},
   "source": [
    "1️⃣ Compute Mean & Variance over the mini-batch:\n",
    "\n",
    "2️⃣ Normalize:\n",
    "\n",
    "3️⃣ Scale & Shift (to allow the network to learn optimal distributions):"
   ]
  },
  {
   "cell_type": "code",
   "execution_count": 250,
   "metadata": {},
   "outputs": [],
   "source": [
    "import torch\n",
    "\n",
    "import torch.nn as nn \n",
    "\n",
    "import torch.optim as optim\n",
    "\n",
    "import matplotlib.pyplot as plt"
   ]
  },
  {
   "cell_type": "markdown",
   "metadata": {},
   "source": [
    "✅ Without Batch Normalization"
   ]
  },
  {
   "cell_type": "markdown",
   "metadata": {},
   "source": [
    "train a simple neural network without BN and check its training behavior."
   ]
  },
  {
   "cell_type": "code",
   "execution_count": 251,
   "metadata": {},
   "outputs": [],
   "source": [
    "# Generate toy dataset\n",
    "\n",
    "X = torch.randn(1000,2)\n",
    "\n",
    "y = (X[:,0] * X[:,1] > 0).float().unsqueeze(1) # XOR-like dataset"
   ]
  },
  {
   "cell_type": "code",
   "execution_count": 252,
   "metadata": {},
   "outputs": [],
   "source": [
    "# Define Neural Network without BatchNorm\n",
    "\n",
    "class SimpleNN(nn.Module):\n",
    "\n",
    "    def __init__(self):\n",
    "        super(SimpleNN, self).__init__()\n",
    "\n",
    "        self.fc1 = nn.Linear(2,4)\n",
    "\n",
    "        self.fc2 = nn.Linear(4,1)\n",
    "\n",
    "        self.activation = nn.ReLU()\n",
    "\n",
    "    def forward(self, x):\n",
    "\n",
    "        x = self.activation(self.fc1(x))\n",
    "\n",
    "        x = self.fc2(x)\n",
    "\n",
    "        return x"
   ]
  },
  {
   "cell_type": "code",
   "execution_count": 253,
   "metadata": {},
   "outputs": [],
   "source": [
    "# Model, loss, optimizer\n",
    "\n",
    "model = SimpleNN()\n",
    "\n",
    "loss_fn = nn.BCEWithLogitsLoss()\n",
    "\n",
    "optimizer = optim.Adam(model.parameters(), lr=0.01)"
   ]
  },
  {
   "cell_type": "code",
   "execution_count": 254,
   "metadata": {},
   "outputs": [
    {
     "name": "stdout",
     "output_type": "stream",
     "text": [
      "Epoch 0, Loss: 0.6810892820358276\n",
      "Epoch 50, Loss: 0.5084081888198853\n",
      "Epoch 100, Loss: 0.3854886293411255\n",
      "Epoch 150, Loss: 0.3138124346733093\n",
      "Epoch 200, Loss: 0.26569610834121704\n",
      "Epoch 250, Loss: 0.23140519857406616\n",
      "Epoch 300, Loss: 0.20534874498844147\n",
      "Epoch 350, Loss: 0.18535250425338745\n",
      "Epoch 400, Loss: 0.169235497713089\n",
      "Epoch 450, Loss: 0.1557258516550064\n"
     ]
    }
   ],
   "source": [
    "# Training loop\n",
    "\n",
    "losses = []\n",
    "\n",
    "for epoch in range(500):\n",
    "\n",
    "    optimizer.zero_grad()\n",
    "\n",
    "    predictions = model(X)\n",
    "\n",
    "    loss = loss_fn(predictions, y)\n",
    "\n",
    "    loss.backward()\n",
    " \n",
    "    optimizer.step()\n",
    "\n",
    "\n",
    "    losses.append(loss.item())\n",
    "\n",
    "    if epoch % 50 == 0:  \n",
    "        print(f\"Epoch {epoch}, Loss: {loss.item()}\")\n"
   ]
  },
  {
   "cell_type": "code",
   "execution_count": 255,
   "metadata": {},
   "outputs": [
    {
     "data": {
      "image/png": "[encoded data removed]",
      "text/plain": [
       "<Figure size 640x480 with 1 Axes>"
      ]
     },
     "metadata": {},
     "output_type": "display_data"
    }
   ],
   "source": [
    "\n",
    "plt.plot(losses, label='Without BatchNorm', color='blue', linestyle='dashdot')  # Add markers to check points\n",
    "\n",
    "plt.xlabel('Epochs')\n",
    "\n",
    "plt.ylabel('Loss')\n",
    "\n",
    "plt.legend()\n",
    "\n",
    "plt.show()"
   ]
  },
  {
   "cell_type": "markdown",
   "metadata": {},
   "source": [
    "✅ With Batch Normalization"
   ]
  },
  {
   "cell_type": "code",
   "execution_count": 256,
   "metadata": {},
   "outputs": [],
   "source": [
    "class SimpleNN_BN(nn.Module):\n",
    "\n",
    "    def __init__(self):\n",
    "        super(SimpleNN_BN, self).__init__()\n",
    "\n",
    "        self.fc1 = nn.Linear(2,4)\n",
    "\n",
    "        self.bn1 = nn.BatchNorm1d(4) # Batch Normalization Layer\n",
    "\n",
    "        self.fc2 = nn.Linear(4,1)\n",
    "\n",
    "        self.activation = nn.ReLU()\n",
    "\n",
    "    def forward(self, x):\n",
    "\n",
    "        x = self.activation(self.bn1(self.fc1(x))) # Apply BatchNorm after Linear \n",
    "\n",
    "        x = self.fc2(x)\n",
    "\n",
    "        return x"
   ]
  },
  {
   "cell_type": "code",
   "execution_count": 257,
   "metadata": {},
   "outputs": [],
   "source": [
    "# Train the model with BatchNorm\n",
    "\n",
    "model_BN = SimpleNN_BN()\n",
    "\n",
    "optimizer_BN = optim.Adam(model_BN.parameters(), lr=0.01)"
   ]
  },
  {
   "cell_type": "code",
   "execution_count": 258,
   "metadata": {},
   "outputs": [
    {
     "name": "stdout",
     "output_type": "stream",
     "text": [
      "Epoch 0, Loss: 0.7188059091567993\n",
      "Epoch 50, Loss: 0.5749606490135193\n",
      "Epoch 100, Loss: 0.5135354995727539\n",
      "Epoch 150, Loss: 0.484733909368515\n",
      "Epoch 200, Loss: 0.4683380126953125\n",
      "Epoch 250, Loss: 0.4566561281681061\n",
      "Epoch 300, Loss: 0.4478367269039154\n",
      "Epoch 350, Loss: 0.44086703658103943\n",
      "Epoch 400, Loss: 0.4354263246059418\n",
      "Epoch 450, Loss: 0.43081867694854736\n"
     ]
    }
   ],
   "source": [
    "losses_BN = []\n",
    "\n",
    "for epoch in range(500):\n",
    "\n",
    "    optimizer_BN.zero_grad()\n",
    "\n",
    "    predictions  = model_BN(X)\n",
    "\n",
    "    loss = loss_fn(predictions,y)\n",
    "\n",
    "    loss.backward()\n",
    "\n",
    "    optimizer_BN.step()\n",
    "\n",
    "    losses_BN.append(loss.item())\n",
    "\n",
    "    if epoch % 50 == 0:  \n",
    "        print(f\"Epoch {epoch}, Loss: {loss.item()}\")"
   ]
  },
  {
   "cell_type": "code",
   "execution_count": 259,
   "metadata": {},
   "outputs": [
    {
     "data": {
      "image/png": "[encoded data removed]",
      "text/plain": [
       "<Figure size 640x480 with 1 Axes>"
      ]
     },
     "metadata": {},
     "output_type": "display_data"
    }
   ],
   "source": [
    "plt.plot(losses_BN, label='With Batch Normalization', color='red', linestyle='-')\n",
    "\n",
    "plt.xlabel('Epochs')\n",
    "\n",
    "plt.ylabel('Loss')\n",
    "\n",
    "plt.legend()\n",
    "\n",
    "plt.show()"
   ]
  },
  {
   "cell_type": "markdown",
   "metadata": {},
   "source": [
    "📝 Observations\n",
    "\n",
    "1️⃣ Without BN\n",
    "\n",
    "Training fluctuates more\n",
    "Convergence is slower\n",
    "\n",
    "2️⃣ With BN\n",
    "\n",
    "Smoother training curve\n",
    "Faster convergence\n",
    "Less dependency on learning rate tuning\n"
   ]
  },
  {
   "cell_type": "markdown",
   "metadata": {},
   "source": [
    "📌 When to Use Batch Normalization?\n",
    "\n",
    "✅ Deep Networks (helps stabilize training)\n",
    "✅ When dealing with varying input distributions\n",
    "✅ To reduce dependence on initialization\n",
    "✅ To regularize models (can reduce need for dropout)"
   ]
  },
  {
   "cell_type": "markdown",
   "metadata": {},
   "source": [
    "Batch Normalization normalizes activations to improve stability, speed, and regularization. \n",
    "It is most useful in deep networks, allowing for faster and more stable training."
   ]
  }
 ],
 "metadata": {
  "kernelspec": {
   "display_name": "masterxdl",
   "language": "python",
   "name": "python3"
  },
  "language_info": {
   "codemirror_mode": {
    "name": "ipython",
    "version": 3
   },
   "file_extension": ".py",
   "mimetype": "text/x-python",
   "name": "python",
   "nbconvert_exporter": "python",
   "pygments_lexer": "ipython3",
   "version": "3.9.21"
  }
 },
 "nbformat": 4,
 "nbformat_minor": 2
}
