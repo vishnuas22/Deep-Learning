{
 "cells": [
  {
   "cell_type": "markdown",
   "metadata": {},
   "source": [
    "Understanding how we feed data into the neural network impacts training speed, stability, and generalization"
   ]
  },
  {
   "cell_type": "markdown",
   "metadata": {},
   "source": [
    "🧪 Intuition:\n",
    "\n",
    "Imagine climbing a hill (loss function surface):\n",
    "\n",
    "🟦 Batch: You analyze the whole mountain before taking a step — stable but slow.\n",
    "\n",
    "🟥 Stochastic: You take a wild step after seeing just one rock — fast but jittery.\n",
    "\n",
    "🟩 Mini-Batch: You study a portion of the slope before stepping — fast & more stable."
   ]
  },
  {
   "cell_type": "code",
   "execution_count": 101,
   "metadata": {},
   "outputs": [],
   "source": [
    "import torch\n",
    "\n",
    "from torch import nn\n",
    "\n",
    "from torch.utils.data import DataLoader, TensorDataset"
   ]
  },
  {
   "cell_type": "code",
   "execution_count": 102,
   "metadata": {},
   "outputs": [],
   "source": [
    "# Sample Dataset\n",
    "\n",
    "X = torch.tensor([[0.], [1.],[2.],[3.],[4.],[5.]], dtype=torch.float32)\n",
    "\n",
    "y = 2 * X + 1 # y = 2X + 1"
   ]
  },
  {
   "cell_type": "code",
   "execution_count": 103,
   "metadata": {},
   "outputs": [],
   "source": [
    "dataset = TensorDataset(X,y)"
   ]
  },
  {
   "cell_type": "code",
   "execution_count": 104,
   "metadata": {},
   "outputs": [],
   "source": [
    "# Try different batch sizes here: 1 (SGD), 6 (Batch), 2 or 3 (Mini-Batch)\n",
    "\n",
    "loader = DataLoader(dataset, batch_size=6 ,shuffle=True)"
   ]
  },
  {
   "cell_type": "code",
   "execution_count": 105,
   "metadata": {},
   "outputs": [
    {
     "name": "stdout",
     "output_type": "stream",
     "text": [
      "Epoch : 1, Loss : 25.2862\n",
      "Epoch : 2, Loss : 23.9892\n",
      "Epoch : 3, Loss : 22.7593\n",
      "Epoch : 4, Loss : 21.5932\n",
      "Epoch : 5, Loss : 20.4874\n",
      "Epoch : 6, Loss : 19.4386\n",
      "Epoch : 7, Loss : 18.4440\n",
      "Epoch : 8, Loss : 17.5007\n",
      "Epoch : 9, Loss : 16.6059\n",
      "Epoch : 10, Loss : 15.7572\n"
     ]
    }
   ],
   "source": [
    "model = nn.Linear(1,1)\n",
    "\n",
    "loss_fn = nn.MSELoss()\n",
    "\n",
    "optimizer = torch.optim.SGD(model.parameters(), lr=0.1)\n",
    "\n",
    "\n",
    "for epoch in range(10):\n",
    "\n",
    "    for xb,yb in loader:\n",
    "\n",
    "        pred = model(xb)\n",
    "\n",
    "        loss = loss_fn(pred, yb)\n",
    "\n",
    "        optimizer.zero_grad()\n",
    "\n",
    "        loss.backward()\n",
    "\n",
    "        optimizer.step()\n",
    "\n",
    "    print(f'Epoch : {epoch + 1}, Loss : {loss.item():.4f}')"
   ]
  },
  {
   "cell_type": "markdown",
   "metadata": {},
   "source": [
    "Summary Visual (Mentally Picture):"
   ]
  },
  {
   "cell_type": "markdown",
   "metadata": {},
   "source": [
    "Batch GD       → 🐢 Steady but slow and memory heavy  \n",
    "SGD            → 🐇 Fast but noisy and unstable  \n",
    "Mini-Batch GD  → 🦊 Fast and stable (Gold Standard)"
   ]
  }
 ],
 "metadata": {
  "kernelspec": {
   "display_name": "masterxdl",
   "language": "python",
   "name": "python3"
  },
  "language_info": {
   "codemirror_mode": {
    "name": "ipython",
    "version": 3
   },
   "file_extension": ".py",
   "mimetype": "text/x-python",
   "name": "python",
   "nbconvert_exporter": "python",
   "pygments_lexer": "ipython3",
   "version": "3.9.21"
  }
 },
 "nbformat": 4,
 "nbformat_minor": 2
}
