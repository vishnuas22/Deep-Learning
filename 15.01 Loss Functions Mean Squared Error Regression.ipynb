{
 "cells": [
  {
   "cell_type": "markdown",
   "metadata": {},
   "source": [
    "💡 Formula:\n",
    "MSE= 1/n ∑(y_true − y_pred)^2\n",
    " \n",
    "Measures the average squared difference between true and predicted values.\n",
    "\n",
    "Use case: Regression problems (predicting continuous values).\n",
    "\n",
    "👉 Why Squaring?\n",
    "Squaring penalizes larger errors more than smaller ones, forcing the model to focus on big mistakes.\n"
   ]
  },
  {
   "cell_type": "code",
   "execution_count": 1,
   "metadata": {},
   "outputs": [],
   "source": [
    "import torch\n",
    "\n",
    "import torch.nn as nn"
   ]
  },
  {
   "cell_type": "code",
   "execution_count": 2,
   "metadata": {},
   "outputs": [],
   "source": [
    "# True and predicted values\n",
    "\n",
    "y_true = torch.tensor([3.0, -0.5, 2.0, 7.0])\n",
    "\n",
    "y_pred = torch.tensor([2.5, 0.0, 2.0, 8.0])"
   ]
  },
  {
   "cell_type": "code",
   "execution_count": 3,
   "metadata": {},
   "outputs": [
    {
     "name": "stdout",
     "output_type": "stream",
     "text": [
      "MSE Loss: 0.375\n"
     ]
    }
   ],
   "source": [
    "# Define MSE loss function\n",
    "\n",
    "mse_loss = nn.MSELoss()\n",
    "\n",
    "loss = mse_loss(y_pred, y_true)\n",
    "\n",
    "print(\"MSE Loss:\", loss.item())"
   ]
  },
  {
   "cell_type": "code",
   "execution_count": 4,
   "metadata": {},
   "outputs": [
    {
     "name": "stdout",
     "output_type": "stream",
     "text": [
      "Manually Computed MSE: 0.375\n"
     ]
    }
   ],
   "source": [
    "# Manual MSE calculation\n",
    "\n",
    "mse_manual = torch.mean((y_true - y_pred) ** 2)\n",
    "\n",
    "print(\"Manually Computed MSE:\", mse_manual.item())\n"
   ]
  }
 ],
 "metadata": {
  "kernelspec": {
   "display_name": "masterxdl",
   "language": "python",
   "name": "python3"
  },
  "language_info": {
   "codemirror_mode": {
    "name": "ipython",
    "version": 3
   },
   "file_extension": ".py",
   "mimetype": "text/x-python",
   "name": "python",
   "nbconvert_exporter": "python",
   "pygments_lexer": "ipython3",
   "version": "3.9.21"
  }
 },
 "nbformat": 4,
 "nbformat_minor": 2
}
