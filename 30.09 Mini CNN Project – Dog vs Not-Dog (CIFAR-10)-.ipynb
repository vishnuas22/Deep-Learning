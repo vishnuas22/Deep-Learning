{
 "cells": [
  {
   "cell_type": "code",
   "execution_count": 34,
   "metadata": {},
   "outputs": [],
   "source": [
    "import torch \n",
    "\n",
    "import torch.nn as nn \n",
    "\n",
    "import torch.nn.functional as F\n",
    "\n",
    "import torchvision\n",
    "\n",
    "import numpy as np\n",
    "\n",
    "import matplotlib.pyplot as plt\n",
    "\n",
    "from  torchvision import datasets, transforms\n",
    "\n",
    "from torch.utils.data import DataLoader, Subset\n",
    "\n"
   ]
  },
  {
   "cell_type": "markdown",
   "metadata": {},
   "source": [
    "Step 1: Filter CIFAR-10 for Dog vs Not-Dog"
   ]
  },
  {
   "cell_type": "code",
   "execution_count": 35,
   "metadata": {},
   "outputs": [],
   "source": [
    "# Transform: Convert to tensor and normalize (grayscale optional)\n",
    "\n",
    "transform = transforms.Compose([\n",
    "\n",
    "    transforms.ToTensor(),\n",
    "\n",
    "    transforms.Normalize((0.5),(0.5))\n",
    "])"
   ]
  },
  {
   "cell_type": "code",
   "execution_count": 36,
   "metadata": {},
   "outputs": [],
   "source": [
    "# Load Full CIFAR-10\n",
    "\n",
    "train_set = torchvision.datasets.CIFAR10(root='.data', train=True, download='True',transform=transform)\n",
    "\n",
    "test_set = torchvision.datasets.CIFAR10(root='.data', train=False, download='True',transform=transform)"
   ]
  },
  {
   "cell_type": "code",
   "execution_count": 37,
   "metadata": {},
   "outputs": [],
   "source": [
    "# Label map\n",
    "\n",
    "dog_class_index = train_set.class_to_idx['dog']"
   ]
  },
  {
   "cell_type": "code",
   "execution_count": 38,
   "metadata": {},
   "outputs": [],
   "source": [
    "# Function to convert to binary Dog vs Not-Dog\n",
    "\n",
    "def binary_target(dataset):\n",
    "\n",
    "    binary_targets = torch.tensor([1 if label==dog_class_index else 0 for _,label in dataset])\n",
    "\n",
    "    return binary_targets"
   ]
  },
  {
   "cell_type": "code",
   "execution_count": 39,
   "metadata": {},
   "outputs": [],
   "source": [
    "# Create new datasets with binary labels\n",
    "\n",
    "train_binary_targets = binary_target(train_set)\n",
    "\n",
    "test_binary_targets = binary_target(test_set)"
   ]
  },
  {
   "cell_type": "code",
   "execution_count": 40,
   "metadata": {},
   "outputs": [],
   "source": [
    "# Attach binary labels manually (hack for now)\n",
    "\n",
    "train_set.targets = train_binary_targets.tolist()\n",
    "\n",
    "test_set.targets = test_binary_targets.tolist()"
   ]
  },
  {
   "cell_type": "code",
   "execution_count": 41,
   "metadata": {},
   "outputs": [
    {
     "name": "stdout",
     "output_type": "stream",
     "text": [
      " Binary Dog-vs-Not-Dog dataset is ready!\n"
     ]
    }
   ],
   "source": [
    "# Wrap in DataLoader\n",
    "\n",
    "train_loader = DataLoader(train_set, batch_size=64, shuffle=True)\n",
    "\n",
    "test_loader = DataLoader(test_set, batch_size=64, shuffle=False)\n",
    "\n",
    "print(\" Binary Dog-vs-Not-Dog dataset is ready!\")\n"
   ]
  },
  {
   "cell_type": "markdown",
   "metadata": {},
   "source": [
    "Step 2: CNN Architecture for Binary Classification"
   ]
  },
  {
   "cell_type": "markdown",
   "metadata": {},
   "source": [
    "CNN Architecture"
   ]
  },
  {
   "cell_type": "markdown",
   "metadata": {},
   "source": [
    "Two convolutional layers\n",
    "Max pooling\n",
    "ReLU activations\n",
    "Fully connected output with sigmoid (for binary classification)\n",
    "Conv(1 → 8) → ReLU → MaxPool\n",
    "Conv(8 → 16) → ReLU → MaxPool\n",
    "Flatten → FC(16×6×6 → 32) → ReLU → FC(32 → 2)"
   ]
  },
  {
   "cell_type": "code",
   "execution_count": 42,
   "metadata": {},
   "outputs": [],
   "source": [
    "class DogCNN(nn.Module):\n",
    "\n",
    "    def __init__(self):\n",
    "        super(DogCNN,self).__init__()\n",
    "\n",
    "        self.conv1 = nn.Conv2d(3, 16 , kernel_size=3, padding=1) \n",
    "\n",
    "        self.pool = nn.MaxPool2d(2,2) \n",
    "\n",
    "        self.conv2 = nn.Conv2d(16, 32 , kernel_size=3, padding=1)  \n",
    "\n",
    "\n",
    "        self.fc1 = nn.Linear(32 * 8 * 8, 128)\n",
    "\n",
    "        self.fc2 = nn.Linear(128, 1)  # Binary Output\n",
    "\n",
    "\n",
    "\n",
    "    def forward(self,x):\n",
    "\n",
    "        x = self.pool(F.relu(self.conv1(x))) # Conv1 + ReLU + Pool    # [B, 16, 16, 16]\n",
    "\n",
    "        x = self.pool(F.relu(self.conv2(x)))  # Conv2 + ReLU + Pool   [B, 32, 8, 8]\n",
    "\n",
    "        x = x.view(-1, 32 * 8 * 8)   # Flatten\n",
    "\n",
    "        x = F.relu(self.fc1(x)) # FC1 + ReLU\n",
    "\n",
    "        x = torch.sigmoid(self.fc2(x))  # Output between 0 and 1\n",
    "\n",
    "\n",
    "        return x"
   ]
  },
  {
   "cell_type": "markdown",
   "metadata": {},
   "source": [
    "Instantiate the Model"
   ]
  },
  {
   "cell_type": "markdown",
   "metadata": {},
   "source": [
    "define the loss function and optimizer:"
   ]
  },
  {
   "cell_type": "markdown",
   "metadata": {},
   "source": [
    "Step 3: Training Setup"
   ]
  },
  {
   "cell_type": "code",
   "execution_count": 43,
   "metadata": {},
   "outputs": [],
   "source": [
    "model = DogCNN().to(\"mps\")  # Use 'cuda' if on GPU or 'cpu'\n",
    "\n",
    "criterion = nn.BCELoss()    # Because it's binary\n",
    "\n",
    "optimizer = torch.optim.Adam(model.parameters(), lr=0.001)\n"
   ]
  },
  {
   "cell_type": "markdown",
   "metadata": {},
   "source": [
    "Step 4: Training Loop"
   ]
  },
  {
   "cell_type": "code",
   "execution_count": 44,
   "metadata": {},
   "outputs": [
    {
     "name": "stdout",
     "output_type": "stream",
     "text": [
      "Epoch [1/5], Loss: 197.6900, Accuracy: 0.9063\n",
      "Epoch [2/5], Loss: 168.2146, Accuracy: 0.9162\n",
      "Epoch [3/5], Loss: 157.5557, Accuracy: 0.9217\n",
      "Epoch [4/5], Loss: 147.0576, Accuracy: 0.9273\n",
      "Epoch [5/5], Loss: 138.0864, Accuracy: 0.9322\n"
     ]
    }
   ],
   "source": [
    "epochs =5\n",
    "\n",
    "for epoch in range(epochs):\n",
    "\n",
    "    running_loss = 0.0\n",
    "\n",
    "    correct, total = 0, 0\n",
    "\n",
    "\n",
    "    for images, labels in train_loader:\n",
    "\n",
    "        images, labels = images.to('mps'), labels.to('mps').float().unsqueeze(1)\n",
    "\n",
    "\n",
    "        outputs = model(images)\n",
    "\n",
    "        loss = criterion(outputs, labels)\n",
    "\n",
    "\n",
    "        optimizer.zero_grad()\n",
    "\n",
    "        loss.backward()\n",
    "\n",
    "        optimizer.step()\n",
    "\n",
    "        running_loss += loss.item()\n",
    "\n",
    "\n",
    "        # Calculate accuracy\n",
    "\n",
    "        preds = (outputs > 0.5).float()\n",
    "\n",
    "        correct += (preds == labels).sum().item()\n",
    "\n",
    "        total += labels.size(0)\n",
    "\n",
    "    \n",
    "    print(f\"Epoch [{epoch+1}/{epochs}], Loss: {running_loss:.4f}, Accuracy: {correct/total:.4f}\")"
   ]
  },
  {
   "cell_type": "markdown",
   "metadata": {},
   "source": [
    "Step 5: Evaluate on the Test Set"
   ]
  },
  {
   "cell_type": "code",
   "execution_count": 45,
   "metadata": {},
   "outputs": [
    {
     "name": "stdout",
     "output_type": "stream",
     "text": [
      "Test Accuracy: 0.9278\n"
     ]
    }
   ],
   "source": [
    "model.eval()  # Switch to eval mode\n",
    "\n",
    "correct = 0\n",
    "\n",
    "total = 0\n",
    "\n",
    "\n",
    "with torch.no_grad():\n",
    "\n",
    "    for images, labels in test_loader:\n",
    "\n",
    "        images, labels = images.to('mps'), labels.to('mps').float().unsqueeze(1)\n",
    "\n",
    "        outputs = model(images)\n",
    "\n",
    "        predicted = (outputs > 0.5).float()\n",
    "\n",
    "        total += labels.size(0)\n",
    "\n",
    "        correct += (predicted == labels).sum().item()\n",
    "\n",
    "    \n",
    "    print(f'Test Accuracy: {correct / total :.4f}')"
   ]
  },
  {
   "cell_type": "markdown",
   "metadata": {},
   "source": [
    "Step 6: Visualize Predictions (Correct vs Incorrect)"
   ]
  },
  {
   "cell_type": "code",
   "execution_count": 48,
   "metadata": {},
   "outputs": [
    {
     "name": "stderr",
     "output_type": "stream",
     "text": [
      "Clipping input data to the valid range for imshow with RGB data ([0..1] for floats or [0..255] for integers). Got range [-0.8980392..1.0].\n",
      "/var/folders/zr/xhd5gptd36zgdy5mmcv4gjfc0000gp/T/ipykernel_87862/881781090.py:24: DeprecationWarning: Conversion of an array with ndim > 0 to a scalar is deprecated, and will error in future. Ensure you extract a single element from your array before performing this operation. (Deprecated NumPy 1.25.)\n",
      "  plt.title(f'Prediction {classes[int(predicted[i])]} | Actual: {classes[int(labels[i])]}')\n"
     ]
    },
    {
     "data": {
      "image/png": "[encoded data removed]",
      "text/plain": [
       "<Figure size 640x480 with 1 Axes>"
      ]
     },
     "metadata": {},
     "output_type": "display_data"
    },
    {
     "name": "stderr",
     "output_type": "stream",
     "text": [
      "Clipping input data to the valid range for imshow with RGB data ([0..1] for floats or [0..255] for integers). Got range [-1.0..0.9372549].\n"
     ]
    },
    {
     "data": {
      "image/png": "[encoded data removed]",
      "text/plain": [
       "<Figure size 640x480 with 1 Axes>"
      ]
     },
     "metadata": {},
     "output_type": "display_data"
    },
    {
     "name": "stderr",
     "output_type": "stream",
     "text": [
      "Clipping input data to the valid range for imshow with RGB data ([0..1] for floats or [0..255] for integers). Got range [-0.9764706..0.9764706].\n"
     ]
    },
    {
     "data": {
      "image/png": "[encoded data removed]",
      "text/plain": [
       "<Figure size 640x480 with 1 Axes>"
      ]
     },
     "metadata": {},
     "output_type": "display_data"
    },
    {
     "name": "stderr",
     "output_type": "stream",
     "text": [
      "Clipping input data to the valid range for imshow with RGB data ([0..1] for floats or [0..255] for integers). Got range [-0.7411765..0.8352941].\n"
     ]
    },
    {
     "data": {
      "image/png": "[encoded data removed]",
      "text/plain": [
       "<Figure size 640x480 with 1 Axes>"
      ]
     },
     "metadata": {},
     "output_type": "display_data"
    },
    {
     "name": "stderr",
     "output_type": "stream",
     "text": [
      "Clipping input data to the valid range for imshow with RGB data ([0..1] for floats or [0..255] for integers). Got range [-0.9529412..0.7254902].\n"
     ]
    },
    {
     "data": {
      "image/png": "[encoded data removed]",
      "text/plain": [
       "<Figure size 640x480 with 1 Axes>"
      ]
     },
     "metadata": {},
     "output_type": "display_data"
    }
   ],
   "source": [
    "model.eval()\n",
    "\n",
    "classes = ['Not Dog', 'Dog']\n",
    "\n",
    "shown = 0\n",
    "\n",
    "\n",
    "with torch.no_grad():\n",
    "\n",
    "    for images, labels in test_loader:\n",
    "\n",
    "        images = images.to('mps')\n",
    "\n",
    "        outputs = model(images)\n",
    "\n",
    "        predicted = (outputs > 0.5).float().cpu().numpy()\n",
    "\n",
    "\n",
    "\n",
    "        for i in range(5):\n",
    "\n",
    "            plt.imshow(images[i].permute(1,2,0).cpu())\n",
    "\n",
    "            plt.title(f'Prediction {classes[int(predicted[i])]} | Actual: {classes[int(labels[i])]}')\n",
    "\n",
    "            plt.axis('off')\n",
    "\n",
    "            plt.show()\n",
    "\n",
    "            shown += 1\n",
    "\n",
    "            if shown >= 5:\n",
    "\n",
    "                break\n",
    "\n",
    "        if shown >= 5:\n",
    "\n",
    "                break"
   ]
  },
  {
   "cell_type": "markdown",
   "metadata": {},
   "source": [
    "Step 7: Visualize Learned Filters (Optional, but Powerful)"
   ]
  },
  {
   "cell_type": "markdown",
   "metadata": {},
   "source": [
    "To peek into what features the CNN has learned:"
   ]
  },
  {
   "cell_type": "code",
   "execution_count": 51,
   "metadata": {},
   "outputs": [
    {
     "data": {
      "image/png": "[encoded data removed]",
      "text/plain": [
       "<Figure size 1200x400 with 16 Axes>"
      ]
     },
     "metadata": {},
     "output_type": "display_data"
    }
   ],
   "source": [
    "# Visualize filters of the first conv layer\n",
    "\n",
    "filters = model.conv1.weight.data.cpu()\n",
    "\n",
    "\n",
    "fig, axs = plt.subplots(2,8, figsize=(12,4))\n",
    "\n",
    "for i in range(16):\n",
    "\n",
    "    ax = axs[i // 8, i % 8]\n",
    "\n",
    "    ax.imshow(filters[i][0], cmap='gray')\n",
    "\n",
    "    ax.axis('off')\n",
    "\n",
    "plt.suptitle('Conv1 Filters')\n",
    "\n",
    "plt.show()"
   ]
  }
 ],
 "metadata": {
  "kernelspec": {
   "display_name": "masterxdl",
   "language": "python",
   "name": "python3"
  },
  "language_info": {
   "codemirror_mode": {
    "name": "ipython",
    "version": 3
   },
   "file_extension": ".py",
   "mimetype": "text/x-python",
   "name": "python",
   "nbconvert_exporter": "python",
   "pygments_lexer": "ipython3",
   "version": "3.9.21"
  }
 },
 "nbformat": 4,
 "nbformat_minor": 2
}
