{
 "cells": [
  {
   "cell_type": "code",
   "execution_count": null,
   "id": "661b2f86",
   "metadata": {},
   "outputs": [],
   "source": [
    "import torch\n",
    "\n",
    "import torch.nn as nn"
   ]
  },
  {
   "cell_type": "code",
   "execution_count": null,
   "id": "17967d1f",
   "metadata": {},
   "outputs": [],
   "source": [
    "# Corpus and Vocabulary\n",
    "\n",
    "corpus = \"deep learning is fun and deep learning is powerful\"\n",
    "\n",
    "words = corpus.split()\n",
    "\n",
    "vocab = sorted(set(words))\n",
    "\n",
    "word_to_idx = {word: i for i , word in enumerate(vocab)}\n",
    "\n",
    "idx_to_word = {i: word for word, i in word_to_idx.items()}\n",
    "\n",
    "vocab_size = len(vocab)"
   ]
  },
  {
   "cell_type": "code",
   "execution_count": null,
   "id": "ff5e9ac0",
   "metadata": {},
   "outputs": [],
   "source": [
    "# Training Sequences\n",
    "training_sentences = [\n",
    "    ['deep', 'learning', 'is', 'fun'],\n",
    "    ['learning', 'is', 'powerful'],\n",
    "    ['deep', 'learning', 'is', 'powerful'],\n",
    "    ['learning', 'is', 'fun', 'and', 'powerful']\n",
    "]"
   ]
  },
  {
   "cell_type": "code",
   "execution_count": null,
   "id": "c9454c11",
   "metadata": {},
   "outputs": [],
   "source": [
    "seq_length = 3\n",
    "\n",
    "input_seqs = []\n",
    "\n",
    "target_words = []"
   ]
  },
  {
   "cell_type": "code",
   "execution_count": null,
   "id": "b1017fcb",
   "metadata": {},
   "outputs": [],
   "source": [
    "for sentence in training_sentences:\n",
    "\n",
    "    if len(sentence) <= seq_length:\n",
    "\n",
    "        continue\n",
    "\n",
    "    for i in range(len(sentence) - seq_length):\n",
    "\n",
    "        input_seq = sentence[i: i + seq_length]\n",
    "\n",
    "        target_word = sentence[i + seq_length]\n",
    "\n",
    "        input_tensor = torch.tensor([word_to_idx[word]for word in input_seq], dtype=torch.long)\n",
    "\n",
    "        target_tensor = torch.tensor(word_to_idx[target_word], dtype=torch.long)\n",
    "\n",
    "        input_seqs.append(input_tensor)\n",
    "\n",
    "        target_words.append(target_tensor)"
   ]
  },
  {
   "cell_type": "code",
   "execution_count": null,
   "id": "620291db",
   "metadata": {},
   "outputs": [],
   "source": [
    "# LSTM Model\n",
    "\n",
    "class WordLSTM(nn.Module):\n",
    "\n",
    "    def __init__(self, vocab_size, embedding_dim, hidden_dim):\n",
    "        super(WordLSTM, self).__init__()\n",
    "\n",
    "        self.embedding = nn.Embedding(vocab_size, embedding_dim)\n",
    "\n",
    "        self.lstm = nn.LSTM(embedding_dim,hidden_dim, batch_first=True)\n",
    "\n",
    "        self.fc = nn.Linear(hidden_dim, vocab_size)\n",
    "\n",
    "    \n",
    "    def forward(self, x, hidden):\n",
    "\n",
    "        embedded = self.embedding(x)\n",
    "\n",
    "        out, hidden = self.lstm(embedded, hidden)\n",
    "\n",
    "        out = self.fc(out[:,-1,:])\n",
    "\n",
    "        return out, hidden"
   ]
  },
  {
   "cell_type": "code",
   "execution_count": null,
   "id": "32e6967d",
   "metadata": {},
   "outputs": [],
   "source": [
    "# Hyperparameters\n",
    "\n",
    "embedding_dim = 10\n",
    "\n",
    "hidden_dim = 16\n",
    "\n",
    "num_epochs = 300\n",
    "\n",
    "learning_rate = 0.01"
   ]
  },
  {
   "cell_type": "code",
   "execution_count": null,
   "id": "82a9aa30",
   "metadata": {},
   "outputs": [],
   "source": [
    "model = WordLSTM(vocab_size, embedding_dim, hidden_dim)\n",
    "\n",
    "loss_fn = nn.CrossEntropyLoss()\n",
    "\n",
    "optimizer = torch.optim.Adam(model.parameters(), lr=learning_rate)"
   ]
  },
  {
   "cell_type": "code",
   "execution_count": null,
   "id": "9425617b",
   "metadata": {},
   "outputs": [],
   "source": []
  }
 ],
 "metadata": {
  "kernelspec": {
   "display_name": "masterxdl",
   "language": "python",
   "name": "python3"
  },
  "language_info": {
   "name": "python",
   "version": "3.9.21"
  }
 },
 "nbformat": 4,
 "nbformat_minor": 5
}
