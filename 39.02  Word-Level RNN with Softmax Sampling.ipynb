{
 "cells": [
  {
   "cell_type": "code",
   "execution_count": 125,
   "id": "cc634356",
   "metadata": {},
   "outputs": [],
   "source": [
    "import torch\n",
    "\n",
    "import torch.nn as nn \n",
    "\n",
    "import numpy as np\n",
    "\n",
    "import random"
   ]
  },
  {
   "cell_type": "code",
   "execution_count": 126,
   "id": "4d9c458a",
   "metadata": {},
   "outputs": [],
   "source": [
    "# --- Preprocessing ---\n",
    "\n",
    "corpus = \"deep learning is fun and deep learning is powerful\"\n",
    "\n",
    "words = corpus.split()\n",
    "\n",
    "vocab = sorted(set(words))\n",
    "\n",
    "word_to_idx = {word: i for i, word in enumerate(vocab)}\n",
    "\n",
    "idx_to_word = {i: word for word, i in word_to_idx.items()}"
   ]
  },
  {
   "cell_type": "code",
   "execution_count": 127,
   "id": "edb2a27e",
   "metadata": {},
   "outputs": [],
   "source": [
    "training_sentences = [\n",
    "    \n",
    "    ['deep', 'learning', 'is', 'fun'],\n",
    "    ['learning', 'is', 'powerful'],\n",
    "    ['deep', 'learning', 'is', 'powerful'],\n",
    "    ['learning', 'is', 'fun', 'and', 'powerful']\n",
    "]\n"
   ]
  },
  {
   "cell_type": "code",
   "execution_count": 128,
   "id": "52b984ee",
   "metadata": {},
   "outputs": [],
   "source": [
    "seq_length = 3\n",
    "\n",
    "input_seqs = []\n",
    "\n",
    "target_words = []"
   ]
  },
  {
   "cell_type": "code",
   "execution_count": 129,
   "id": "f6d786f4",
   "metadata": {},
   "outputs": [],
   "source": [
    "for sentence in training_sentences:\n",
    "\n",
    "    if len(sentence) <= seq_length:\n",
    "\n",
    "        continue\n",
    "\n",
    "    for i in range(len(sentence) - seq_length):\n",
    "\n",
    "        input_seq = sentence[i: i + seq_length]\n",
    "\n",
    "        target_word = sentence[i + seq_length]\n",
    "\n",
    "        input_tensor = torch.tensor([word_to_idx[word] for word in input_seq], dtype=torch.long)\n",
    "\n",
    "        target_tensor = torch.tensor(word_to_idx[target_word], dtype=torch.long)\n",
    "\n",
    "        input_seqs.append(input_tensor)\n",
    "        \n",
    "        target_words.append(target_tensor)"
   ]
  },
  {
   "cell_type": "code",
   "execution_count": 130,
   "id": "6bf8bda0",
   "metadata": {},
   "outputs": [],
   "source": [
    "# --- Model Definition ---\n",
    "\n",
    "class WordRNN(nn.Module):\n",
    "\n",
    "    def __init__(self, vocab_size, embedding_dim, hidden_dim):\n",
    "\n",
    "        super(WordRNN, self).__init__()\n",
    "\n",
    "        self.embedding = nn.Embedding(vocab_size, embedding_dim)\n",
    "\n",
    "        self.rnn = nn.RNN(embedding_dim, hidden_dim, batch_first=True)\n",
    "\n",
    "        self.fc = nn.Linear(hidden_dim, vocab_size)\n",
    "\n",
    "    def forward(self, x, hidden):\n",
    "\n",
    "        embedded = self.embedding(x)\n",
    "\n",
    "        out, hidden = self.rnn(embedded, hidden)\n",
    "\n",
    "        out = self.fc(out[:, -1, :])  # Last time step\n",
    "        \n",
    "        return out, hidden"
   ]
  },
  {
   "cell_type": "code",
   "execution_count": 131,
   "id": "9d10b7ba",
   "metadata": {},
   "outputs": [],
   "source": [
    "# --- Training ---\n",
    "\n",
    "embedding_dim = 10\n",
    "\n",
    "hidden_dim = 16\n",
    "\n",
    "model = WordRNN(len(vocab), embedding_dim, hidden_dim)\n",
    "\n",
    "loss_fn = nn.CrossEntropyLoss()\n",
    "\n",
    "optimizer = torch.optim.Adam(model.parameters(), lr=0.01)"
   ]
  },
  {
   "cell_type": "code",
   "execution_count": 132,
   "id": "ef3bfd3a",
   "metadata": {},
   "outputs": [
    {
     "name": "stdout",
     "output_type": "stream",
     "text": [
      "Epoch 50/300, Loss: 0.0189\n",
      "Epoch 100/300, Loss: 0.0100\n",
      "Epoch 150/300, Loss: 0.0069\n",
      "Epoch 200/300, Loss: 0.0053\n",
      "Epoch 250/300, Loss: 0.0043\n",
      "Epoch 300/300, Loss: 0.0037\n"
     ]
    }
   ],
   "source": [
    "num_epochs = 300\n",
    "\n",
    "for epoch in range(1, num_epochs + 1):\n",
    "\n",
    "    total_loss = 0\n",
    "\n",
    "    model.train()\n",
    "\n",
    "    for input_tensor, target_tensor in zip(input_seqs, target_words):\n",
    "\n",
    "        hidden = torch.zeros(1, 1, hidden_dim)\n",
    "\n",
    "        input_tensor = input_tensor.unsqueeze(0)\n",
    "\n",
    "        optimizer.zero_grad()\n",
    "\n",
    "        output, hidden = model(input_tensor, hidden)\n",
    "\n",
    "        loss = loss_fn(output, target_tensor.unsqueeze(0))\n",
    "\n",
    "        loss.backward()\n",
    "\n",
    "        optimizer.step()\n",
    "\n",
    "        total_loss += loss.item()\n",
    "\n",
    "    if epoch % 50 == 0:\n",
    "        \n",
    "        print(f\"Epoch {epoch}/{num_epochs}, Loss: {loss.item():.4f}\")"
   ]
  },
  {
   "cell_type": "code",
   "execution_count": 133,
   "id": "9467be18",
   "metadata": {},
   "outputs": [],
   "source": [
    "# --- Softmax Sampling Function ---\n",
    "\n",
    "def sample_from_probs(probs,temperature=1.0):\n",
    "\n",
    "    probs = torch.softmax(probs / temperature,dim=-1).detach().cpu().numpy()\n",
    "\n",
    "    return np.random.choice(len(probs),p=probs)"
   ]
  },
  {
   "cell_type": "code",
   "execution_count": 134,
   "id": "3df2c4db",
   "metadata": {},
   "outputs": [],
   "source": [
    "# --- Generation Function ---\n",
    "\n",
    "def generate_text(model, seed_words, length =5, temperature=1.0):\n",
    "\n",
    "    model.eval()\n",
    "\n",
    "    generated = seed_words[:]\n",
    "\n",
    "    input_seq = [word_to_idx[word]for word in seed_words]\n",
    "\n",
    "\n",
    "    hidden = torch.zeros(1,1, hidden_dim)\n",
    "\n",
    "\n",
    "    for _ in range(length):\n",
    "\n",
    "        input_tensor =torch.tensor(input_seq).unsqueeze(0)\n",
    "\n",
    "        output, hidden = model(input_tensor, hidden)\n",
    "\n",
    "        next_idx = sample_from_probs(output[0], temperature)\n",
    "\n",
    "        next_word = idx_to_word[next_idx]\n",
    "\n",
    "        generated.append(next_word)\n",
    "\n",
    "        input_seq = input_seq[1:] + [next_idx] # Slide window\n",
    "\n",
    "    return ' '.join(generated)\n"
   ]
  },
  {
   "cell_type": "markdown",
   "id": "eda604d0",
   "metadata": {},
   "source": [
    "Explanation of Temperature\n",
    "\n",
    "temperature=1.0 → normal randomness.\n",
    "temperature < 1.0 → more confident, predictable.\n",
    "temperature > 1.0 → more creative, chaotic."
   ]
  },
  {
   "cell_type": "code",
   "execution_count": 135,
   "id": "eb9302f9",
   "metadata": {},
   "outputs": [
    {
     "name": "stdout",
     "output_type": "stream",
     "text": [
      "\n",
      "Generated Text (temp=1.0):\n",
      "deep learning is powerful and powerful and powerful and\n",
      "\n",
      "Generated Text (temp=0.5):\n",
      "deep learning is powerful and powerful and powerful and\n",
      "\n",
      "Generated Text (temp=1.5):\n",
      "deep learning is fun and powerful learning fun fun\n"
     ]
    }
   ],
   "source": [
    "# --- Try Generating Sentences ---\n",
    "\n",
    "seed = ['deep', 'learning', 'is']\n",
    "\n",
    "\n",
    "print(\"\\nGenerated Text (temp=1.0):\")\n",
    "print(generate_text(model, seed_words=seed, length=6, temperature=1.0))\n",
    "\n",
    "\n",
    "print(\"\\nGenerated Text (temp=0.5):\")\n",
    "print(generate_text(model,seed_words=seed, length=6, temperature=0.5))\n",
    "\n",
    "\n",
    "print(\"\\nGenerated Text (temp=1.5):\")\n",
    "print(generate_text(model, seed_words=seed, length=6, temperature=1.5))"
   ]
  }
 ],
 "metadata": {
  "kernelspec": {
   "display_name": "masterxdl",
   "language": "python",
   "name": "python3"
  },
  "language_info": {
   "codemirror_mode": {
    "name": "ipython",
    "version": 3
   },
   "file_extension": ".py",
   "mimetype": "text/x-python",
   "name": "python",
   "nbconvert_exporter": "python",
   "pygments_lexer": "ipython3",
   "version": "3.9.21"
  }
 },
 "nbformat": 4,
 "nbformat_minor": 5
}
