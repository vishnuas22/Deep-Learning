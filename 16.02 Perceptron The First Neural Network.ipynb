{
 "cells": [
  {
   "cell_type": "markdown",
   "metadata": {},
   "source": [
    "We'll build a simple perceptron that learns to classify AND gate logic.\n"
   ]
  },
  {
   "cell_type": "code",
   "execution_count": 10,
   "metadata": {},
   "outputs": [],
   "source": [
    "import numpy as np"
   ]
  },
  {
   "cell_type": "code",
   "execution_count": 11,
   "metadata": {},
   "outputs": [],
   "source": [
    "# Step Activation Function\n",
    "\n",
    "def step_function(x):\n",
    "\n",
    "    return 1 if x >= 0 else 0\n",
    "\n",
    "\n",
    "# Perceptron Class\n",
    "\n",
    "class Perceptron:\n",
    "\n",
    "    def __init__(self, input_size, lr=0.1, epochs=10):\n",
    "        \n",
    "        self.weights = np.random.randn(input_size)\n",
    "\n",
    "        self.bias = np.random.randn()\n",
    "\n",
    "        self.lr = lr\n",
    "\n",
    "        self.epochs = epochs\n",
    "\n",
    "    \n",
    "    def predict(self, x):\n",
    "\n",
    "        return step_function(np.dot(self.weights, x) + self.bias)\n",
    "    \n",
    "\n",
    "    def train(self, X,y):\n",
    "\n",
    "        for _ in range(self.epochs):\n",
    "\n",
    "            for xi, target in zip(X,y):\n",
    "\n",
    "                pred = self.predict(xi)\n",
    "\n",
    "                error = target - pred\n",
    "\n",
    "                self.weights += self.lr * error * xi\n",
    "\n",
    "                self.bias += self.lr * error"
   ]
  },
  {
   "cell_type": "code",
   "execution_count": 12,
   "metadata": {},
   "outputs": [],
   "source": [
    "# AND Gate Training Data\n",
    "\n",
    "X = np.array([[0,0],[0,1],[1,0],[1,1]])\n",
    "\n",
    "y = np.array([0,0,0,1])  # AND Logic"
   ]
  },
  {
   "cell_type": "code",
   "execution_count": 13,
   "metadata": {},
   "outputs": [],
   "source": [
    "# Train Perceptron\n",
    "\n",
    "perceptron = Perceptron(input_size=2)\n",
    "\n",
    "perceptron.train(X,y)"
   ]
  },
  {
   "cell_type": "code",
   "execution_count": 14,
   "metadata": {},
   "outputs": [
    {
     "name": "stdout",
     "output_type": "stream",
     "text": [
      "Input [0 0], Prediction : 0\n",
      "Input [0 1], Prediction : 0\n",
      "Input [1 0], Prediction : 0\n",
      "Input [1 1], Prediction : 1\n"
     ]
    }
   ],
   "source": [
    "# Test the Model\n",
    "\n",
    "for xi in X:\n",
    "\n",
    "    print(f'Input {xi}, Prediction : {perceptron.predict(xi)}')"
   ]
  }
 ],
 "metadata": {
  "kernelspec": {
   "display_name": "masterxdl",
   "language": "python",
   "name": "python3"
  },
  "language_info": {
   "codemirror_mode": {
    "name": "ipython",
    "version": 3
   },
   "file_extension": ".py",
   "mimetype": "text/x-python",
   "name": "python",
   "nbconvert_exporter": "python",
   "pygments_lexer": "ipython3",
   "version": "3.9.21"
  }
 },
 "nbformat": 4,
 "nbformat_minor": 2
}
