{
 "cells": [
  {
   "cell_type": "markdown",
   "metadata": {},
   "source": [
    "Setting the right learning rate is crucial for training deep learning models effectively. However, keeping the learning rate fixed throughout training is often not optimal.\n",
    "\n",
    "To improve training efficiency, we use Learning Rate Schedulers, which adjust the learning rate dynamically based on training progress."
   ]
  },
  {
   "cell_type": "markdown",
   "metadata": {},
   "source": [
    "📌 Why Adjust the Learning Rate?\n",
    "\n",
    "1️⃣ Too high → The model oscillates and never converges.\n",
    "\n",
    "2️⃣ Too low → The model learns very slowly and gets stuck in local minima.\n",
    "\n",
    "3️⃣ Dynamic adjustment → Helps balance speed vs. accuracy and improves convergence."
   ]
  },
  {
   "cell_type": "markdown",
   "metadata": {},
   "source": [
    "📌 Step Decay (Basic Scheduler)\n",
    "\n",
    "Reduces the learning rate by a factor every N epochs.\n",
    "\n",
    "Example: If LR = 0.1, we might reduce it to 0.01 after 10 epochs, then 0.001 after 20 epochs.\n",
    "\n",
    "Simple but effective."
   ]
  },
  {
   "cell_type": "markdown",
   "metadata": {},
   "source": [
    "Step 1: Import Required Libraries\n",
    "\n",
    "We start by importing PyTorch and the necessary modules."
   ]
  },
  {
   "cell_type": "code",
   "execution_count": 2,
   "metadata": {},
   "outputs": [],
   "source": [
    "import torch\n",
    "\n",
    "import torch.nn as nn\n",
    "\n",
    "import torch.optim as optim\n",
    "\n",
    "import torch.optim.lr_scheduler as lr_scheduler\n",
    "\n",
    "import matplotlib.pyplot as plt"
   ]
  },
  {
   "cell_type": "markdown",
   "metadata": {},
   "source": [
    "Step 2: Define a Simple Model\n",
    "\n",
    "We create a small neural network for demonstration."
   ]
  },
  {
   "cell_type": "code",
   "execution_count": 3,
   "metadata": {},
   "outputs": [],
   "source": [
    "class SimpleNN(nn.Module):\n",
    "\n",
    "    def __init__(self):\n",
    "\n",
    "        super(SimpleNN,self).__init__()\n",
    "\n",
    "        self.fc = nn.Linear(2,1)   # Simple Linear Model\n",
    "\n",
    "    def forward(self, x):\n",
    "\n",
    "        return self.fc(x)\n",
    "    \n",
    "# Initialize model\n",
    "\n",
    "model = SimpleNN()"
   ]
  },
  {
   "cell_type": "markdown",
   "metadata": {},
   "source": [
    "Step 3: Define Optimizer & Scheduler\n",
    "\n",
    "We use SGD as the optimizer.\n",
    "\n",
    "We apply Step Decay, where we reduce LR by a factor every 10 epochs."
   ]
  },
  {
   "cell_type": "code",
   "execution_count": 4,
   "metadata": {},
   "outputs": [],
   "source": [
    "# Define optimizer\n",
    "\n",
    "optimizer = torch.optim.SGD(model.parameters(), lr=0.1)\n",
    "\n",
    "# StepLR scheduler: Reduce LR by factor of 0.1 every 10 epochs\n",
    "\n",
    "scheduler = lr_scheduler.StepLR(optimizer, step_size=10, gamma=0.1)"
   ]
  },
  {
   "cell_type": "markdown",
   "metadata": {},
   "source": [
    "Step 4: Simulate Training and Track LR\n",
    "\n",
    "We'll train for 30 epochs and observe how the learning rate changes."
   ]
  },
  {
   "cell_type": "code",
   "execution_count": 5,
   "metadata": {},
   "outputs": [
    {
     "data": {
      "image/png": "[encoded data removed]",
      "text/plain": [
       "<Figure size 640x480 with 1 Axes>"
      ]
     },
     "metadata": {},
     "output_type": "display_data"
    }
   ],
   "source": [
    "# Track learning rates\n",
    "\n",
    "lrs = []\n",
    "\n",
    "\n",
    "for epoch in range(30):\n",
    "\n",
    "    optimizer.step() # Normally we would compute loss and backpropagate, but we're just tracking LR\n",
    "\n",
    "    lrs.append(optimizer.param_groups[0]['lr']) # Current LR\n",
    "\n",
    "    scheduler.step()  # Update LR based on step decay\n",
    "\n",
    "\n",
    "# Plot LR changes\n",
    "\n",
    "plt.plot(lrs)\n",
    "\n",
    "plt.xlabel('Epoch')\n",
    "\n",
    "plt.ylabel('Learning rate')\n",
    "\n",
    "plt.title('Step Decay Learning rate Scheduler')\n",
    "\n",
    "plt.show()"
   ]
  },
  {
   "cell_type": "markdown",
   "metadata": {},
   "source": [
    "Epoch 0-9 → LR = 0.1\n",
    "\n",
    "Epoch 10-19 → LR = 0.01\n",
    "\n",
    "Epoch 20-30 → LR = 0.001"
   ]
  }
 ],
 "metadata": {
  "kernelspec": {
   "display_name": "masterxdl",
   "language": "python",
   "name": "python3"
  },
  "language_info": {
   "codemirror_mode": {
    "name": "ipython",
    "version": 3
   },
   "file_extension": ".py",
   "mimetype": "text/x-python",
   "name": "python",
   "nbconvert_exporter": "python",
   "pygments_lexer": "ipython3",
   "version": "3.9.21"
  }
 },
 "nbformat": 4,
 "nbformat_minor": 2
}
