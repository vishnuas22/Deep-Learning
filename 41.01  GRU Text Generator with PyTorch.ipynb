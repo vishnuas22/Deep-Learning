{
 "cells": [
  {
   "cell_type": "code",
   "execution_count": 11,
   "id": "56ac7ada",
   "metadata": {},
   "outputs": [],
   "source": [
    "import torch\n",
    "\n",
    "import torch.nn as nn\n",
    "\n",
    "import torch.nn.functional as F\n",
    "\n",
    "import numpy as np\n",
    "\n",
    "import random"
   ]
  },
  {
   "cell_type": "code",
   "execution_count": 12,
   "id": "96494dbe",
   "metadata": {},
   "outputs": [],
   "source": [
    "# Set seed\n",
    "\n",
    "torch.manual_seed(0)\n",
    "\n",
    "np.random.seed(0)"
   ]
  },
  {
   "cell_type": "code",
   "execution_count": 13,
   "id": "70b93997",
   "metadata": {},
   "outputs": [],
   "source": [
    "# Sample corpus\n",
    "\n",
    "corpus = \"deep learning is powerful and fun and powerful models are effective in learning\"\n",
    "\n",
    "words = corpus.split()\n",
    "\n",
    "vocab = sorted(set(words))\n",
    "\n",
    "word_to_idx = {w: i for i, w in enumerate(vocab)}\n",
    "\n",
    "idx_to_word = {i: w for w, i in word_to_idx.items()}"
   ]
  },
  {
   "cell_type": "code",
   "execution_count": 14,
   "id": "0eec99ae",
   "metadata": {},
   "outputs": [],
   "source": [
    "# Hyperparameters\n",
    "\n",
    "sequence_len = 3\n",
    "\n",
    "embedding_dim = 10\n",
    "\n",
    "hidden_dim = 32\n",
    "\n",
    "vocab_size = len(vocab)"
   ]
  },
  {
   "cell_type": "code",
   "execution_count": 15,
   "id": "7b6514d3",
   "metadata": {},
   "outputs": [],
   "source": [
    "# Prepare data\n",
    "\n",
    "def make_sequences(words):\n",
    "\n",
    "    sequences = []\n",
    "\n",
    "    for i in range(len(words) - sequence_len):\n",
    "\n",
    "        seq = words[i: i + sequence_len]\n",
    "\n",
    "        target = words[i + sequence_len]\n",
    "\n",
    "        sequences.append(([word_to_idx[w] for w in seq], word_to_idx[target]))\n",
    "\n",
    "    return sequences\n",
    "\n",
    "sequences = make_sequences(words)"
   ]
  },
  {
   "cell_type": "code",
   "execution_count": 16,
   "id": "d7c7c022",
   "metadata": {},
   "outputs": [],
   "source": [
    "# Model\n",
    "\n",
    "class GRUTextGen(nn.Module):\n",
    "\n",
    "    def __init__(self, vocab_size, embedding_dim, hidden_dim):\n",
    "        super(GRUTextGen, self).__init__()\n",
    "\n",
    "        self.embed = nn.Embedding(vocab_size, embedding_dim)\n",
    "\n",
    "        self.gru = nn.GRU(embedding_dim, hidden_dim, batch_first=True)\n",
    "\n",
    "        self.fc = nn.Linear(hidden_dim, vocab_size)\n",
    "\n",
    "    def forward(self, x, hidden = None):\n",
    "\n",
    "        x = self.embed(x)\n",
    "\n",
    "        out, hidden = self.gru(x, hidden)\n",
    "\n",
    "        out = self.fc(out[:, -1, :])  # Use last output\n",
    "\n",
    "        return out, hidden"
   ]
  },
  {
   "cell_type": "code",
   "execution_count": 17,
   "id": "7627fb48",
   "metadata": {},
   "outputs": [],
   "source": [
    "# Instantiate model\n",
    "\n",
    "model = GRUTextGen(vocab_size, embedding_dim, hidden_dim)\n",
    "\n",
    "loss_fn = nn.CrossEntropyLoss()\n",
    "\n",
    "optimizer = torch.optim.Adam(model.parameters(), lr=0.01)"
   ]
  },
  {
   "cell_type": "code",
   "execution_count": 18,
   "id": "45954628",
   "metadata": {},
   "outputs": [
    {
     "name": "stdout",
     "output_type": "stream",
     "text": [
      "Epoch 1/ 300, Loss: 2.6258\n",
      "Epoch 51/ 300, Loss: 0.0018\n",
      "Epoch 101/ 300, Loss: 0.0006\n",
      "Epoch 151/ 300, Loss: 0.0003\n",
      "Epoch 201/ 300, Loss: 0.0002\n",
      "Epoch 251/ 300, Loss: 0.0001\n",
      "Epoch 300/ 300, Loss: 0.0001\n"
     ]
    }
   ],
   "source": [
    "# Training\n",
    "\n",
    "for epoch in range(300):\n",
    "\n",
    "    total_loss = 0\n",
    "\n",
    "    for seq, target in sequences:\n",
    "\n",
    "        seq_tensor = torch.tensor(seq).unsqueeze(0)\n",
    "\n",
    "        target_tensor = torch.tensor([target])\n",
    "\n",
    "        optimizer.zero_grad()\n",
    "\n",
    "        output, _ = model(seq_tensor)\n",
    "\n",
    "        loss = loss_fn(output, target_tensor)\n",
    "\n",
    "        loss.backward()\n",
    "\n",
    "        optimizer.step()\n",
    "\n",
    "        total_loss += loss.item()\n",
    "\n",
    "    if epoch % 50 == 0 or epoch == 299:\n",
    "\n",
    "        print(f'Epoch { epoch + 1}/ 300, Loss: {loss:.4f}')"
   ]
  },
  {
   "cell_type": "code",
   "execution_count": 19,
   "id": "ac99c6c0",
   "metadata": {},
   "outputs": [],
   "source": [
    "# Sampling\n",
    "\n",
    "def sample_from_probs(probs, temperature = 1.0):\n",
    "\n",
    "    probs = torch.softmax(probs / temperature, dim=-1).detach().cpu().numpy()\n",
    "\n",
    "    return np.random.choice(len(probs), p=probs)\n",
    "\n",
    "\n",
    "def generate_text(model, seed_words, length=6, temperature= 1.0):\n",
    "\n",
    "    model.eval()\n",
    "\n",
    "    generated = seed_words[:]\n",
    "\n",
    "    hidden = None\n",
    "\n",
    "    for _ in range(length):\n",
    "\n",
    "        input_seq = [word_to_idx[w] for w in generated[-sequence_len:]]\n",
    "\n",
    "        input_tensor = torch.tensor(input_seq).unsqueeze(0)\n",
    "\n",
    "        output, hidden = model(input_tensor, hidden)\n",
    "\n",
    "        next_idx = sample_from_probs(output[0], temperature)\n",
    "\n",
    "        next_word = idx_to_word[next_idx]\n",
    "\n",
    "        generated.append(next_word)\n",
    "\n",
    "    \n",
    "    return ' '.join(generated)"
   ]
  },
  {
   "cell_type": "code",
   "execution_count": 20,
   "id": "db2add77",
   "metadata": {},
   "outputs": [
    {
     "name": "stdout",
     "output_type": "stream",
     "text": [
      "\n",
      "Generated Text (temp=1.0):\n",
      "deep learning is powerful and fun and fun and\n",
      "\n",
      "Generated Text (temp=0.5):\n",
      "deep learning is powerful and fun and fun and\n"
     ]
    }
   ],
   "source": [
    "# Try it\n",
    "\n",
    "seed = ['deep', 'learning', 'is']\n",
    "\n",
    "print(\"\\nGenerated Text (temp=1.0):\")\n",
    "print(generate_text(model, seed_words=seed, length=6, temperature=1.0))\n",
    "\n",
    "print(\"\\nGenerated Text (temp=0.5):\")\n",
    "print(generate_text(model, seed_words=seed, length=6, temperature=0.5))\n"
   ]
  }
 ],
 "metadata": {
  "kernelspec": {
   "display_name": "masterxdl",
   "language": "python",
   "name": "python3"
  },
  "language_info": {
   "codemirror_mode": {
    "name": "ipython",
    "version": 3
   },
   "file_extension": ".py",
   "mimetype": "text/x-python",
   "name": "python",
   "nbconvert_exporter": "python",
   "pygments_lexer": "ipython3",
   "version": "3.9.21"
  }
 },
 "nbformat": 4,
 "nbformat_minor": 5
}
