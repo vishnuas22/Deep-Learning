{
 "cells": [
  {
   "cell_type": "code",
   "execution_count": 19,
   "id": "4df4bdad",
   "metadata": {},
   "outputs": [],
   "source": [
    "import torch\n",
    "\n",
    "import torch.nn as nn\n",
    "\n",
    "from torchvision import transforms , datasets\n",
    "\n",
    "from torchvision.models import efficientnet_b0, EfficientNet_B0_Weights\n"
   ]
  },
  {
   "cell_type": "markdown",
   "id": "3053a206",
   "metadata": {},
   "source": [
    "Step 1: Prepare the Dataset (Food101)"
   ]
  },
  {
   "cell_type": "code",
   "execution_count": 20,
   "id": "982bec71",
   "metadata": {},
   "outputs": [],
   "source": [
    "transform = transforms.Compose([\n",
    "\n",
    "transforms.Resize(256),\n",
    "\n",
    "transforms.CenterCrop(224),\n",
    "\n",
    "transforms.ToTensor(),\n",
    "\n",
    "transforms.Normalize([0.485, 0.456, 0.406],\n",
    "                         [0.229, 0.224, 0.225])\n",
    "])"
   ]
  },
  {
   "cell_type": "markdown",
   "id": "ba20931c",
   "metadata": {},
   "source": [
    "Step 2: Load EfficientNetB0 + Transfer Learning"
   ]
  },
  {
   "cell_type": "markdown",
   "id": "5da9327a",
   "metadata": {},
   "source": [
    "Freeze backbone initially\n",
    "\n",
    "Replace the classifier head\n",
    "\n",
    "Later: Unfreeze for full fine-tuning"
   ]
  },
  {
   "cell_type": "code",
   "execution_count": 21,
   "id": "7bc5afa4",
   "metadata": {},
   "outputs": [],
   "source": [
    "weights = EfficientNet_B0_Weights.DEFAULT\n",
    "\n",
    "model = efficientnet_b0(weights=weights)\n",
    "\n",
    "\n",
    "for param in model.parameters():\n",
    "\n",
    "    param.requires_grad = False\n",
    "\n",
    "# Modify classifier\n",
    "\n",
    "num_classes = 10\n",
    "\n",
    "model.classifier[1] = nn.Linear(model.classifier[1].in_features, num_classes)"
   ]
  },
  {
   "cell_type": "markdown",
   "id": "8f4aa31f",
   "metadata": {},
   "source": [
    "Step 3: Training & Fine-Tuning"
   ]
  },
  {
   "cell_type": "markdown",
   "id": "872dd100",
   "metadata": {},
   "source": [
    "Phase 1: Train with frozen backbone\n",
    "\n",
    "Phase 2: Unfreeze all and fine-tune\n",
    "\n",
    "Use AdamW or SGD with cosine LR scheduler (optional)"
   ]
  },
  {
   "cell_type": "markdown",
   "id": "3f8d5031",
   "metadata": {},
   "source": [
    "Step 4: Export to ONNX"
   ]
  },
  {
   "cell_type": "code",
   "execution_count": 22,
   "id": "c098e4b1",
   "metadata": {},
   "outputs": [],
   "source": [
    "device = torch.device('mps' if torch.backends.mps.is_available() else 'cpu')\n",
    "\n",
    "model = model.to(device)\n",
    "\n",
    "dummy_input = torch.randn(1, 3, 224, 224).to(device)\n",
    "\n",
    "torch.onnx.export(model, dummy_input, 'efficientnet_b0.onnx',\n",
    "                  input_names=['input'], output_names=['output'],\n",
    "                  opset_version=11)"
   ]
  },
  {
   "cell_type": "markdown",
   "id": "02944184",
   "metadata": {},
   "source": [
    "Step 5: Convert to CoreML (on macOS)"
   ]
  }
 ],
 "metadata": {
  "kernelspec": {
   "display_name": "masterxdl",
   "language": "python",
   "name": "python3"
  },
  "language_info": {
   "codemirror_mode": {
    "name": "ipython",
    "version": 3
   },
   "file_extension": ".py",
   "mimetype": "text/x-python",
   "name": "python",
   "nbconvert_exporter": "python",
   "pygments_lexer": "ipython3",
   "version": "3.9.21"
  }
 },
 "nbformat": 4,
 "nbformat_minor": 5
}
