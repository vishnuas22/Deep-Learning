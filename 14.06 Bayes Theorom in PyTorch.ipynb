{
 "cells": [
  {
   "cell_type": "code",
   "execution_count": 1,
   "metadata": {},
   "outputs": [],
   "source": [
    "import torch"
   ]
  },
  {
   "cell_type": "code",
   "execution_count": 2,
   "metadata": {},
   "outputs": [],
   "source": [
    "# Define the prior probability (P(Disease))\n",
    "\n",
    "prior_A = torch.tensor(1/1000) # Disease probability"
   ]
  },
  {
   "cell_type": "code",
   "execution_count": 3,
   "metadata": {},
   "outputs": [],
   "source": [
    "# Define likelihoods\n",
    "\n",
    "likelihood_B_given_A = torch.tensor(0.99)  # P(Positive | Disease)\n",
    "\n",
    "likelihood_B_given_not_A = torch.tensor(0.05)  # P(Positive | No Disease)"
   ]
  },
  {
   "cell_type": "code",
   "execution_count": 4,
   "metadata": {},
   "outputs": [],
   "source": [
    "# Compute P(B) (Marginal Probability of Testing Positive)\n",
    "\n",
    "prior_not_A = 1 - prior_A\n",
    "\n",
    "marginal_B = (likelihood_B_given_A * prior_A)  + (likelihood_B_given_not_A * prior_not_A)"
   ]
  },
  {
   "cell_type": "code",
   "execution_count": 5,
   "metadata": {},
   "outputs": [
    {
     "name": "stdout",
     "output_type": "stream",
     "text": [
      "Probability of having the disease given a positive test: 0.0194\n"
     ]
    }
   ],
   "source": [
    "# Compute P(A|B) (Posterior Probability)\n",
    "\n",
    "posterior_A_given_B = (likelihood_B_given_A * prior_A) / marginal_B\n",
    "\n",
    "print(f'Probability of having the disease given a positive test: {posterior_A_given_B.item():.4f}')"
   ]
  },
  {
   "cell_type": "markdown",
   "metadata": {},
   "source": [
    "✅ Why use PyTorch?\n",
    "\n",
    "Can be extended to Bayesian Deep Learning.\n",
    "Works well with GPU acceleration.\n",
    "Supports probabilistic modeling with PyTorch Distributions."
   ]
  }
 ],
 "metadata": {
  "kernelspec": {
   "display_name": "masterxdl",
   "language": "python",
   "name": "python3"
  },
  "language_info": {
   "codemirror_mode": {
    "name": "ipython",
    "version": 3
   },
   "file_extension": ".py",
   "mimetype": "text/x-python",
   "name": "python",
   "nbconvert_exporter": "python",
   "pygments_lexer": "ipython3",
   "version": "3.9.21"
  }
 },
 "nbformat": 4,
 "nbformat_minor": 2
}
