{
 "cells": [
  {
   "cell_type": "code",
   "execution_count": 13,
   "metadata": {},
   "outputs": [],
   "source": [
    "import torch"
   ]
  },
  {
   "cell_type": "code",
   "execution_count": 14,
   "metadata": {},
   "outputs": [
    {
     "name": "stdout",
     "output_type": "stream",
     "text": [
      "Original Tensor:\n",
      " tensor([[10, 20, 30],\n",
      "        [40, 50, 60],\n",
      "        [70, 80, 90]])\n"
     ]
    }
   ],
   "source": [
    "# Creating a 3x3 tensor\n",
    "\n",
    "A = torch.tensor([[10, 20, 30],\n",
    "                  [40, 50, 60],\n",
    "                  [70, 80, 90]])\n",
    "\n",
    "\n",
    "print(\"Original Tensor:\\n\", A)"
   ]
  },
  {
   "cell_type": "code",
   "execution_count": 15,
   "metadata": {},
   "outputs": [
    {
     "name": "stdout",
     "output_type": "stream",
     "text": [
      "\n",
      "Element at (1,2): tensor(60)\n"
     ]
    }
   ],
   "source": [
    "# 🔹 Indexing - Selecting a single element\n",
    "\n",
    "print(\"\\nElement at (1,2):\", A[1, 2])  # Row 1, Column 2 (zero-based indexing)"
   ]
  },
  {
   "cell_type": "code",
   "execution_count": 16,
   "metadata": {},
   "outputs": [
    {
     "name": "stdout",
     "output_type": "stream",
     "text": [
      "First row:\n",
      "  tensor([10, 20, 30])\n",
      "\n",
      "First Column:\n",
      " tensor([10, 40, 70])\n",
      "\n",
      "Middle Block:\n",
      " tensor([[20, 30],\n",
      "        [50, 60]])\n"
     ]
    }
   ],
   "source": [
    "# 🔹 Slicing - Extracting rows/columns\n",
    "\n",
    "print('First row:\\n ',A[0,:]) # First row\n",
    "\n",
    "print(\"\\nFirst Column:\\n\", A[:, 0])   # First column\n",
    "\n",
    "print(\"\\nMiddle Block:\\n\", A[0:2, 1:3])  # Extracts a submatrix\n"
   ]
  },
  {
   "cell_type": "markdown",
   "metadata": {},
   "source": [
    "🔎 Real-World Use Cases\n",
    "\n",
    "✔ Extracting features from image pixels.\n",
    "\n",
    "✔ Selecting specific words from a text sequence.\n",
    "\n",
    "✔ Extracting sub-tensors for efficient processing in models."
   ]
  }
 ],
 "metadata": {
  "kernelspec": {
   "display_name": "masterxdl",
   "language": "python",
   "name": "python3"
  },
  "language_info": {
   "codemirror_mode": {
    "name": "ipython",
    "version": 3
   },
   "file_extension": ".py",
   "mimetype": "text/x-python",
   "name": "python",
   "nbconvert_exporter": "python",
   "pygments_lexer": "ipython3",
   "version": "3.9.21"
  }
 },
 "nbformat": 4,
 "nbformat_minor": 2
}
