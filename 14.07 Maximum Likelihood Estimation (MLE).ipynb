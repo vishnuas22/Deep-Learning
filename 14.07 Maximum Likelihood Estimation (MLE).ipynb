{
 "cells": [
  {
   "cell_type": "markdown",
   "metadata": {},
   "source": [
    "✅ Generate random data from a Normal distribution.\n",
    "✅ Compute MLE estimates for \n",
    "μ and σ using PyTorch.\n",
    "✅ Compare with PyTorch's built-in estimation."
   ]
  },
  {
   "cell_type": "code",
   "execution_count": 1,
   "metadata": {},
   "outputs": [],
   "source": [
    "import torch"
   ]
  },
  {
   "cell_type": "code",
   "execution_count": 2,
   "metadata": {},
   "outputs": [],
   "source": [
    "def mle_estimation(data):\n",
    "\n",
    "    # Compute MLE estimates for mean and variance of a normal distribution.\n",
    "\n",
    "    n= data.shape[0]\n",
    "\n",
    "    mu_mle = torch.mean(data)\n",
    "\n",
    "    sigma_mle = torch.sqrt(torch.sum((data - mu_mle)** 2)/ n) # MLE variance estimate\n",
    "\n",
    "    return mu_mle.item(), sigma_mle.item()\n",
    "                           "
   ]
  },
  {
   "cell_type": "code",
   "execution_count": 3,
   "metadata": {},
   "outputs": [],
   "source": [
    "# Generate sample data from a normal distribution\n",
    "\n",
    "true_mu , true_sigma = 5.0, 2.0 # True Parameters\n",
    "\n",
    "sample_size = 1000\n",
    "\n",
    "data = torch.normal(mean=true_mu, std=true_sigma, size=(sample_size,))"
   ]
  },
  {
   "cell_type": "code",
   "execution_count": 4,
   "metadata": {},
   "outputs": [],
   "source": [
    "# Compute MLE estimates\n",
    "\n",
    "mu_mle , sigma_mle = mle_estimation(data)"
   ]
  },
  {
   "cell_type": "code",
   "execution_count": 5,
   "metadata": {},
   "outputs": [
    {
     "name": "stdout",
     "output_type": "stream",
     "text": [
      "True Mean: 5.0, MLE Estimated Mean: 5.019795894622803\n",
      "True Std Dev: 2.0, MLE Estimated Std Dev: 2.099994659423828\n"
     ]
    }
   ],
   "source": [
    "print(f\"True Mean: {true_mu}, MLE Estimated Mean: {mu_mle}\")\n",
    "\n",
    "print(f\"True Std Dev: {true_sigma}, MLE Estimated Std Dev: {sigma_mle}\")"
   ]
  }
 ],
 "metadata": {
  "kernelspec": {
   "display_name": "masterxdl",
   "language": "python",
   "name": "python3"
  },
  "language_info": {
   "codemirror_mode": {
    "name": "ipython",
    "version": 3
   },
   "file_extension": ".py",
   "mimetype": "text/x-python",
   "name": "python",
   "nbconvert_exporter": "python",
   "pygments_lexer": "ipython3",
   "version": "3.9.21"
  }
 },
 "nbformat": 4,
 "nbformat_minor": 2
}
