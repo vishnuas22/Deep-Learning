{
 "cells": [
  {
   "cell_type": "code",
   "execution_count": 6,
   "id": "3211dbea",
   "metadata": {},
   "outputs": [],
   "source": [
    "import torch\n",
    "\n",
    "import torch.nn as nn \n",
    "\n",
    "import torch.optim as optim"
   ]
  },
  {
   "cell_type": "code",
   "execution_count": 7,
   "id": "aefee32c",
   "metadata": {},
   "outputs": [],
   "source": [
    "# ----- Setup -----\n",
    "\n",
    "device  = torch.device('mps' if torch.backends.mps.is_available else  'cpu' )"
   ]
  },
  {
   "cell_type": "code",
   "execution_count": 8,
   "id": "1389806d",
   "metadata": {},
   "outputs": [],
   "source": [
    "chars = ['A','B','C','D']\n",
    "\n",
    "char_to_idx =  {ch: i for i,ch in enumerate(chars)}\n",
    "\n",
    "idx_to_char = {i: ch for ch, i in char_to_idx.items()}"
   ]
  },
  {
   "cell_type": "code",
   "execution_count": 9,
   "id": "ad369929",
   "metadata": {},
   "outputs": [],
   "source": [
    "# Sample input and target\n",
    "\n",
    "input_indices = torch.tensor([2,1,0,0], dtype=torch.long) # C B A A\n",
    "\n",
    "target_indices = torch.tensor([1,0,0,3],dtype=torch.long) # B A A D"
   ]
  },
  {
   "cell_type": "code",
   "execution_count": 10,
   "id": "89d14ec9",
   "metadata": {},
   "outputs": [],
   "source": [
    "# One-hot encode inputs\n",
    "\n",
    "def one_hot_encode(index, vocab_size):\n",
    "\n",
    "    vec = torch.zeros(vocab_size)\n",
    "\n",
    "    vec[index] = 1.0\n",
    "\n",
    "    return vec\n",
    "\n",
    "vocab_size = len(chars)\n",
    "\n",
    "input_one_hot = torch.stack([one_hot_encode(i,vocab_size) for i in input_indices])\n",
    "\n",
    "input_one_hot = input_one_hot.unsqueeze(1).to(device) # [seq_len, 1, vocab_size]\n",
    "\n",
    "target_tensor = target_indices.to(device)"
   ]
  },
  {
   "cell_type": "code",
   "execution_count": 11,
   "id": "64416262",
   "metadata": {},
   "outputs": [],
   "source": [
    "# ----- Model -----\n",
    "\n",
    "class VanillaRNN(nn.Module):\n",
    "\n",
    "    def __init__(self,input_size, hidden_size, output_size):\n",
    "        super(VanillaRNN,self).__init__()\n",
    "\n",
    "        self.rnn = nn.RNN(input_size, hidden_size)\n",
    "\n",
    "        self.fc = nn.Linear(hidden_size, output_size)\n",
    "\n",
    "        self.softmax = nn.LogSoftmax(dim=1)\n",
    "\n",
    "    def forward(self, input_seq, hidden):\n",
    "\n",
    "        out, hidden = self.rnn(input_seq, hidden)\n",
    "\n",
    "        out = self.fc(out.squeeze(0))  # remove seq_len dimension\n",
    "\n",
    "        out = self.softmax(out)\n",
    "\n",
    "        return out, hidden\n",
    "    \n",
    "hidden_size = 8\n",
    "\n",
    "model = VanillaRNN(vocab_size, hidden_size, vocab_size).to(device)"
   ]
  },
  {
   "cell_type": "code",
   "execution_count": 12,
   "id": "d2e34f08",
   "metadata": {},
   "outputs": [
    {
     "name": "stdout",
     "output_type": "stream",
     "text": [
      "Epoch 20/ 100, Loss: 1.1105\n",
      "Epoch 40/ 100, Loss: 0.2566\n",
      "Epoch 60/ 100, Loss: 0.1186\n",
      "Epoch 80/ 100, Loss: 0.0713\n",
      "Epoch 100/ 100, Loss: 0.0484\n"
     ]
    }
   ],
   "source": [
    "# ----- Training -----\n",
    "\n",
    "loss_fn = nn.NLLLoss()\n",
    "\n",
    "optimizer = optim.Adam(model.parameters(), lr=0.01)\n",
    "\n",
    "\n",
    "n_epochs = 100\n",
    "\n",
    "for epoch in range(n_epochs):\n",
    "\n",
    "    hidden = torch.zeros(1,1, hidden_size).to(device)\n",
    "\n",
    "    total_loss = 0\n",
    "\n",
    "\n",
    "    for  i in range(len(input_one_hot)):\n",
    "\n",
    "        optimizer.zero_grad()\n",
    "\n",
    "        inp = input_one_hot[i].unsqueeze(0) # [1, 1, vocab_size]\n",
    "\n",
    "        out, hidden = model(inp, hidden.detach())\n",
    "\n",
    "        loss = loss_fn(out, target_tensor[i].unsqueeze(0))\n",
    "\n",
    "        loss.backward()\n",
    "\n",
    "        optimizer.step()\n",
    "\n",
    "        total_loss += loss.item()\n",
    "\n",
    "    \n",
    "    if (epoch + 1)% 20 == 0:\n",
    "\n",
    "        print(f'Epoch {epoch + 1}/ {n_epochs}, Loss: { total_loss:.4f}')\n"
   ]
  },
  {
   "cell_type": "code",
   "execution_count": 13,
   "id": "bec95822",
   "metadata": {},
   "outputs": [
    {
     "name": "stdout",
     "output_type": "stream",
     "text": [
      "\n",
      "🧠 Inference after training:\n",
      "Target Characters   : ['B', 'A', 'A', 'D']\n",
      "Predicted Characters: ['B', 'A', 'A', 'D']\n"
     ]
    }
   ],
   "source": [
    "# ----- Inference -----\n",
    "\n",
    "print(\"\\n🧠 Inference after training:\")\n",
    "\n",
    "hidden = torch.zeros(1, 1, hidden_size).to(device)\n",
    "\n",
    "predicted_indices = []\n",
    "\n",
    "\n",
    "for i in range(len(input_one_hot)):\n",
    "\n",
    "    inp = input_one_hot[i].unsqueeze(0)\n",
    "\n",
    "    output, hidden = model(inp, hidden)\n",
    "\n",
    "    pred_idx = torch.argmax(output, dim=1).item()\n",
    "\n",
    "    predicted_indices.append(pred_idx)\n",
    "\n",
    "\n",
    "predicted_chars = [idx_to_char[i] for i in predicted_indices]\n",
    "\n",
    "target_chars = [idx_to_char[i.item()] for i in target_tensor]\n",
    "\n",
    "\n",
    "print(\"Target Characters   :\", target_chars)\n",
    "\n",
    "print(\"Predicted Characters:\", predicted_chars)"
   ]
  }
 ],
 "metadata": {
  "kernelspec": {
   "display_name": "masterxdl",
   "language": "python",
   "name": "python3"
  },
  "language_info": {
   "codemirror_mode": {
    "name": "ipython",
    "version": 3
   },
   "file_extension": ".py",
   "mimetype": "text/x-python",
   "name": "python",
   "nbconvert_exporter": "python",
   "pygments_lexer": "ipython3",
   "version": "3.9.21"
  }
 },
 "nbformat": 4,
 "nbformat_minor": 5
}
