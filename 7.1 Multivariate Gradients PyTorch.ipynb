{
 "cells": [
  {
   "cell_type": "markdown",
   "metadata": {},
   "source": [
    "we'll take a fucntion f(x,y)= x^2 + y^2 and compute gradients using Autograd"
   ]
  },
  {
   "cell_type": "code",
   "execution_count": 25,
   "metadata": {},
   "outputs": [],
   "source": [
    "import torch"
   ]
  },
  {
   "cell_type": "code",
   "execution_count": 26,
   "metadata": {},
   "outputs": [],
   "source": [
    "# Create tensors with requires_grad=True to track gradients\n",
    "\n",
    "x = torch.tensor(2.0 , requires_grad=True)\n",
    "\n",
    "y = torch.tensor(3.0 , requires_grad=True)"
   ]
  },
  {
   "cell_type": "code",
   "execution_count": 27,
   "metadata": {},
   "outputs": [],
   "source": [
    "# Define function f(x, y) = x^2 + y^2\n",
    "\n",
    "f = x**2 + y**2"
   ]
  },
  {
   "cell_type": "code",
   "execution_count": 28,
   "metadata": {},
   "outputs": [],
   "source": [
    "# Compute gradients\n",
    "\n",
    "f.backward()"
   ]
  },
  {
   "cell_type": "code",
   "execution_count": 29,
   "metadata": {},
   "outputs": [
    {
     "name": "stdout",
     "output_type": "stream",
     "text": [
      "∂f/∂x: tensor(4.)\n",
      "∂f/∂y: tensor(6.)\n"
     ]
    }
   ],
   "source": [
    "# Print gradients\n",
    "\n",
    "print(\"∂f/∂x:\", x.grad)  # Should be 2x = 4\n",
    "\n",
    "print(\"∂f/∂y:\", y.grad)  # Should be 2y = 6\n"
   ]
  },
  {
   "cell_type": "markdown",
   "metadata": {},
   "source": [
    "What This Shows:\n",
    "\n",
    "f.backward() computes gradients for both x and y.\n",
    "\n",
    "We can now use these gradients in Gradient Descent to update weights."
   ]
  }
 ],
 "metadata": {
  "kernelspec": {
   "display_name": "masterxdl",
   "language": "python",
   "name": "python3"
  },
  "language_info": {
   "codemirror_mode": {
    "name": "ipython",
    "version": 3
   },
   "file_extension": ".py",
   "mimetype": "text/x-python",
   "name": "python",
   "nbconvert_exporter": "python",
   "pygments_lexer": "ipython3",
   "version": "3.9.21"
  }
 },
 "nbformat": 4,
 "nbformat_minor": 2
}
