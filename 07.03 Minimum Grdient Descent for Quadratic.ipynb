{
 "cells": [
  {
   "cell_type": "markdown",
   "metadata": {},
   "source": [
    "Find minimum of f(x) = (x-3)^2"
   ]
  },
  {
   "cell_type": "code",
   "execution_count": 4,
   "metadata": {},
   "outputs": [],
   "source": [
    "import torch"
   ]
  },
  {
   "cell_type": "code",
   "execution_count": 5,
   "metadata": {},
   "outputs": [],
   "source": [
    "# Initialize x with a random value\n",
    "\n",
    "x = torch.tensor(10.0, requires_grad=True)  # Start far from the minimum\n",
    "\n",
    "learning_rate = 0.1 # Step size"
   ]
  },
  {
   "cell_type": "code",
   "execution_count": 6,
   "metadata": {},
   "outputs": [
    {
     "name": "stdout",
     "output_type": "stream",
     "text": [
      "Step0: x =8.600000381469727, loss=49.0\n",
      "Step10: x =3.6012954711914062, loss=0.5649316310882568\n",
      "Step20: x =3.064563512802124, loss=0.0065132081508636475\n",
      "Step30: x =3.006932497024536, loss=7.50919571146369e-05\n",
      "Step40: x =3.000744342803955, loss=8.65475385580794e-07\n",
      "Final x = 3.0000996589660645\n"
     ]
    }
   ],
   "source": [
    "for i in range(50):\n",
    "\n",
    "    loss = (x -3)**2  # Function we want to minimize\n",
    "\n",
    "    loss.backward() # Compute Gradient\n",
    "\n",
    "\n",
    "    with torch.no_grad(): # Update x without tracking gradient\n",
    "\n",
    "        x -= learning_rate * x.grad # Gradient Descent Step\n",
    "\n",
    "        x.grad.zero_()  # Reset Gradient\n",
    "\n",
    "    if i % 10 == 0:\n",
    "        \n",
    "        print(f'Step{i}: x ={x.item()}, loss={loss.item()}')\n",
    "\n",
    "\n",
    "print(f'Final x = {x.item()}') # Should be close to 3\n"
   ]
  },
  {
   "cell_type": "markdown",
   "metadata": {},
   "source": [
    "✅ Observations\n",
    "\n",
    "We start from x = 10, and with each step, x moves closer to 3.\n",
    "\n",
    "This happens because the gradient pushes x in the direction of minimum loss.\n",
    "\n",
    "The learning rate (α) controls the step size—too large, and we might overshoot; too small, and learning is slow."
   ]
  }
 ],
 "metadata": {
  "kernelspec": {
   "display_name": "masterxdl",
   "language": "python",
   "name": "python3"
  },
  "language_info": {
   "codemirror_mode": {
    "name": "ipython",
    "version": 3
   },
   "file_extension": ".py",
   "mimetype": "text/x-python",
   "name": "python",
   "nbconvert_exporter": "python",
   "pygments_lexer": "ipython3",
   "version": "3.9.21"
  }
 },
 "nbformat": 4,
 "nbformat_minor": 2
}
