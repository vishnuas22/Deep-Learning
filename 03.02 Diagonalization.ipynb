{
 "cells": [
  {
   "cell_type": "code",
   "execution_count": 140,
   "metadata": {},
   "outputs": [],
   "source": [
    "import numpy as np"
   ]
  },
  {
   "cell_type": "code",
   "execution_count": 141,
   "metadata": {},
   "outputs": [],
   "source": [
    "A = np.array([[3,5],[1,2]])\n",
    "\n",
    "B = np.array([[1,2],[2,4]])"
   ]
  },
  {
   "cell_type": "code",
   "execution_count": 142,
   "metadata": {},
   "outputs": [],
   "source": [
    "# Calculate eigenvalues and eigenvectors\n",
    "eigenvalues, eigenvectors = np.linalg.eig(A)\n",
    "\n",
    "P = eigenvectors\n",
    "\n",
    "D = np.diag(eigenvalues)\n",
    "\n",
    "det_P = np.linalg.det(P)\n",
    "\n",
    "P_inverse = np.linalg.inv(P)"
   ]
  },
  {
   "cell_type": "code",
   "execution_count": 143,
   "metadata": {},
   "outputs": [
    {
     "name": "stdout",
     "output_type": "stream",
     "text": [
      "Matrix A : \n",
      "[[3 5]\n",
      " [1 2]] \n",
      "Eigen Vectors : \n",
      "[[ 0.94140906 -0.87315384]\n",
      " [ 0.33726692  0.48744474]] \n",
      "Diagonal  Matrix D : \n",
      "[[4.79128785 0.        ]\n",
      " [0.         0.20871215]] \n",
      "Determinant of P:\n",
      " 0.7533708035008841\n",
      "Inverse of P (P^-1): \n",
      " [[ 0.64701836  1.15899612]\n",
      " [-0.44767719  1.24959589]]\n"
     ]
    }
   ],
   "source": [
    "print(f'Matrix A : \\n{A} ')\n",
    "\n",
    "print(f'Eigen Vectors : \\n{P} ')\n",
    "\n",
    "print(f'Diagonal  Matrix D : \\n{D} ')\n",
    "\n",
    "print(f'Determinant of P:\\n {det_P}')\n",
    "\n",
    "print(f'Inverse of P (P^-1): \\n {P_inverse}')\n"
   ]
  },
  {
   "cell_type": "code",
   "execution_count": 144,
   "metadata": {},
   "outputs": [
    {
     "name": "stdout",
     "output_type": "stream",
     "text": [
      "\n",
      "Verification (A == PDP^-1):\n",
      "True\n"
     ]
    }
   ],
   "source": [
    "A_reconstructed = P @ D @ P_inverse\n",
    "\n",
    "#Check if matrices are the same.\n",
    "\n",
    "print(\"\\nVerification (A == PDP^-1):\")\n",
    "\n",
    "print(np.allclose(A, A_reconstructed))"
   ]
  }
 ],
 "metadata": {
  "kernelspec": {
   "display_name": "masterxml",
   "language": "python",
   "name": "python3"
  },
  "language_info": {
   "codemirror_mode": {
    "name": "ipython",
    "version": 3
   },
   "file_extension": ".py",
   "mimetype": "text/x-python",
   "name": "python",
   "nbconvert_exporter": "python",
   "pygments_lexer": "ipython3",
   "version": "3.10.16"
  }
 },
 "nbformat": 4,
 "nbformat_minor": 2
}
