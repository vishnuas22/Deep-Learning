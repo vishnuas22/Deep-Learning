{
 "cells": [
  {
   "cell_type": "markdown",
   "metadata": {},
   "source": [
    "For a symmetric matrix A, we can always decompose it as:\n",
    "\n",
    "A=QΛQT\n",
    " \n",
    "where:\n",
    "\n",
    "Q is an orthogonal matrix containing eigenvectors (i.e., \n",
    "\n",
    "QTQ=I\n",
    "\n",
    "Λ is a diagonal matrix of eigenvalues."
   ]
  },
  {
   "cell_type": "code",
   "execution_count": null,
   "metadata": {},
   "outputs": [],
   "source": [
    "import numpy as np"
   ]
  },
  {
   "cell_type": "code",
   "execution_count": null,
   "metadata": {},
   "outputs": [],
   "source": [
    "# Define a symmetric matrix\n",
    "\n",
    "A = np.array([[4,1],\n",
    "              [1,3]])"
   ]
  },
  {
   "cell_type": "code",
   "execution_count": null,
   "metadata": {},
   "outputs": [],
   "source": [
    "# Compute Eigenvalues and Eigenvectors\n",
    "\n",
    "eigenvalues, eigenvectors = np.linalg.eig(A)"
   ]
  },
  {
   "cell_type": "code",
   "execution_count": null,
   "metadata": {},
   "outputs": [],
   "source": [
    "# Construct diagonal matrix of eigenvalues\n",
    "\n",
    "Lambda = np.diag(eigenvalues)"
   ]
  },
  {
   "cell_type": "code",
   "execution_count": null,
   "metadata": {},
   "outputs": [],
   "source": [
    "# Verify decomposition: A = Q * Lambda * Q^T\n",
    "\n",
    "A_reconstructed = eigenvectors @ Lambda @ eigenvectors.T"
   ]
  },
  {
   "cell_type": "code",
   "execution_count": null,
   "metadata": {},
   "outputs": [],
   "source": [
    "# Print results\n",
    "\n",
    "print(\"Original Matrix A:\\n\", A)\n",
    "\n",
    "print(\"Eigenvalues (Diagonal Lambda):\\n\", Lambda)\n",
    "\n",
    "print(\"Eigenvectors (Q):\\n\", eigenvectors)\n",
    "\n",
    "print(\"Reconstructed A (should match original):\\n\", A_reconstructed)"
   ]
  },
  {
   "cell_type": "markdown",
   "metadata": {},
   "source": [
    "✅ Spectral Decomposition always works for symmetric matrices.\n",
    "\n",
    "✅ It helps break down matrices into simpler components.\n",
    "\n",
    "✅ Foundation for PCA, used in AI for dimensionality reduction."
   ]
  }
 ],
 "metadata": {
  "kernelspec": {
   "display_name": "masterxdl",
   "language": "python",
   "name": "python3"
  },
  "language_info": {
   "name": "python",
   "version": "3.9.21"
  }
 },
 "nbformat": 4,
 "nbformat_minor": 2
}
