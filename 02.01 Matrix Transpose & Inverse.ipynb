{
 "cells": [
  {
   "cell_type": "code",
   "execution_count": 174,
   "metadata": {},
   "outputs": [],
   "source": [
    "import numpy as np"
   ]
  },
  {
   "cell_type": "code",
   "execution_count": 175,
   "metadata": {},
   "outputs": [],
   "source": [
    "# Define a square matrix\n",
    "\n",
    "# A = np.array([[2,4],[1,2]])\n",
    "\n",
    "A = np.array([[1, 2, 3], [4, 5, 6], [7, 8, 9]])\n"
   ]
  },
  {
   "cell_type": "code",
   "execution_count": 176,
   "metadata": {},
   "outputs": [],
   "source": [
    "# Compute Transpose\n",
    "\n",
    "A_transpose = np.transpose(A) # or A.T"
   ]
  },
  {
   "cell_type": "code",
   "execution_count": 177,
   "metadata": {},
   "outputs": [
    {
     "name": "stdout",
     "output_type": "stream",
     "text": [
      "-9.51619735392994e-16\n"
     ]
    }
   ],
   "source": [
    "A_inv_trans = np.linalg.det(A)\n",
    "\n",
    "print(A_inv_trans)"
   ]
  },
  {
   "cell_type": "code",
   "execution_count": 178,
   "metadata": {},
   "outputs": [
    {
     "name": "stdout",
     "output_type": "stream",
     "text": [
      "-9.51619735392994e-16\n"
     ]
    }
   ],
   "source": [
    "# Compute Determinant\n",
    "det_A = np.linalg.det(A)\n",
    "\n",
    "print(det_A)\n"
   ]
  },
  {
   "cell_type": "code",
   "execution_count": 179,
   "metadata": {},
   "outputs": [],
   "source": [
    "# B = np.array([[1,6],[1,6]])\n",
    "\n",
    "# B_det = np.linalg.det(B)\n",
    "\n",
    "# print(B_det)\n",
    "\n",
    "# B_inverse = np.linalg.inv(B)  # Only works if det(B) ≠ 0\n",
    "\n",
    "# B_inverse"
   ]
  },
  {
   "cell_type": "code",
   "execution_count": 180,
   "metadata": {},
   "outputs": [
    {
     "name": "stdout",
     "output_type": "stream",
     "text": [
      "Inverse of A:\n",
      " [[ 3.15251974e+15 -6.30503948e+15  3.15251974e+15]\n",
      " [-6.30503948e+15  1.26100790e+16 -6.30503948e+15]\n",
      " [ 3.15251974e+15 -6.30503948e+15  3.15251974e+15]]\n",
      "A * A_inverse (Should be Identity Matrix):\n",
      " [[ 0.  1.  0.]\n",
      " [ 0.  2.  0.]\n",
      " [-4.  3.  2.]]\n"
     ]
    }
   ],
   "source": [
    "# Check if the matrix is invertible\n",
    "\n",
    "if det_A != 0:\n",
    "    \n",
    "    A_inverse = np.linalg.inv(A)\n",
    "    identity_matrix = np.dot(A, A_inverse)\n",
    "    print(\"Inverse of A:\\n\", A_inverse)\n",
    "    print(\"A * A_inverse (Should be Identity Matrix):\\n\", identity_matrix)\n",
    "else:\n",
    "    print(\"Matrix A is singular (determinant = 0), so no inverse exists.\")"
   ]
  },
  {
   "cell_type": "markdown",
   "metadata": {},
   "source": [
    " Next Challenge: Condition Number (Numerical Stability)\n",
    " \n",
    "Even if a matrix has an inverse, some matrices are ill-conditioned, meaning their inverse can be highly unstable in numerical computations."
   ]
  },
  {
   "cell_type": "code",
   "execution_count": 181,
   "metadata": {},
   "outputs": [],
   "source": [
    "B = np.array([[3, 5], [1, 2]])\n",
    "\n",
    "C = np.array([[1, 2], [2.0001, 4]])"
   ]
  },
  {
   "cell_type": "code",
   "execution_count": 182,
   "metadata": {},
   "outputs": [
    {
     "name": "stdout",
     "output_type": "stream",
     "text": [
      "1.0000000000000004\n"
     ]
    }
   ],
   "source": [
    "cond_B = np.linalg.cond(B)\n",
    "\n",
    "cond_C = np.linalg.cond(C)\n",
    "\n",
    "print(np.linalg.det(B))"
   ]
  },
  {
   "cell_type": "code",
   "execution_count": 183,
   "metadata": {},
   "outputs": [
    {
     "name": "stdout",
     "output_type": "stream",
     "text": [
      "38.974342094150494\n",
      "125002.00004075332\n"
     ]
    }
   ],
   "source": [
    "print(cond_B)\n",
    "\n",
    "print(cond_C)"
   ]
  },
  {
   "cell_type": "code",
   "execution_count": null,
   "metadata": {},
   "outputs": [],
   "source": []
  }
 ],
 "metadata": {
  "kernelspec": {
   "display_name": "masterxml",
   "language": "python",
   "name": "python3"
  },
  "language_info": {
   "codemirror_mode": {
    "name": "ipython",
    "version": 3
   },
   "file_extension": ".py",
   "mimetype": "text/x-python",
   "name": "python",
   "nbconvert_exporter": "python",
   "pygments_lexer": "ipython3",
   "version": "3.10.16"
  }
 },
 "nbformat": 4,
 "nbformat_minor": 2
}
