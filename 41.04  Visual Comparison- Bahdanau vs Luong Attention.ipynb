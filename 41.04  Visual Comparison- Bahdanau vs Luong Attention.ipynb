{
 "cells": [
  {
   "cell_type": "markdown",
   "id": "ccbabee0",
   "metadata": {},
   "source": [
    "     Encoder Hidden States: h1, h2, ..., hn\n",
    "                  ↓       ↓        ↓\n",
    "                [W1*h1] [W1*h2]  [W1*hn]     ← projected encoder states\n",
    "                    \\     |      /\n",
    "                    [ add W2*s_{t-1} ]     ← decoder's last state projected\n",
    "                          ↓\n",
    "                      tanh + vᵀ\n",
    "                          ↓\n",
    "                 Alignment scores e_i\n",
    "                          ↓\n",
    "                    softmax → α_i\n",
    "                          ↓\n",
    "          Weighted sum → context vector c_t\n",
    "                          ↓\n",
    "          concat(c_t, s_{t-1}) → Decoder Output\n"
   ]
  },
  {
   "cell_type": "markdown",
   "id": "af3d309a",
   "metadata": {},
   "source": [
    "Think of it as attention with a small neural net (FFN).\n",
    "Powerful, flexible, and widely used in earlier attention work."
   ]
  },
  {
   "cell_type": "markdown",
   "id": "7d3021b9",
   "metadata": {},
   "source": [
    "2. Luong Attention (Multiplicative)"
   ]
  },
  {
   "cell_type": "markdown",
   "id": "c2f465e2",
   "metadata": {},
   "source": [
    "     Encoder Hidden States: h1, h2, ..., hn\n",
    "              ↓         ↓         ↓\n",
    "        (optional W) h1  h2  ...  hn\n",
    "              ↓         ↓         ↓\n",
    "        dot product with s_t\n",
    "              ↓         ↓         ↓\n",
    "        Alignment scores e_i\n",
    "              ↓\n",
    "          softmax → α_i\n",
    "              ↓\n",
    "      Weighted sum → context vector c_t\n",
    "              ↓\n",
    "      concat(c_t, s_t) → Decoder Output\n"
   ]
  },
  {
   "cell_type": "markdown",
   "id": "29d626a9",
   "metadata": {},
   "source": [
    "This uses simpler math (dot product) to compute alignment.\n",
    "Faster, easier for parallelism."
   ]
  },
  {
   "cell_type": "markdown",
   "id": "d9b8c6a5",
   "metadata": {},
   "source": [
    "Memory Tip (Mind Palace Style):\n",
    "Bahdanau = Brainy (FFN, tanh, more \"thinking\")\n",
    "Luong = Lightning (dot = fast, efficient)"
   ]
  }
 ],
 "metadata": {
  "language_info": {
   "name": "python"
  }
 },
 "nbformat": 4,
 "nbformat_minor": 5
}
