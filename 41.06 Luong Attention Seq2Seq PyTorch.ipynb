{
 "cells": [
  {
   "cell_type": "code",
   "execution_count": 1,
   "id": "b159dae3",
   "metadata": {},
   "outputs": [],
   "source": [
    "import torch\n",
    "import torch.nn as nn\n",
    "import torch.nn.functional as F"
   ]
  },
  {
   "cell_type": "code",
   "execution_count": 2,
   "id": "0b53971d",
   "metadata": {},
   "outputs": [],
   "source": [
    "class LuongAttention(nn.Module):\n",
    "\n",
    "    def __init__(self, encoder_dim, decoder_dim):\n",
    "        super(LuongAttention,self).__init__()\n",
    "\n",
    "        self.linear_encoder = nn.Linear(encoder_dim,decoder_dim)\n",
    "\n",
    "\n",
    "    def forward(self, encoder_outputs, decoder_hidden):\n",
    "\n",
    "        # encoder_outputs: [batch, seq_len, enc_dim]\n",
    "        # decoder_hidden: [batch, dec_dim]\n",
    "\n",
    "        # Project encoder outputs\n",
    "\n",
    "        proj_enc = self.linear_encoder(encoder_outputs) # [B, T, dec_dim]\n",
    "\n",
    "        # Unsqueeze decoder hidden to [B, dec_dim, 1]\n",
    "\n",
    "        dec_hidden = decoder_hidden.unsqueeze(2) # [B, dec_dim, 1]\n",
    "\n",
    "        # Compute dot-product scores\n",
    "\n",
    "        scores = torch.bmm(proj_enc, dec_hidden).squeeze(2) # [B, T]\n",
    "\n",
    "\n",
    "        attn_weights = F.softmax(scores, dim=1) # [B, T]\n",
    "\n",
    "        context_vector = torch.bmm(attn_weights.unsqueeze(1),encoder_outputs).squeeze(1) # [B, enc_dim]\n",
    "\n",
    "        return context_vector, attn_weights"
   ]
  },
  {
   "cell_type": "markdown",
   "id": "9c8be839",
   "metadata": {},
   "source": [
    "1. Encoder"
   ]
  },
  {
   "cell_type": "code",
   "execution_count": 3,
   "id": "6dbb33f0",
   "metadata": {},
   "outputs": [],
   "source": [
    "class Encoder(nn.Module):\n",
    "\n",
    "    def __init__(self, input_dim, emb_dim, hidden_dim, num_layers=1):\n",
    "        super().__init__()\n",
    "\n",
    "        self.embedding = nn.Embedding(input_dim, emb_dim)\n",
    "\n",
    "        self.rnn = nn.LSTM(emb_dim, hidden_dim, num_layers, batch_first=True)\n",
    "\n",
    "    def forward(self, src):\n",
    "\n",
    "        # src: [batch_size, src_len]\n",
    "\n",
    "        embedded = self.embedding(src) # [batch_size, src_len, emb_dim]\n",
    "\n",
    "        outputs, (hidden, cell) = self.rnn(embedded)\n",
    "\n",
    "        # outputs: [batch_size, src_len, hidden_dim]\n",
    "\n",
    "        return outputs, hidden, cell"
   ]
  },
  {
   "cell_type": "markdown",
   "id": "a9c47462",
   "metadata": {},
   "source": [
    "2. Luong Attention"
   ]
  },
  {
   "cell_type": "code",
   "execution_count": 4,
   "id": "54b769df",
   "metadata": {},
   "outputs": [],
   "source": [
    "class LuongAttention(nn.Module):\n",
    "\n",
    "    def __init__(self, hidden_dim):\n",
    "        super().__init__()\n",
    "\n",
    "        self.attn = nn.Linear(hidden_dim, hidden_dim)\n",
    "\n",
    "    \n",
    "    def forward(self , decoder_hidden , encoder_outputs):\n",
    "\n",
    "        # decoder_hidden: [batch_size, 1, hidden_dim]\n",
    "        # encoder_outputs: [batch_size, src_len, hidden_dim]\n",
    "\n",
    "        # → scores: [batch_size, 1, src_len]\n",
    "\n",
    "        score = torch.bmm(decoder_hidden, encoder_outputs.transpose(1,2))\n",
    "\n",
    "        attn_weights = F.softmax(score, dim=1)\n",
    "\n",
    "        context = torch.bmm(attn_weights, encoder_outputs)  # [batch_size, 1, hidden_dim]\n",
    "\n",
    "        return context, attn_weights"
   ]
  },
  {
   "cell_type": "markdown",
   "id": "f152197d",
   "metadata": {},
   "source": [
    "3. Decoder with Luong Attention"
   ]
  },
  {
   "cell_type": "code",
   "execution_count": 5,
   "id": "3e6477b2",
   "metadata": {},
   "outputs": [],
   "source": [
    "class Decoder(nn.Module):\n",
    "\n",
    "    def __init__(self, output_dim, emb_dim, hidden_dim, attention, num_layers=1):\n",
    "        super().__init__()\n",
    "\n",
    "        self.embedding = nn.Embedding(output_dim, emb_dim)\n",
    "\n",
    "        self.rnn = nn.LSTM(emb_dim, hidden_dim, num_layers, batch_first=True)\n",
    "\n",
    "        self.attention = attention\n",
    "\n",
    "        self.fc_out = nn.Linear(hidden_dim * 2, output_dim)\n",
    "\n",
    "    def forward(self, input, hidden, cell, encoder_outputs):\n",
    "\n",
    "        # input: [batch_size] → unsqueeze to [batch_size, 1]\n",
    "\n",
    "        input = input.unsqueeze(1)\n",
    "\n",
    "        embedded = self.embedding(input)  # [batch_size, 1, emb_dim]\n",
    "\n",
    "        output, (hidden, cell) = self.rnn(embedded, (hidden, cell))  # output: [batch, 1, hidden]\n",
    "\n",
    "        context, attn_weights = self.attention(output, encoder_outputs) # [batch, 1, hidden]\n",
    "\n",
    "        concat = torch.cat((output, context), dim=2) # [batch, 1, hidden*2]\n",
    "\n",
    "        prediction = self.fc_out(concat.squeeze(1))  # [batch, output_dim]\n",
    "\n",
    "        return prediction, hidden, cell, attn_weights"
   ]
  },
  {
   "cell_type": "markdown",
   "id": "b9e5a0b3",
   "metadata": {},
   "source": [
    "4. Seq2Seq Model"
   ]
  },
  {
   "cell_type": "code",
   "execution_count": 6,
   "id": "218681b8",
   "metadata": {},
   "outputs": [],
   "source": [
    "class Seq2Seq(nn.Module):\n",
    "\n",
    "    def __init__(self, encoder, decoder):\n",
    "        super().__init__()\n",
    "\n",
    "        self.encoder = encoder\n",
    "\n",
    "        self.decoder = decoder\n",
    "\n",
    "    def forward(self, src, trg, teacher_forcing_ratio=0.5):\n",
    "\n",
    "        batch_size = trg.size(0)\n",
    "\n",
    "        trg_len = trg.size(1)\n",
    "\n",
    "        trg_vocab_size = self.decoder.fc_out.out_features\n",
    "\n",
    "\n",
    "        outputs = torch.zeros(batch_size, trg_len, trg_vocab_size).to(src.device)\n",
    "\n",
    "        encoder_outputs , hidden, cell = self.encoder(src)\n",
    "\n",
    "        input = trg[:, 0] # first input to the decoder is <sos>\n",
    "\n",
    "\n",
    "        for t in range(1, trg_len):\n",
    "\n",
    "            output, hidden, cell, _ = self.decoder(input, hidden, cell, encoder_outputs)\n",
    "\n",
    "            outputs[:, t] = output\n",
    "\n",
    "            top1 = output.argmax(1)\n",
    "\n",
    "            input = trg[:, t] if torch.rand(1).item() < teacher_forcing_ratio else top1\n",
    "\n",
    "        return outputs"
   ]
  },
  {
   "cell_type": "markdown",
   "id": "16d2751d",
   "metadata": {},
   "source": [
    "1. Toy Dataset (for sequence-to-sequence translation)"
   ]
  },
  {
   "cell_type": "markdown",
   "id": "3cb00223",
   "metadata": {},
   "source": [
    "Input  (English):     ['i', 'like', 'deep', 'learning']\n",
    "Target (French-like): ['j', 'aime', 'apprendre', 'profond']\n"
   ]
  },
  {
   "cell_type": "markdown",
   "id": "817ade29",
   "metadata": {},
   "source": [
    "2. Full Training Code with Sample Dataset"
   ]
  },
  {
   "cell_type": "code",
   "execution_count": null,
   "id": "fad6cb94",
   "metadata": {},
   "outputs": [],
   "source": [
    "import torch\n",
    "import torch.nn as nn\n",
    "import torch.optim as optim\n",
    "\n",
    "# Toy vocabulary\n",
    "SRC_vocab = ['<pad>', '<sos>', '<eos>', 'i', 'like', 'deep', 'learning']\n",
    "TRG_vocab = ['<pad>', '<sos>', '<eos>', 'j', 'aime', 'apprendre', 'profond']\n",
    "\n",
    "SRC_word2idx = {w: i for i, w in enumerate(SRC_vocab)}\n",
    "TRG_word2idx = {w: i for i, w in enumerate(TRG_vocab)}\n",
    "SRC_idx2word = {i: w for w, i in SRC_word2idx.items()}\n",
    "TRG_idx2word = {i: w for w, i in TRG_word2idx.items()}\n",
    "\n",
    "# Sample data (tokenized)\n",
    "src_sentences = [['i', 'like', 'deep', 'learning']]\n",
    "trg_sentences = [['<sos>', 'j', 'aime', 'apprendre', 'profond', '<eos>']]\n",
    "\n",
    "# Convert to indices\n",
    "def encode(sent, word2idx):\n",
    "    return [word2idx[word] for word in sent]\n",
    "\n",
    "src_tensor = torch.tensor([encode(sent, SRC_word2idx) for sent in src_sentences])\n",
    "trg_tensor = torch.tensor([encode(sent, TRG_word2idx) for sent in trg_sentences])\n"
   ]
  },
  {
   "cell_type": "markdown",
   "id": "de798622",
   "metadata": {},
   "source": [
    " 3. Model Setup and Training Loop"
   ]
  },
  {
   "cell_type": "markdown",
   "id": "e8040d98",
   "metadata": {},
   "source": [
    "# Model parameters\n",
    "INPUT_DIM = len(SRC_vocab)\n",
    "OUTPUT_DIM = len(TRG_vocab)\n",
    "EMB_DIM = 16\n",
    "HIDDEN_DIM = 32\n",
    "NUM_LAYERS = 1\n",
    "device = torch.device('cuda' if torch.cuda.is_available() else 'cpu')\n",
    "\n",
    "# Build the model\n",
    "attn = LuongAttention(HIDDEN_DIM)\n",
    "enc = Encoder(INPUT_DIM, EMB_DIM, HIDDEN_DIM, NUM_LAYERS)\n",
    "dec = Decoder(OUTPUT_DIM, EMB_DIM, HIDDEN_DIM, attn, NUM_LAYERS)\n",
    "model = Seq2Seq(enc, dec).to(device)\n",
    "\n",
    "# Optimizer and loss\n",
    "optimizer = optim.Adam(model.parameters())\n",
    "criterion = nn.CrossEntropyLoss(ignore_index=TRG_word2idx['<pad>'])\n",
    "\n",
    "# Move tensors to device\n",
    "src_tensor, trg_tensor = src_tensor.to(device), trg_tensor.to(device)\n"
   ]
  },
  {
   "cell_type": "code",
   "execution_count": null,
   "id": "27c8ff6c",
   "metadata": {},
   "outputs": [],
   "source": [
    "# Training loop\n",
    "EPOCHS = 300\n",
    "for epoch in range(1, EPOCHS + 1):\n",
    "    model.train()\n",
    "    optimizer.zero_grad()\n",
    "\n",
    "    output = model(src_tensor, trg_tensor)\n",
    "    # output: [batch, trg_len, output_dim]\n",
    "    output_dim = output.shape[-1]\n",
    "    \n",
    "    # Flatten the output and target for loss computation\n",
    "    output = output[:, 1:].reshape(-1, output_dim)\n",
    "    trg = trg_tensor[:, 1:].reshape(-1)\n",
    "\n",
    "    loss = criterion(output, trg)\n",
    "    loss.backward()\n",
    "    optimizer.step()\n",
    "\n",
    "    if epoch % 50 == 0:\n",
    "        print(f\"Epoch {epoch}/{EPOCHS}, Loss: {loss.item():.4f}\")\n"
   ]
  },
  {
   "cell_type": "markdown",
   "id": "3bfbe9bc",
   "metadata": {},
   "source": [
    " 4. Inference Function"
   ]
  },
  {
   "cell_type": "code",
   "execution_count": null,
   "id": "427e01de",
   "metadata": {},
   "outputs": [],
   "source": [
    "def translate_sentence(model, sentence):\n",
    "    model.eval()\n",
    "    with torch.no_grad():\n",
    "        input_ids = torch.tensor([[SRC_word2idx[word] for word in sentence]]).to(device)\n",
    "        encoder_outputs, hidden, cell = model.encoder(input_ids)\n",
    "\n",
    "        input_token = torch.tensor([TRG_word2idx['<sos>']]).to(device)\n",
    "        translated = []\n",
    "\n",
    "        for _ in range(10):\n",
    "            output, hidden, cell, _ = model.decoder(input_token, hidden, cell, encoder_outputs)\n",
    "            top1 = output.argmax(1).item()\n",
    "            if top1 == TRG_word2idx['<eos>']:\n",
    "                break\n",
    "            translated.append(TRG_idx2word[top1])\n",
    "            input_token = torch.tensor([top1]).to(device)\n",
    "    \n",
    "    return translated\n"
   ]
  },
  {
   "cell_type": "code",
   "execution_count": null,
   "id": "5a58d40f",
   "metadata": {},
   "outputs": [],
   "source": [
    "test_sentence = ['i', 'like', 'deep', 'learning']\n",
    "print(\"Input:\", test_sentence)\n",
    "print(\"Output:\", translate_sentence(model, test_sentence))\n"
   ]
  }
 ],
 "metadata": {
  "kernelspec": {
   "display_name": "masterxdl",
   "language": "python",
   "name": "python3"
  },
  "language_info": {
   "codemirror_mode": {
    "name": "ipython",
    "version": 3
   },
   "file_extension": ".py",
   "mimetype": "text/x-python",
   "name": "python",
   "nbconvert_exporter": "python",
   "pygments_lexer": "ipython3",
   "version": "3.9.21"
  }
 },
 "nbformat": 4,
 "nbformat_minor": 5
}
