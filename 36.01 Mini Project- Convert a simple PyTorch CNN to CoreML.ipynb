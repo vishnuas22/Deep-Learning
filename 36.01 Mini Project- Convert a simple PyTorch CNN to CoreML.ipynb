{
 "cells": [
  {
   "cell_type": "code",
   "execution_count": null,
   "id": "bf426fa7",
   "metadata": {},
   "outputs": [],
   "source": [
    "import torch\n",
    "\n",
    "import torch.nn as nn\n",
    "\n",
    "import numpy as np\n",
    "\n",
    "from PIL import Image\n",
    "\n",
    "import coremltools as ct\n",
    "\n",
    "from torchvision.models import resnet18, ResNet18_Weights\n",
    "\n",
    "from onnx_coreml import convert\n"
   ]
  },
  {
   "cell_type": "markdown",
   "id": "2e21093e",
   "metadata": {},
   "source": [
    "Export PyTorch Model to ONNX"
   ]
  },
  {
   "cell_type": "code",
   "execution_count": null,
   "id": "168f1081",
   "metadata": {},
   "outputs": [],
   "source": [
    "# Use pretrained or simple model\n",
    "\n",
    "weights = ResNet18_Weights.IMAGENET1K_V1\n",
    "\n",
    "model = resnet18(weights=weights)\n",
    "\n",
    "model.eval()"
   ]
  },
  {
   "cell_type": "code",
   "execution_count": null,
   "id": "6b6a62c1",
   "metadata": {},
   "outputs": [],
   "source": [
    "dummy_input = torch.randn(1, 3, 224, 224)\n",
    "\n",
    "torch.onnx.export(model, dummy_input, 'resnet18.onnx',\n",
    "                  input_names=['input'],output_names=['output'],\n",
    "                  opset_version=11)"
   ]
  },
  {
   "cell_type": "markdown",
   "id": "c5ec93ff",
   "metadata": {},
   "source": [
    "Convert ONNX to CoreML"
   ]
  },
  {
   "cell_type": "code",
   "execution_count": null,
   "id": "410f1456",
   "metadata": {},
   "outputs": [],
   "source": [
    "# Load ONNX model\n",
    "\n",
    "mlmodel = convert(model='resnet18.onnx')\n",
    "\n",
    "# Save CoreML model\n",
    "\n",
    "mlmodel.save('resnet18.mlmodel')"
   ]
  },
  {
   "cell_type": "markdown",
   "id": "5b105a56",
   "metadata": {},
   "source": [
    "Optional: Test Inference on macOS"
   ]
  },
  {
   "cell_type": "code",
   "execution_count": null,
   "id": "cca84678",
   "metadata": {},
   "outputs": [],
   "source": [
    "# Load CoreML model\n",
    "\n",
    "mlmodel = ct.models.MLModel(\"resnet18.mlmodel\")\n"
   ]
  },
  {
   "cell_type": "code",
   "execution_count": null,
   "id": "441c8bd6",
   "metadata": {},
   "outputs": [],
   "source": [
    "# Create a dummy input in dictionary format\n",
    "\n",
    "input_data = np.random.rand(224, 224, 3).astype(np.float32)\n",
    "\n",
    "input_dict = {\"input\": input_data}"
   ]
  },
  {
   "cell_type": "code",
   "execution_count": null,
   "id": "1e855b46",
   "metadata": {},
   "outputs": [],
   "source": [
    "# Predict\n",
    "\n",
    "out_dict = mlmodel.predict(input_dict)\n",
    "\n",
    "print(out_dict[\"output\"])"
   ]
  }
 ],
 "metadata": {
  "kernelspec": {
   "display_name": "masterxdl",
   "language": "python",
   "name": "python3"
  },
  "language_info": {
   "codemirror_mode": {
    "name": "ipython",
    "version": 3
   },
   "file_extension": ".py",
   "mimetype": "text/x-python",
   "name": "python",
   "nbconvert_exporter": "python",
   "pygments_lexer": "ipython3",
   "version": "3.9.21"
  }
 },
 "nbformat": 4,
 "nbformat_minor": 5
}
