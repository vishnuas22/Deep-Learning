{
 "cells": [
  {
   "cell_type": "code",
   "execution_count": 4,
   "metadata": {},
   "outputs": [],
   "source": [
    "import numpy as np\n"
   ]
  },
  {
   "cell_type": "code",
   "execution_count": 5,
   "metadata": {},
   "outputs": [
    {
     "name": "stdout",
     "output_type": "stream",
     "text": [
      "Matrix Multiplication: \n",
      " [[11 16]\n",
      " [19 28]]\n"
     ]
    }
   ],
   "source": [
    "# Define matrices\n",
    "\n",
    "A = np.array([[2,3],\n",
    "             [4,5]])\n",
    "\n",
    "B = np.array([[1,2],\n",
    "             [3,4]])\n",
    "\n",
    "# Matrix Multiplication\n",
    "\n",
    "print('Matrix Multiplication: \\n', np.dot(A,B))"
   ]
  },
  {
   "cell_type": "code",
   "execution_count": 6,
   "metadata": {},
   "outputs": [
    {
     "name": "stdout",
     "output_type": "stream",
     "text": [
      "Determinant: -2.0\n"
     ]
    }
   ],
   "source": [
    "# Determinant of a 2x2 Matrix\n",
    "\n",
    "print('Determinant:', np.linalg.det(A))"
   ]
  }
 ],
 "metadata": {
  "kernelspec": {
   "display_name": "masterxml",
   "language": "python",
   "name": "python3"
  },
  "language_info": {
   "codemirror_mode": {
    "name": "ipython",
    "version": 3
   },
   "file_extension": ".py",
   "mimetype": "text/x-python",
   "name": "python",
   "nbconvert_exporter": "python",
   "pygments_lexer": "ipython3",
   "version": "3.10.16"
  }
 },
 "nbformat": 4,
 "nbformat_minor": 2
}
