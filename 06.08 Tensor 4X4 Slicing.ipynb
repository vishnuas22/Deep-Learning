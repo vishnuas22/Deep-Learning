{
 "cells": [
  {
   "cell_type": "code",
   "execution_count": 367,
   "metadata": {},
   "outputs": [],
   "source": [
    "import torch"
   ]
  },
  {
   "cell_type": "code",
   "execution_count": 368,
   "metadata": {},
   "outputs": [
    {
     "name": "stdout",
     "output_type": "stream",
     "text": [
      "Original Tensor:\n",
      " tensor([[ 10,  20,  30,  50],\n",
      "        [ 40,  50,  60,  70],\n",
      "        [ 70,  80,  90, 100],\n",
      "        [ 80,  90, 100, 110]])\n"
     ]
    },
    {
     "data": {
      "text/plain": [
       "torch.Size([4, 4])"
      ]
     },
     "execution_count": 368,
     "metadata": {},
     "output_type": "execute_result"
    }
   ],
   "source": [
    "# Creating a 4x4 tensor\n",
    "\n",
    "A = torch.tensor([[10, 20, 30,50],\n",
    "                  [40, 50, 60,70],\n",
    "                  [70, 80, 90,100],\n",
    "                  [80, 90, 100,110]])\n",
    "\n",
    "\n",
    "print(\"Original Tensor:\\n\", A)\n",
    "\n",
    "A.size()"
   ]
  },
  {
   "cell_type": "code",
   "execution_count": 369,
   "metadata": {},
   "outputs": [
    {
     "name": "stdout",
     "output_type": "stream",
     "text": [
      "\n",
      "Third row:\n",
      " tensor([ 70,  80,  90, 100])\n",
      "Second Column:\n",
      " tensor([20, 50, 80, 90])\n",
      "2x2 submatrix from the center:\n",
      " tensor([[50, 60],\n",
      "        [80, 90]])\n"
     ]
    }
   ],
   "source": [
    "print('\\nThird row:\\n', A[2,:])\n",
    "\n",
    "print('Second Column:\\n', A[:, 1])\n",
    "\n",
    "print('2x2 submatrix from the center:\\n', A[1:3,1:3])"
   ]
  },
  {
   "cell_type": "code",
   "execution_count": 370,
   "metadata": {},
   "outputs": [
    {
     "name": "stdout",
     "output_type": "stream",
     "text": [
      "\n",
      " First 2 rows : \n",
      " tensor([[10, 20, 30, 50],\n",
      "        [40, 50, 60, 70]])\n",
      "\n",
      " Submatrix of 1st and 3rd column:\n",
      "  tensor([[10, 30],\n",
      "        [70, 90]])\n"
     ]
    }
   ],
   "source": [
    "print('\\n First 2 rows : \\n', A[:2, :])\n",
    "\n",
    "print('\\n Submatrix of 1st and 3rd column:\\n ', A[::2,::2])"
   ]
  },
  {
   "cell_type": "code",
   "execution_count": 371,
   "metadata": {},
   "outputs": [
    {
     "name": "stdout",
     "output_type": "stream",
     "text": [
      "\n",
      "Last 2 rows\n",
      ": tensor([[ 70,  80,  90, 100],\n",
      "        [ 80,  90, 100, 110]])\n",
      "\n",
      "2x2 submatrix from the bottom-right of A: \n",
      "  tensor([[ 90, 100],\n",
      "        [100, 110]])\n"
     ]
    }
   ],
   "source": [
    "print('\\nLast 2 rows\\n:', A[2:])\n",
    "\n",
    "print('\\n2x2 submatrix from the bottom-right of A: \\n ', A[2:,2:])"
   ]
  },
  {
   "cell_type": "code",
   "execution_count": 372,
   "metadata": {},
   "outputs": [
    {
     "name": "stdout",
     "output_type": "stream",
     "text": [
      "last column of A:\n",
      " tensor([ 50,  70, 100, 110])\n",
      "every alternate row starting from the second row\n",
      " tensor([[ 40,  50,  60,  70],\n",
      "        [ 80,  90, 100, 110]])\n"
     ]
    }
   ],
   "source": [
    "print('last column of A:\\n',  A[:,3])\n",
    "\n",
    "print('every alternate row starting from the second row\\n', A[1::2])"
   ]
  },
  {
   "cell_type": "code",
   "execution_count": 373,
   "metadata": {},
   "outputs": [
    {
     "name": "stdout",
     "output_type": "stream",
     "text": [
      "\n",
      "first two elements of every row \n",
      ": tensor([[10, 20],\n",
      "        [40, 50],\n",
      "        [70, 80],\n",
      "        [80, 90]])\n",
      "\n",
      "Extract the last two columns of A\n",
      " tensor([[ 30,  50],\n",
      "        [ 60,  70],\n",
      "        [ 90, 100],\n",
      "        [100, 110]])\n"
     ]
    }
   ],
   "source": [
    "print('\\nfirst two elements of every row \\n:', A[:,:2])\n",
    "\n",
    "print('\\nExtract the last two columns of A\\n', A[:, 2:])"
   ]
  },
  {
   "cell_type": "code",
   "execution_count": 374,
   "metadata": {},
   "outputs": [
    {
     "name": "stdout",
     "output_type": "stream",
     "text": [
      "\n",
      "middle row of A 4X4 Matrix Index 1,2 \n",
      " tensor([[ 40,  50,  60,  70],\n",
      "        [ 70,  80,  90, 100]])\n",
      "\n",
      "corner elements (first row, first column & last row, last column\n",
      " tensor(10) tensor(110)\n"
     ]
    }
   ],
   "source": [
    "print('\\nmiddle row of A 4X4 Matrix Index 1,2 \\n', A[1:3])\n",
    "\n",
    "print('\\ncorner elements (first row, first column & last row, last column\\n', A[0,0],A[-1,-1])"
   ]
  }
 ],
 "metadata": {
  "kernelspec": {
   "display_name": "masterxdl",
   "language": "python",
   "name": "python3"
  },
  "language_info": {
   "codemirror_mode": {
    "name": "ipython",
    "version": 3
   },
   "file_extension": ".py",
   "mimetype": "text/x-python",
   "name": "python",
   "nbconvert_exporter": "python",
   "pygments_lexer": "ipython3",
   "version": "3.9.21"
  }
 },
 "nbformat": 4,
 "nbformat_minor": 2
}
