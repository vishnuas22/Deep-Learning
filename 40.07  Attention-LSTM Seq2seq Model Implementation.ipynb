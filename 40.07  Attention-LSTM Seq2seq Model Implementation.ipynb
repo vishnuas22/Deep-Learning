{
 "cells": [
  {
   "cell_type": "code",
   "execution_count": 1,
   "id": "7ca50aac",
   "metadata": {},
   "outputs": [],
   "source": [
    "import torch\n",
    "\n",
    "import torch.nn as nn\n",
    "\n",
    "import torch.nn.functional as F\n",
    "\n",
    "from torch.nn.utils.rnn import pad_sequence\n",
    "\n",
    "from torch.utils.data import Dataset,DataLoader"
   ]
  },
  {
   "cell_type": "code",
   "execution_count": 2,
   "id": "7c410fb4",
   "metadata": {},
   "outputs": [],
   "source": [
    "# Toy dataset: English to pseudo-French\n",
    "\n",
    "pairs = [\n",
    "    (\"i love you\", \"je t'aime\"),\n",
    "    (\"hello\", \"salut\"),\n",
    "    (\"how are you\", \"comment ça va\"),\n",
    "    (\"thank you\", \"merci\"),\n",
    "    (\"yes\", \"oui\"),\n",
    "    (\"no\", \"non\")\n",
    "]\n"
   ]
  },
  {
   "cell_type": "code",
   "execution_count": 3,
   "id": "bc44ecc4",
   "metadata": {},
   "outputs": [],
   "source": [
    "# Special tokens\n",
    "\n",
    "SOS = \"<sos>\"\n",
    "\n",
    "EOS = \"<eos>\"\n",
    "\n",
    "PAD = \"<pad>\""
   ]
  },
  {
   "cell_type": "code",
   "execution_count": 4,
   "id": "a4243248",
   "metadata": {},
   "outputs": [],
   "source": [
    "def tokenize(sentence):\n",
    "\n",
    "    return sentence.lower().split()\n",
    "\n",
    "\n",
    "def build_vocab(sentences):\n",
    "\n",
    "    vocab = {PAD : 0, SOS : 1, EOS : 2}\n",
    "\n",
    "    idx = 3\n",
    "\n",
    "    for sent in sentences:\n",
    "\n",
    "        for word in tokenize(sent):\n",
    "\n",
    "            if word not in vocab:\n",
    "\n",
    "                vocab[word] = idx\n",
    "\n",
    "                idx += 1\n",
    "\n",
    "    return vocab"
   ]
  },
  {
   "cell_type": "code",
   "execution_count": 5,
   "id": "8906e195",
   "metadata": {},
   "outputs": [],
   "source": [
    "# Build vocabularies\n",
    "\n",
    "src_sentences = [ src for src, _ in pairs]\n",
    "\n",
    "tgt_sentences = [tgt for _, tgt in pairs]\n",
    "\n",
    "\n",
    "src_vocab = build_vocab(src_sentences)\n",
    "\n",
    "tgt_vocab = build_vocab(tgt_sentences)\n",
    "\n",
    "\n",
    "inv_src_vocab = {idx: word for word, idx in src_vocab.items()}\n",
    "\n",
    "inv_tgt_vocab = {idx: word for word, idx in tgt_vocab.items()}"
   ]
  },
  {
   "cell_type": "code",
   "execution_count": 6,
   "id": "53d32a42",
   "metadata": {},
   "outputs": [],
   "source": [
    "# Encode function\n",
    "\n",
    "def encode(sentence, vocab):\n",
    "\n",
    "    tokens = [vocab[word] for word in tokenize(sentence)]\n",
    "\n",
    "    return torch.tensor(tokens, dtype=torch.long)\n",
    "\n",
    "# Custom Dataset\n",
    "\n",
    "class Seq2SeqDataset(Dataset):\n",
    "\n",
    "    def __init__(self, pairs):\n",
    "\n",
    "        self.pairs = pairs\n",
    "\n",
    "    def __len__(self):\n",
    "\n",
    "        return len(self.pairs)\n",
    "    \n",
    "    def __getitem__(self, idx):\n",
    "\n",
    "        src, tgt = self.pairs[idx]\n",
    "\n",
    "        src_tensor = encode(src, src_vocab)\n",
    "\n",
    "        tgt_tensor = torch.tensor(\n",
    "\n",
    "            [tgt_vocab[SOS]] + [tgt_vocab[word] for word in tokenize(tgt)] + [tgt_vocab[EOS]],\n",
    "\n",
    "            dtype = torch.long()\n",
    "        )\n",
    "\n",
    "        return src_tensor, tgt_tensor\n"
   ]
  },
  {
   "cell_type": "code",
   "execution_count": 7,
   "id": "9b7d98fe",
   "metadata": {},
   "outputs": [],
   "source": [
    "# Collate function for padding\n",
    "\n",
    "def collate_fn(batch):\n",
    "\n",
    "    src_batch, tgt_batch = zip(*batch)\n",
    "\n",
    "    src_batch = pad_sequence(src_batch, batch_first=True, padding_value=src_vocab[PAD])\n",
    "\n",
    "    tgt_batch = pad_sequence(tgt_batch, batch_first=True, padding_value=tgt_vocab[PAD])\n",
    "\n",
    "    return src_batch, tgt_batch"
   ]
  },
  {
   "cell_type": "code",
   "execution_count": 8,
   "id": "f31200f0",
   "metadata": {},
   "outputs": [
    {
     "name": "stdout",
     "output_type": "stream",
     "text": [
      "Sample vocab:\n",
      "SRC {'<pad>': 0, '<sos>': 1, '<eos>': 2, 'i': 3, 'love': 4, 'you': 5, 'hello': 6, 'how': 7, 'are': 8, 'thank': 9, 'yes': 10, 'no': 11}\n",
      "TGT: {'<pad>': 0, '<sos>': 1, '<eos>': 2, 'je': 3, \"t'aime\": 4, 'salut': 5, 'comment': 6, 'ça': 7, 'va': 8, 'merci': 9, 'oui': 10, 'non': 11}\n"
     ]
    }
   ],
   "source": [
    "# Dataset and DataLoader\n",
    "\n",
    "dataset = Seq2SeqDataset(pairs)\n",
    "\n",
    "dataloader = DataLoader(dataset, batch_size = 2, shuffle = True, collate_fn = collate_fn)\n",
    "\n",
    "print(\"Sample vocab:\")\n",
    "\n",
    "print(\"SRC\", src_vocab)\n",
    "\n",
    "print(\"TGT:\", tgt_vocab)"
   ]
  },
  {
   "cell_type": "markdown",
   "id": "a86b28f4",
   "metadata": {},
   "source": [
    "[Encoder LSTM] ---> [Attention + Decoder LSTM] ---> Target sequence"
   ]
  },
  {
   "cell_type": "markdown",
   "id": "1e4329ad",
   "metadata": {},
   "source": [
    "Step 2.1: Encoder"
   ]
  },
  {
   "cell_type": "code",
   "execution_count": 9,
   "id": "793a56b9",
   "metadata": {},
   "outputs": [],
   "source": [
    "class Encoder(nn.Module):\n",
    "\n",
    "    def __init__(self, input_dim, emb_dim, hidden_dim):\n",
    "        super(Encoder, self).__init__()\n",
    "\n",
    "        self.embedding = nn.Embedding(input_dim, emb_dim)\n",
    "\n",
    "        self.lstm = nn.LSTM(emb_dim, hidden_dim, batch_first=True)\n",
    "\n",
    "    def forward(self, src):\n",
    "\n",
    "        embedded = self.embedding(src)  # [B, T, E]\n",
    "\n",
    "        outputs, (hidden, cell ) = self.lstm(embedded)  # outputs: [B, T, H]\n",
    "\n",
    "        return outputs, hidden, cell"
   ]
  },
  {
   "cell_type": "markdown",
   "id": "f8e6c3f4",
   "metadata": {},
   "source": [
    "Step 2.2: Attention"
   ]
  },
  {
   "cell_type": "code",
   "execution_count": 10,
   "id": "a85ebb66",
   "metadata": {},
   "outputs": [],
   "source": [
    "class Attention(nn.Module):\n",
    "\n",
    "    def __init__(self, hidden_dim):\n",
    "        super(Attention, self).__init__()\n",
    "\n",
    "        self.attn = nn.Linear(hidden_dim * 2, hidden_dim)\n",
    "\n",
    "        self.v = nn.Linear(hidden_dim, 1, bias = False)\n",
    "\n",
    "    def forward(self, hidden, encoder_outputs):\n",
    "            # hidden: [1, B, H], encoder_outputs: [B, T, H]\n",
    "\n",
    "            B , T, H = encoder_outputs.shape\n",
    "\n",
    "            hidden = hidden[-1].unsqueeze(1).repeat(1, T, 1) # [B, T, H]\n",
    "\n",
    "\n",
    "            energy = torch.tanh(self.attn(torch.cat((hidden, encoder_outputs), dim=2)))  # [B, T, H]\n",
    "\n",
    "            attention = self.v(energy).squeeze(2) # [B, T]\n",
    "\n",
    "            return torch.softmax(attention, dim=1)"
   ]
  },
  {
   "cell_type": "markdown",
   "id": "e0f1e6d2",
   "metadata": {},
   "source": [
    "Step 2.3: Decoder with Attention"
   ]
  },
  {
   "cell_type": "code",
   "execution_count": 11,
   "id": "51f12139",
   "metadata": {},
   "outputs": [],
   "source": [
    "class Decoder(nn.Module):\n",
    "\n",
    "    def __init__(self,output_dim, emb_dim, hidden_dim):\n",
    "        super(Decoder,self).__init__()\n",
    "\n",
    "        self.embedding = nn.Embedding(output_dim, emb_dim)\n",
    "\n",
    "        self.lstm = nn.LSTM(hidden_dim + emb_dim, hidden_dim, batch_first=True)\n",
    "\n",
    "        self.fc_out = nn.Linear(hidden_dim * 2 , output_dim)\n",
    "\n",
    "        self.attention = Attention(hidden_dim)\n",
    "\n",
    "    def  forward(self, input_token, hidden,cell, encoder_outputs):\n",
    "\n",
    "        input_token = input_token.unsqueeze(1)  # [B, 1]\n",
    "\n",
    "        embedded = self.embedding(input_token) # [B, 1, E]\n",
    "\n",
    "        attn_weights = self.attention(hidden, encoder_outputs)  # [B, T]\n",
    "\n",
    "        attn_weights = attn_weights.unsqueeze(1)  # [B, 1, T]\n",
    "\n",
    "\n",
    "        context = torch.bmm(attn_weights, encoder_outputs)  # [B, 1, H]\n",
    "\n",
    "        rnn_input = torch.cat((embedded,context), dim=2) # [B, 1, E+H]\n",
    "\n",
    "\n",
    "        output, (hidden, cell) = self.lstm(rnn_input, (hidden, cell)) # output: [B, 1, H]\n",
    "\n",
    "\n",
    "        prediction = self.fc_out(torch.cat((output,context),dim=2).squeeze(1)) # [B, output_dim]\n",
    "\n",
    "        return prediction, hidden, cell"
   ]
  },
  {
   "cell_type": "markdown",
   "id": "7d3b3517",
   "metadata": {},
   "source": [
    "Step 2.4: Seq2Seq Wrapper"
   ]
  },
  {
   "cell_type": "code",
   "execution_count": 12,
   "id": "dcaf7f83",
   "metadata": {},
   "outputs": [],
   "source": [
    "class Seq2Seq(nn.Module):\n",
    "\n",
    "    def __init__(self, encoder, decoder, device):\n",
    "        super(Seq2Seq,self).__init__()\n",
    "\n",
    "        self.encoder = encoder\n",
    "\n",
    "        self.decoder = decoder\n",
    "\n",
    "        self.device = device\n",
    "\n",
    "    def forward(self,src, tgt, teacher_forcing_ratio=0.5):\n",
    "\n",
    "        B, tgt_len = tgt.shape\n",
    "\n",
    "        vocab_size = self.decoder.fc_out.out_features\n",
    "\n",
    "        outputs = torch.zeros(B, tgt_len,vocab_size).to(self.device)\n",
    "\n",
    "\n",
    "        encoder_outputs, hidden, cell = self.encoder(src)\n",
    "\n",
    "        input_token = tgt[:,0] # <sos>\n",
    "\n",
    "        for t in range(1, tgt_len):\n",
    "\n",
    "            output, hidden, cell = self.decoder(input_token, hidden, cell, encoder_outputs)\n",
    "\n",
    "            outputs[:, t ] = output\n",
    "\n",
    "\n",
    "            teacher_force = torch.rand(1).item() < teacher_forcing_ratio\n",
    "\n",
    "            top1 = output.argmax(1)\n",
    "\n",
    "            input_token = tgt[:, t] if teacher_force else top1\n",
    "\n",
    "        return outputs"
   ]
  },
  {
   "cell_type": "markdown",
   "id": "cc730c66",
   "metadata": {},
   "source": [
    "Step 3: Training the Seq2Seq Model"
   ]
  },
  {
   "cell_type": "code",
   "execution_count": 13,
   "id": "bf9d9892",
   "metadata": {},
   "outputs": [],
   "source": [
    "def train(model, data_loader, optimizer, loss_fn, device):\n",
    "\n",
    "    model.train()\n",
    "\n",
    "    epoch_loss = 0\n",
    "\n",
    "\n",
    "    for src, tgt in data_loader:\n",
    "\n",
    "        src, tgt = src.to(device), tgt.to(device)\n",
    "\n",
    "        optimizer.zero_grad()\n",
    "\n",
    "\n",
    "        output = model(src, tgt) # [B, T, vocab_size]\n",
    "\n",
    "        output_dim = output.shape[-1]\n",
    "\n",
    "\n",
    "        output = output[:, 1].reshape(-1, output_dim)\n",
    "\n",
    "        tgt = tgt[:, 1:].reshape(-1)\n",
    "\n",
    "\n",
    "        loss = loss_fn(output, tgt)\n",
    "\n",
    "        loss.backward()\n",
    "\n",
    "        optimizer.step()\n",
    "\n",
    "        epoch_loss += loss.item()\n",
    "\n",
    "    return epoch_loss / len(data_loader)"
   ]
  },
  {
   "cell_type": "markdown",
   "id": "6fa4b26f",
   "metadata": {},
   "source": [
    "3.2: Evaluation / Inference"
   ]
  },
  {
   "cell_type": "code",
   "execution_count": 14,
   "id": "f157154b",
   "metadata": {},
   "outputs": [],
   "source": [
    "def translate_sentence(model, sentence, src_vocab, tgt_vocab, max_len = 10, device='cpu'):\n",
    "\n",
    "    model.eval()\n",
    "\n",
    "    tokens = [src_vocab.get(tok, src_vocab[\"<unk>\"]) for tok in sentence]\n",
    "\n",
    "    src_tensor = torch.tensor(tokens).unsqueeze(0).to(device)\n",
    "\n",
    "\n",
    "    with torch.no_grad():\n",
    "\n",
    "        encoder_outputs, hidden, cell = model.encoder(src_tensor)\n",
    "\n",
    "        input_token = torch.tensor([tgt_vocab[\"<sos>\"]]).to(device)\n",
    "\n",
    "        generated_tokens = []\n",
    "\n",
    "    for _ in range(max_len):\n",
    "\n",
    "        with torch.no_grad():\n",
    "\n",
    "            output, hidden, cell = model.decoder(input_token, hidden, cell, encoder_outputs)\n",
    "\n",
    "            top1 = output.argmax(1)\n",
    "\n",
    "            generated_tokens.append(top1.item())\n",
    "\n",
    "            input_token = top1\n",
    "\n",
    "\n",
    "            if top1.item() == tgt_vocab[\"<eos>\"]:\n",
    "\n",
    "                break\n",
    "\n",
    "            inv_vocab = {v: k for k , v in tgt_vocab.items()}\n",
    "\n",
    "            return [inv_vocab.get(idx, \"<unk>\") for idx in generated_tokens]"
   ]
  },
  {
   "cell_type": "markdown",
   "id": "cd3649fd",
   "metadata": {},
   "source": [
    "3.3: Example Setup for Training"
   ]
  },
  {
   "cell_type": "code",
   "execution_count": 15,
   "id": "ce737afe",
   "metadata": {},
   "outputs": [
    {
     "name": "stdout",
     "output_type": "stream",
     "text": [
      "Using Device :mps\n"
     ]
    }
   ],
   "source": [
    "# Use MPS if available (for Apple Silicon Macbook)\n",
    "\n",
    "device  = torch.device(\"mps\" if torch.backends.mps.is_available() else 'cpu')\n",
    "\n",
    "print(f'Using Device :{device}')\n",
    "\n",
    "INPUT_DIM = len(src_vocab)\n",
    "OUTPUT_DIM = len(tgt_vocab)\n",
    "EMB_DIM = 64\n",
    "HID_DIM = 128 \n",
    "\n",
    "enc = Encoder(INPUT_DIM, EMB_DIM, HID_DIM)\n",
    "\n",
    "dec = Decoder(OUTPUT_DIM, EMB_DIM, HID_DIM)\n",
    "\n",
    "\n",
    "model = Seq2Seq(enc, dec, device).to(device)\n",
    "\n",
    "\n",
    "optimizer = torch.optim.Adam(model.parameters(), lr=0.001)\n",
    "\n",
    "loss_fn = nn.CrossEntropyLoss(ignore_index=tgt_vocab[\"<pad>\"])"
   ]
  },
  {
   "cell_type": "markdown",
   "id": "951c1fd1",
   "metadata": {},
   "source": [
    "Loop Over Epochs"
   ]
  },
  {
   "cell_type": "code",
   "execution_count": 16,
   "id": "3fd6470a",
   "metadata": {},
   "outputs": [
    {
     "ename": "TypeError",
     "evalue": "'torch.dtype' object is not callable",
     "output_type": "error",
     "traceback": [
      "\u001b[0;31m---------------------------------------------------------------------------\u001b[0m",
      "\u001b[0;31mTypeError\u001b[0m                                 Traceback (most recent call last)",
      "Cell \u001b[0;32mIn[16], line 3\u001b[0m\n\u001b[1;32m      1\u001b[0m \u001b[38;5;28;01mfor\u001b[39;00m epoch \u001b[38;5;129;01min\u001b[39;00m \u001b[38;5;28mrange\u001b[39m(\u001b[38;5;241m1\u001b[39m,\u001b[38;5;241m11\u001b[39m):\n\u001b[0;32m----> 3\u001b[0m     loss \u001b[38;5;241m=\u001b[39m \u001b[43mtrain\u001b[49m\u001b[43m(\u001b[49m\u001b[43mmodel\u001b[49m\u001b[43m,\u001b[49m\u001b[43m \u001b[49m\u001b[43mdataloader\u001b[49m\u001b[43m,\u001b[49m\u001b[43m \u001b[49m\u001b[43moptimizer\u001b[49m\u001b[43m,\u001b[49m\u001b[43m \u001b[49m\u001b[43mloss_fn\u001b[49m\u001b[43m,\u001b[49m\u001b[43m \u001b[49m\u001b[43mdevice\u001b[49m\u001b[43m)\u001b[49m\n\u001b[1;32m      5\u001b[0m     \u001b[38;5;28mprint\u001b[39m(\u001b[38;5;124mf\u001b[39m\u001b[38;5;124m'\u001b[39m\u001b[38;5;124mEpoch \u001b[39m\u001b[38;5;132;01m{\u001b[39;00mepoch\u001b[38;5;132;01m}\u001b[39;00m\u001b[38;5;124m, Loss : \u001b[39m\u001b[38;5;132;01m{\u001b[39;00mloss\u001b[38;5;132;01m:\u001b[39;00m\u001b[38;5;124m.4f\u001b[39m\u001b[38;5;132;01m}\u001b[39;00m\u001b[38;5;124m'\u001b[39m)\n",
      "Cell \u001b[0;32mIn[13], line 8\u001b[0m, in \u001b[0;36mtrain\u001b[0;34m(model, data_loader, optimizer, loss_fn, device)\u001b[0m\n\u001b[1;32m      3\u001b[0m model\u001b[38;5;241m.\u001b[39mtrain()\n\u001b[1;32m      5\u001b[0m epoch_loss \u001b[38;5;241m=\u001b[39m \u001b[38;5;241m0\u001b[39m\n\u001b[0;32m----> 8\u001b[0m \u001b[38;5;28;01mfor\u001b[39;00m src, tgt \u001b[38;5;129;01min\u001b[39;00m data_loader:\n\u001b[1;32m     10\u001b[0m     src, tgt \u001b[38;5;241m=\u001b[39m src\u001b[38;5;241m.\u001b[39mto(device), tgt\u001b[38;5;241m.\u001b[39mto(device)\n\u001b[1;32m     12\u001b[0m     optimizer\u001b[38;5;241m.\u001b[39mzero_grad()\n",
      "File \u001b[0;32m/opt/anaconda3/envs/masterxdl/lib/python3.9/site-packages/torch/utils/data/dataloader.py:701\u001b[0m, in \u001b[0;36m_BaseDataLoaderIter.__next__\u001b[0;34m(self)\u001b[0m\n\u001b[1;32m    698\u001b[0m \u001b[38;5;28;01mif\u001b[39;00m \u001b[38;5;28mself\u001b[39m\u001b[38;5;241m.\u001b[39m_sampler_iter \u001b[38;5;129;01mis\u001b[39;00m \u001b[38;5;28;01mNone\u001b[39;00m:\n\u001b[1;32m    699\u001b[0m     \u001b[38;5;66;03m# TODO(https://github.com/pytorch/pytorch/issues/76750)\u001b[39;00m\n\u001b[1;32m    700\u001b[0m     \u001b[38;5;28mself\u001b[39m\u001b[38;5;241m.\u001b[39m_reset()  \u001b[38;5;66;03m# type: ignore[call-arg]\u001b[39;00m\n\u001b[0;32m--> 701\u001b[0m data \u001b[38;5;241m=\u001b[39m \u001b[38;5;28;43mself\u001b[39;49m\u001b[38;5;241;43m.\u001b[39;49m\u001b[43m_next_data\u001b[49m\u001b[43m(\u001b[49m\u001b[43m)\u001b[49m\n\u001b[1;32m    702\u001b[0m \u001b[38;5;28mself\u001b[39m\u001b[38;5;241m.\u001b[39m_num_yielded \u001b[38;5;241m+\u001b[39m\u001b[38;5;241m=\u001b[39m \u001b[38;5;241m1\u001b[39m\n\u001b[1;32m    703\u001b[0m \u001b[38;5;28;01mif\u001b[39;00m (\n\u001b[1;32m    704\u001b[0m     \u001b[38;5;28mself\u001b[39m\u001b[38;5;241m.\u001b[39m_dataset_kind \u001b[38;5;241m==\u001b[39m _DatasetKind\u001b[38;5;241m.\u001b[39mIterable\n\u001b[1;32m    705\u001b[0m     \u001b[38;5;129;01mand\u001b[39;00m \u001b[38;5;28mself\u001b[39m\u001b[38;5;241m.\u001b[39m_IterableDataset_len_called \u001b[38;5;129;01mis\u001b[39;00m \u001b[38;5;129;01mnot\u001b[39;00m \u001b[38;5;28;01mNone\u001b[39;00m\n\u001b[1;32m    706\u001b[0m     \u001b[38;5;129;01mand\u001b[39;00m \u001b[38;5;28mself\u001b[39m\u001b[38;5;241m.\u001b[39m_num_yielded \u001b[38;5;241m>\u001b[39m \u001b[38;5;28mself\u001b[39m\u001b[38;5;241m.\u001b[39m_IterableDataset_len_called\n\u001b[1;32m    707\u001b[0m ):\n",
      "File \u001b[0;32m/opt/anaconda3/envs/masterxdl/lib/python3.9/site-packages/torch/utils/data/dataloader.py:757\u001b[0m, in \u001b[0;36m_SingleProcessDataLoaderIter._next_data\u001b[0;34m(self)\u001b[0m\n\u001b[1;32m    755\u001b[0m \u001b[38;5;28;01mdef\u001b[39;00m\u001b[38;5;250m \u001b[39m\u001b[38;5;21m_next_data\u001b[39m(\u001b[38;5;28mself\u001b[39m):\n\u001b[1;32m    756\u001b[0m     index \u001b[38;5;241m=\u001b[39m \u001b[38;5;28mself\u001b[39m\u001b[38;5;241m.\u001b[39m_next_index()  \u001b[38;5;66;03m# may raise StopIteration\u001b[39;00m\n\u001b[0;32m--> 757\u001b[0m     data \u001b[38;5;241m=\u001b[39m \u001b[38;5;28;43mself\u001b[39;49m\u001b[38;5;241;43m.\u001b[39;49m\u001b[43m_dataset_fetcher\u001b[49m\u001b[38;5;241;43m.\u001b[39;49m\u001b[43mfetch\u001b[49m\u001b[43m(\u001b[49m\u001b[43mindex\u001b[49m\u001b[43m)\u001b[49m  \u001b[38;5;66;03m# may raise StopIteration\u001b[39;00m\n\u001b[1;32m    758\u001b[0m     \u001b[38;5;28;01mif\u001b[39;00m \u001b[38;5;28mself\u001b[39m\u001b[38;5;241m.\u001b[39m_pin_memory:\n\u001b[1;32m    759\u001b[0m         data \u001b[38;5;241m=\u001b[39m _utils\u001b[38;5;241m.\u001b[39mpin_memory\u001b[38;5;241m.\u001b[39mpin_memory(data, \u001b[38;5;28mself\u001b[39m\u001b[38;5;241m.\u001b[39m_pin_memory_device)\n",
      "File \u001b[0;32m/opt/anaconda3/envs/masterxdl/lib/python3.9/site-packages/torch/utils/data/_utils/fetch.py:52\u001b[0m, in \u001b[0;36m_MapDatasetFetcher.fetch\u001b[0;34m(self, possibly_batched_index)\u001b[0m\n\u001b[1;32m     50\u001b[0m         data \u001b[38;5;241m=\u001b[39m \u001b[38;5;28mself\u001b[39m\u001b[38;5;241m.\u001b[39mdataset\u001b[38;5;241m.\u001b[39m__getitems__(possibly_batched_index)\n\u001b[1;32m     51\u001b[0m     \u001b[38;5;28;01melse\u001b[39;00m:\n\u001b[0;32m---> 52\u001b[0m         data \u001b[38;5;241m=\u001b[39m [\u001b[38;5;28mself\u001b[39m\u001b[38;5;241m.\u001b[39mdataset[idx] \u001b[38;5;28;01mfor\u001b[39;00m idx \u001b[38;5;129;01min\u001b[39;00m possibly_batched_index]\n\u001b[1;32m     53\u001b[0m \u001b[38;5;28;01melse\u001b[39;00m:\n\u001b[1;32m     54\u001b[0m     data \u001b[38;5;241m=\u001b[39m \u001b[38;5;28mself\u001b[39m\u001b[38;5;241m.\u001b[39mdataset[possibly_batched_index]\n",
      "File \u001b[0;32m/opt/anaconda3/envs/masterxdl/lib/python3.9/site-packages/torch/utils/data/_utils/fetch.py:52\u001b[0m, in \u001b[0;36m<listcomp>\u001b[0;34m(.0)\u001b[0m\n\u001b[1;32m     50\u001b[0m         data \u001b[38;5;241m=\u001b[39m \u001b[38;5;28mself\u001b[39m\u001b[38;5;241m.\u001b[39mdataset\u001b[38;5;241m.\u001b[39m__getitems__(possibly_batched_index)\n\u001b[1;32m     51\u001b[0m     \u001b[38;5;28;01melse\u001b[39;00m:\n\u001b[0;32m---> 52\u001b[0m         data \u001b[38;5;241m=\u001b[39m [\u001b[38;5;28;43mself\u001b[39;49m\u001b[38;5;241;43m.\u001b[39;49m\u001b[43mdataset\u001b[49m\u001b[43m[\u001b[49m\u001b[43midx\u001b[49m\u001b[43m]\u001b[49m \u001b[38;5;28;01mfor\u001b[39;00m idx \u001b[38;5;129;01min\u001b[39;00m possibly_batched_index]\n\u001b[1;32m     53\u001b[0m \u001b[38;5;28;01melse\u001b[39;00m:\n\u001b[1;32m     54\u001b[0m     data \u001b[38;5;241m=\u001b[39m \u001b[38;5;28mself\u001b[39m\u001b[38;5;241m.\u001b[39mdataset[possibly_batched_index]\n",
      "Cell \u001b[0;32mIn[6], line 31\u001b[0m, in \u001b[0;36mSeq2SeqDataset.__getitem__\u001b[0;34m(self, idx)\u001b[0m\n\u001b[1;32m     23\u001b[0m src, tgt \u001b[38;5;241m=\u001b[39m \u001b[38;5;28mself\u001b[39m\u001b[38;5;241m.\u001b[39mpairs[idx]\n\u001b[1;32m     25\u001b[0m src_tensor \u001b[38;5;241m=\u001b[39m encode(src, src_vocab)\n\u001b[1;32m     27\u001b[0m tgt_tensor \u001b[38;5;241m=\u001b[39m torch\u001b[38;5;241m.\u001b[39mtensor(\n\u001b[1;32m     28\u001b[0m \n\u001b[1;32m     29\u001b[0m     [tgt_vocab[SOS]] \u001b[38;5;241m+\u001b[39m [tgt_vocab[word] \u001b[38;5;28;01mfor\u001b[39;00m word \u001b[38;5;129;01min\u001b[39;00m tokenize(tgt)] \u001b[38;5;241m+\u001b[39m [tgt_vocab[EOS]],\n\u001b[1;32m     30\u001b[0m \n\u001b[0;32m---> 31\u001b[0m     dtype \u001b[38;5;241m=\u001b[39m \u001b[43mtorch\u001b[49m\u001b[38;5;241;43m.\u001b[39;49m\u001b[43mlong\u001b[49m\u001b[43m(\u001b[49m\u001b[43m)\u001b[49m\n\u001b[1;32m     32\u001b[0m )\n\u001b[1;32m     34\u001b[0m \u001b[38;5;28;01mreturn\u001b[39;00m src_tensor, tgt_tensor\n",
      "\u001b[0;31mTypeError\u001b[0m: 'torch.dtype' object is not callable"
     ]
    }
   ],
   "source": [
    "for epoch in range(1,11):\n",
    "\n",
    "    loss = train(model, dataloader, optimizer, loss_fn, device)\n",
    "\n",
    "    print(f'Epoch {epoch}, Loss : {loss:.4f}')"
   ]
  },
  {
   "cell_type": "markdown",
   "id": "45a3e329",
   "metadata": {},
   "source": [
    "Try Inference"
   ]
  },
  {
   "cell_type": "code",
   "execution_count": null,
   "id": "b3bfd2a1",
   "metadata": {},
   "outputs": [],
   "source": [
    "test_sentence = [\"i\", \"am\", \"learning\"]\n",
    "\n",
    "output_words = translate_sentence(model, test_sentence, src_vocab, tgt_vocab, device=device )\n",
    "\n",
    "print('Output:', \" \".join(output_words))"
   ]
  }
 ],
 "metadata": {
  "kernelspec": {
   "display_name": "masterxdl",
   "language": "python",
   "name": "python3"
  },
  "language_info": {
   "codemirror_mode": {
    "name": "ipython",
    "version": 3
   },
   "file_extension": ".py",
   "mimetype": "text/x-python",
   "name": "python",
   "nbconvert_exporter": "python",
   "pygments_lexer": "ipython3",
   "version": "3.9.21"
  }
 },
 "nbformat": 4,
 "nbformat_minor": 5
}
