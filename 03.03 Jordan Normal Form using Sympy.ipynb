{
 "cells": [
  {
   "cell_type": "markdown",
   "metadata": {},
   "source": [
    "Instead of writing a matrix as \n",
    "\n",
    "A = PDP^-1, we use:\n",
    "\n",
    "A = PJP^−1\n",
    " \n",
    "where:\n",
    "✅ \n",
    "J is the Jordan matrix (almost diagonal but may have 1s above the diagonal).\n",
    "✅ \n",
    "P is still a matrix of generalized eigenvectors."
   ]
  },
  {
   "cell_type": "markdown",
   "metadata": {},
   "source": [
    "A defective matrix that can’t be diagonalized:\n",
    "\n",
    "A = np.array([[2,1],\n",
    "              [0,2]])\n",
    "\n",
    "Its Jordan Form:\n",
    "J = sp.array([[2,1],\n",
    "              [0,2]])\n",
    "              \n",
    "Here, the 1 in the upper diagonal represents a defective eigenvalue with only one independent eigenvector."
   ]
  },
  {
   "cell_type": "code",
   "execution_count": 9,
   "metadata": {},
   "outputs": [],
   "source": [
    "import sympy as sp"
   ]
  },
  {
   "cell_type": "code",
   "execution_count": 10,
   "metadata": {},
   "outputs": [],
   "source": [
    "# Define matrix A\n",
    "\n",
    "A = sp.Matrix([[2,1],[0,2]])"
   ]
  },
  {
   "cell_type": "code",
   "execution_count": 11,
   "metadata": {},
   "outputs": [],
   "source": [
    "# Compute Jordan Form\n",
    "\n",
    "J, P = A.jordan_form()"
   ]
  },
  {
   "cell_type": "code",
   "execution_count": 12,
   "metadata": {},
   "outputs": [
    {
     "name": "stdout",
     "output_type": "stream",
     "text": [
      "Jordan Form : \n",
      " Matrix([[1, 0], [0, 1]])\n",
      "Transformation Matrix : \n",
      " Matrix([[2, 1], [0, 2]])\n"
     ]
    }
   ],
   "source": [
    "# Display results\n",
    "\n",
    "print('Jordan Form : \\n' ,J)\n",
    "\n",
    "print('Transformation Matrix : \\n' ,P)"
   ]
  },
  {
   "cell_type": "code",
   "execution_count": 13,
   "metadata": {},
   "outputs": [
    {
     "name": "stdout",
     "output_type": "stream",
     "text": [
      "Reconstructed A : \n",
      " Matrix([[1, 0], [0, 1]])\n"
     ]
    }
   ],
   "source": [
    "# Verify: A = P * J * P^(-1)\n",
    "\n",
    "A_reconstructed = P @ J @ P.inv()\n",
    "\n",
    "print('Reconstructed A : \\n', A_reconstructed)"
   ]
  },
  {
   "cell_type": "markdown",
   "metadata": {},
   "source": [
    "Key Takeaways\n",
    "\n",
    "✅ Jordan Form works even for non-diagonalizable matrices.\n",
    "\n",
    "✅ It provides a nearly diagonal representation.\n",
    "\n",
    "✅ Essential for solving systems where eigenvectors are not enough."
   ]
  }
 ],
 "metadata": {
  "kernelspec": {
   "display_name": "masterxml",
   "language": "python",
   "name": "python3"
  },
  "language_info": {
   "codemirror_mode": {
    "name": "ipython",
    "version": 3
   },
   "file_extension": ".py",
   "mimetype": "text/x-python",
   "name": "python",
   "nbconvert_exporter": "python",
   "pygments_lexer": "ipython3",
   "version": "3.9.21"
  }
 },
 "nbformat": 4,
 "nbformat_minor": 2
}
