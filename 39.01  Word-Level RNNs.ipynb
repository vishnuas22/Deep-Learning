{
 "cells": [
  {
   "cell_type": "code",
   "execution_count": 5,
   "id": "250d5107",
   "metadata": {},
   "outputs": [],
   "source": [
    "import torch\n",
    "\n",
    "import torch.nn as nn\n",
    "\n",
    "import numpy as np"
   ]
  },
  {
   "cell_type": "code",
   "execution_count": 6,
   "id": "f55f589b",
   "metadata": {},
   "outputs": [],
   "source": [
    "# Step 1: Tokenize corpus into words\n",
    "\n",
    "corpus = \"deep learning is fun and deep learning is powerful\"\n",
    "\n",
    "words = corpus.split()"
   ]
  },
  {
   "cell_type": "code",
   "execution_count": 7,
   "id": "820cf31d",
   "metadata": {},
   "outputs": [
    {
     "name": "stdout",
     "output_type": "stream",
     "text": [
      "Vocabulary: ['and', 'deep', 'fun', 'is', 'learning', 'powerful']\n",
      "word_to_idx: {'and': 0, 'deep': 1, 'fun': 2, 'is': 3, 'learning': 4, 'powerful': 5}\n"
     ]
    }
   ],
   "source": [
    "# Step 2: Build vocabulary\n",
    "\n",
    "vocab = sorted(set(words))\n",
    "\n",
    "vocab_size = len(vocab)\n",
    "\n",
    "\n",
    "word_to_idx = {word: i for i, word in enumerate(vocab)}\n",
    "\n",
    "idx_to_word = {i: word for word, i in word_to_idx.items()}\n",
    "\n",
    "print(\"Vocabulary:\", vocab)\n",
    "\n",
    "print(\"word_to_idx:\", word_to_idx)"
   ]
  },
  {
   "cell_type": "markdown",
   "id": "6f95d963",
   "metadata": {},
   "source": [
    "Model Architecture"
   ]
  },
  {
   "cell_type": "code",
   "execution_count": 8,
   "id": "6aafe3cd",
   "metadata": {},
   "outputs": [],
   "source": [
    "class WordRNN(nn.Module):\n",
    "\n",
    "    def __init__(self,vocab_size, embed_dim, hidden_dim):\n",
    "        super(WordRNN, self).__init__()\n",
    "\n",
    "        self.embedding = nn.Embedding(vocab_size, embed_dim)\n",
    "\n",
    "        self.rnn = nn.RNN(embed_dim, hidden_dim, batch_first=True)\n",
    "\n",
    "        self.fc = nn. Linear(hidden_dim, vocab_size)\n",
    "\n",
    "    def forward(self, x, hidden):\n",
    "\n",
    "        embedded = self.embedding(x)\n",
    "\n",
    "        out, hidden = self.rnn(embedded, hidden)\n",
    "\n",
    "        out = self.fc(out)\n",
    "\n",
    "        return out, hidden"
   ]
  },
  {
   "cell_type": "markdown",
   "id": "c19b4f92",
   "metadata": {},
   "source": [
    "nn.Embedding maps words to dense vectors\n",
    "\n",
    "RNN processes word-by-word\n",
    "\n",
    "Final output is fed into a linear layer to predict the next word in the sequence"
   ]
  },
  {
   "cell_type": "markdown",
   "id": "f0e8e964",
   "metadata": {},
   "source": [
    "🔧 Define Model + Hyperparams"
   ]
  },
  {
   "cell_type": "code",
   "execution_count": 9,
   "id": "efeabcd8",
   "metadata": {},
   "outputs": [],
   "source": [
    "# Parameters\n",
    "\n",
    "embed_dim = 10\n",
    "\n",
    "hidden_dim  = 20\n",
    "\n",
    "model = WordRNN(vocab_size, embed_dim, hidden_dim)"
   ]
  }
 ],
 "metadata": {
  "kernelspec": {
   "display_name": "masterxdl",
   "language": "python",
   "name": "python3"
  },
  "language_info": {
   "codemirror_mode": {
    "name": "ipython",
    "version": 3
   },
   "file_extension": ".py",
   "mimetype": "text/x-python",
   "name": "python",
   "nbconvert_exporter": "python",
   "pygments_lexer": "ipython3",
   "version": "3.9.21"
  }
 },
 "nbformat": 4,
 "nbformat_minor": 5
}
