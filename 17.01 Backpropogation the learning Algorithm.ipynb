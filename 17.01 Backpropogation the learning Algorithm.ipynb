{
 "cells": [
  {
   "cell_type": "markdown",
   "metadata": {},
   "source": [
    "Step-by-Step Breakdown of Backpropagation\n",
    "\n",
    "Let’s break it into four main steps:\n",
    "\n",
    "1️⃣ Forward Propagation:\n",
    "\n",
    "Compute the output using the current weights & biases\n",
    "\n",
    "Calculate the loss (error) between predicted and actual values\n",
    "\n",
    "2️⃣ Compute the Gradient (Partial Derivatives):\n",
    "\n",
    "Use the Chain Rule to find how much each weight contributed to the error\n",
    "\n",
    "3️⃣ Backpropagate the Error:\n",
    "\n",
    "Pass the gradients backward through the network to adjust weights\n",
    "\n",
    "4️⃣ Update Weights & Biases:\n",
    "\n",
    "Use Gradient Descent to update weights and minimize the error\n"
   ]
  },
  {
   "cell_type": "markdown",
   "metadata": {},
   "source": [
    "Mathematical Formulation\n",
    "Let's assume a simple one-layer neural network:\n",
    "\n",
    "ŷ =f(WX+b)\n",
    "Where:\n",
    "\n",
    "X = Input\n",
    "\n",
    "W = Weights\n",
    "\n",
    "b = Bias\n",
    "\n",
    "f = Activation function\n",
    "\n",
    "​\t\n",
    "ŷ  = Predicted output"
   ]
  },
  {
   "cell_type": "markdown",
   "metadata": {},
   "source": [
    "single-layer neural network to demonstrate how backpropagation works.\n",
    "\n",
    "Here’s how we’ll break it down:\n",
    "\n",
    "Create a simple dataset.\n",
    "\n",
    "Define a simple model with a single layer.\n",
    "\n",
    "Use Mean Squared Error (MSE) as the loss function.\n",
    "\n",
    "Backpropagate the error and update the weights."
   ]
  },
  {
   "cell_type": "code",
   "execution_count": 8,
   "metadata": {},
   "outputs": [],
   "source": [
    "import torch\n",
    "\n",
    "import torch.nn as nn\n",
    "\n",
    "import torch.optim as optim"
   ]
  },
  {
   "cell_type": "code",
   "execution_count": 9,
   "metadata": {},
   "outputs": [],
   "source": [
    "# Step 1: Create a simple dataset\n",
    "\n",
    "X = torch.tensor([[0.0,0.0] ,[0.0,1.0],[1.0,0.0],[1.0,1.0]], dtype=torch.float32)\n",
    "\n",
    "y = torch.tensor([[0.0],[1.0],[1.0],[0.0]], dtype=torch.float32)"
   ]
  },
  {
   "cell_type": "code",
   "execution_count": 10,
   "metadata": {},
   "outputs": [],
   "source": [
    "# Step 2: Define a simple neural network model (1 layer with Sigmoid activation)\n",
    "\n",
    "class simpleNN(nn.Module):\n",
    "\n",
    "    def __init__(self):\n",
    "\n",
    "        super(simpleNN,self).__init__()\n",
    "        self.fc = nn.Linear(2,1) # 2 input features, 1 output\n",
    "        self.sigmoid = nn.Sigmoid()\n",
    "\n",
    "    \n",
    "    def forward(self, x):\n",
    "\n",
    "        x = self.fc(x)\n",
    "        x = self.sigmoid(x)\n",
    "\n",
    "        return x"
   ]
  },
  {
   "cell_type": "code",
   "execution_count": 11,
   "metadata": {},
   "outputs": [],
   "source": [
    "# Instantiate the model\n",
    "\n",
    "model = simpleNN()"
   ]
  },
  {
   "cell_type": "code",
   "execution_count": 12,
   "metadata": {},
   "outputs": [],
   "source": [
    "# Step 3: Define a loss function (MSE) and an optimizer (SGD)\n",
    "\n",
    "loss_fn = nn.MSELoss()\n",
    "\n",
    "optimizer = optim.SGD(model.parameters(), lr=0.1)"
   ]
  },
  {
   "cell_type": "code",
   "execution_count": 13,
   "metadata": {},
   "outputs": [
    {
     "name": "stdout",
     "output_type": "stream",
     "text": [
      "Epoch : 1/ 10000, Loss : 0.2904219627380371\n",
      "Epoch : 1001/ 10000, Loss : 0.2500074505805969\n",
      "Epoch : 2001/ 10000, Loss : 0.25000008940696716\n",
      "Epoch : 3001/ 10000, Loss : 0.25\n",
      "Epoch : 4001/ 10000, Loss : 0.2499999850988388\n",
      "Epoch : 5001/ 10000, Loss : 0.25\n",
      "Epoch : 6001/ 10000, Loss : 0.2499999850988388\n",
      "Epoch : 7001/ 10000, Loss : 0.25\n",
      "Epoch : 8001/ 10000, Loss : 0.25\n",
      "Epoch : 9001/ 10000, Loss : 0.25\n"
     ]
    }
   ],
   "source": [
    "# Step 4: Train the model (implementing backpropagation)\n",
    "\n",
    "epochs = 10000 # Number of training iterations\n",
    "\n",
    "for epoch in range(epochs):\n",
    "\n",
    "    # Forward pass: Compute predicted y by passing X to the model\n",
    "\n",
    "    predictions = model(X)\n",
    "\n",
    "    # Compute the loss (error)\n",
    "\n",
    "    loss = loss_fn(predictions, y)\n",
    "\n",
    "\n",
    "    # Zero the gradients before backward pass\n",
    "\n",
    "    optimizer.zero_grad()\n",
    "\n",
    "    # Backward pass: Compute gradients\n",
    "\n",
    "    loss.backward()\n",
    "\n",
    "    # Update weights and biases\n",
    "\n",
    "    optimizer.step()\n",
    "\n",
    "    # Print loss every 1000 epochs to monitor progress\n",
    "\n",
    "    if epoch % 1000==0:\n",
    "\n",
    "        print(f'Epoch : {epoch + 1}/ {epochs}, Loss : {loss.item()}')"
   ]
  },
  {
   "cell_type": "code",
   "execution_count": 14,
   "metadata": {},
   "outputs": [
    {
     "name": "stdout",
     "output_type": "stream",
     "text": [
      "\n",
      " Final Predictions:\n",
      "tensor([[0.5000],\n",
      "        [0.5000],\n",
      "        [0.5000],\n",
      "        [0.5000]])\n"
     ]
    }
   ],
   "source": [
    "# Step 5: Final predictions after training\n",
    "\n",
    "with torch.no_grad(): # Disable gradient computation for inference\n",
    "\n",
    "    final_prediction = model(X)\n",
    "\n",
    "    print('\\n Final Predictions:')\n",
    "\n",
    "    print(final_prediction)"
   ]
  }
 ],
 "metadata": {
  "kernelspec": {
   "display_name": "masterxdl",
   "language": "python",
   "name": "python3"
  },
  "language_info": {
   "codemirror_mode": {
    "name": "ipython",
    "version": 3
   },
   "file_extension": ".py",
   "mimetype": "text/x-python",
   "name": "python",
   "nbconvert_exporter": "python",
   "pygments_lexer": "ipython3",
   "version": "3.9.21"
  }
 },
 "nbformat": 4,
 "nbformat_minor": 2
}
