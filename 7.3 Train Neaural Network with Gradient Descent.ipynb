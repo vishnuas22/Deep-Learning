{
 "cells": [
  {
   "cell_type": "markdown",
   "metadata": {},
   "source": [
    "we'll train a model to learn the equation y= 2x +3"
   ]
  },
  {
   "cell_type": "markdown",
   "metadata": {},
   "source": [
    "We’ll use gradient descent to adjust our model’s parameters (w and b) to match the real equation."
   ]
  },
  {
   "cell_type": "markdown",
   "metadata": {},
   "source": [
    " Steps to Train a Neural Network\n",
    "\n",
    "Initialize model parameters (w and b).\n",
    "\n",
    "Make predictions using the model.\n",
    "\n",
    "Compute the loss (difference between prediction and actual value).\n",
    "\n",
    "Compute gradients using Autograd.\n",
    "\n",
    "Update parameters using Gradient Descent.\n",
    "\n",
    "Repeat until loss is minimized."
   ]
  },
  {
   "cell_type": "code",
   "execution_count": null,
   "metadata": {},
   "outputs": [],
   "source": [
    "import torch"
   ]
  },
  {
   "cell_type": "code",
   "execution_count": null,
   "metadata": {},
   "outputs": [],
   "source": [
    "# Generate sample data\n",
    "\n",
    "x = torch.tensor([[1.0],[2.0],[3.0],[4.0]])\n",
    "\n",
    "y = torch.tensor([[5.0], [7.0], [9.0], [11.0]])"
   ]
  },
  {
   "cell_type": "code",
   "execution_count": null,
   "metadata": {},
   "outputs": [],
   "source": [
    "# Initialize parameters randomly\n",
    "\n",
    "w = torch.randn(1, requires_grad=True) # Weight\n",
    "\n",
    "b = torch.randn(1, requires_grad=True) # Bias\n",
    "\n",
    "learning_rate = 0.1 #Step size"
   ]
  },
  {
   "cell_type": "code",
   "execution_count": null,
   "metadata": {},
   "outputs": [],
   "source": [
    "for epoch in range(100): # Training loop\n",
    "\n",
    "        # 1. Forward pass (Predict)\n",
    "    y_pred = w * x + b\n",
    "\n",
    "        # 2. Compute Loss (Mean Squared Error)\n",
    "\n",
    "loss = ((y_pred-y) ** 2).mean()\n"
   ]
  }
 ],
 "metadata": {
  "kernelspec": {
   "display_name": "masterxdl",
   "language": "python",
   "name": "python3"
  },
  "language_info": {
   "name": "python",
   "version": "3.9.21"
  }
 },
 "nbformat": 4,
 "nbformat_minor": 2
}
