{
 "cells": [
  {
   "cell_type": "markdown",
   "metadata": {},
   "source": [
    "coding vector operations like addition, scalar multiplication, and dot product."
   ]
  },
  {
   "cell_type": "markdown",
   "metadata": {},
   "source": [
    "1️⃣ Vector Addition\n",
    "\n",
    "Adding two vectors means adding their corresponding elements.\n"
   ]
  },
  {
   "cell_type": "code",
   "execution_count": 5,
   "metadata": {},
   "outputs": [
    {
     "name": "stdout",
     "output_type": "stream",
     "text": [
      "Vector Addition: [6, 4]\n"
     ]
    }
   ],
   "source": [
    "def add_vectors(v1,v2):\n",
    "    \n",
    "    return [v1[i] + v2[i] for i in range(len(v1))]\n",
    "\n",
    " \n",
    "# Example usage\n",
    "\n",
    "v1 = (2,3)\n",
    "\n",
    "v2 =(4,1)\n",
    "\n",
    "print(\"Vector Addition:\", add_vectors(v1, v2))"
   ]
  },
  {
   "cell_type": "markdown",
   "metadata": {},
   "source": [
    "2️⃣ Scalar Multiplication\n",
    "\n",
    "Multiplying a vector by a scalar stretches or shrinks it."
   ]
  },
  {
   "cell_type": "code",
   "execution_count": 6,
   "metadata": {},
   "outputs": [
    {
     "name": "stdout",
     "output_type": "stream",
     "text": [
      "Scalar Multiplication : [4, 6]\n"
     ]
    }
   ],
   "source": [
    "def scalar_multiply(vector,scalar):\n",
    "\n",
    "    return [scalar * element for element in vector]\n",
    "\n",
    "\n",
    "vector = [2,3]\n",
    "\n",
    "scalar = 2\n",
    "\n",
    "print(f'Scalar Multiplication : {scalar_multiply(vector,scalar) }')"
   ]
  },
  {
   "cell_type": "markdown",
   "metadata": {},
   "source": [
    "3️⃣ Dot Product\n",
    "\n",
    "The dot product gives a single number that represents how similar two vectors are."
   ]
  },
  {
   "cell_type": "code",
   "execution_count": 7,
   "metadata": {},
   "outputs": [
    {
     "name": "stdout",
     "output_type": "stream",
     "text": [
      "Dot Product: 11\n"
     ]
    }
   ],
   "source": [
    "def dot_product(v1,v2):\n",
    "\n",
    "    return sum(v1[i] * v2[i] for i in range(len(v1)))\n",
    "\n",
    "# Example usage\n",
    "\n",
    "v1 = [2, 3]\n",
    "v2 = [4, 1]\n",
    "\n",
    "# (2* 4)+ (3*1)\n",
    "\n",
    "print(\"Dot Product:\", dot_product(v1, v2))"
   ]
  }
 ],
 "metadata": {
  "kernelspec": {
   "display_name": "masterxml",
   "language": "python",
   "name": "python3"
  },
  "language_info": {
   "codemirror_mode": {
    "name": "ipython",
    "version": 3
   },
   "file_extension": ".py",
   "mimetype": "text/x-python",
   "name": "python",
   "nbconvert_exporter": "python",
   "pygments_lexer": "ipython3",
   "version": "3.10.16"
  }
 },
 "nbformat": 4,
 "nbformat_minor": 2
}
