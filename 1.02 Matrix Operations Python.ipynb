{
 "cells": [
  {
   "cell_type": "markdown",
   "metadata": {},
   "source": [
    "Matrix Multiplication\n",
    "\n",
    "Matrix multiplication follows row-by-column multiplication rules.\n"
   ]
  },
  {
   "cell_type": "code",
   "execution_count": 9,
   "metadata": {},
   "outputs": [
    {
     "name": "stdout",
     "output_type": "stream",
     "text": [
      "Matrix Multiplication: [[11, 16], [19, 28]]\n"
     ]
    }
   ],
   "source": [
    "def matrix_multiply(A,B):\n",
    "\n",
    "    result = [[sum(A[i][k] * B[k][j] for k in range(len(B))) for j in range (len(B[0]))] for i in range (len(A))]\n",
    "\n",
    "    return result\n",
    "\n",
    "# Example usage\n",
    "\n",
    "A = [[2, 3], \n",
    "     [4, 5]]\n",
    "\n",
    "B = [[1, 2], \n",
    "     [3, 4]]\n",
    "\n",
    "print(\"Matrix Multiplication:\", matrix_multiply(A, B))"
   ]
  },
  {
   "cell_type": "markdown",
   "metadata": {},
   "source": [
    "Determinant of a 2x2 Matrix\n",
    "\n",
    "The determinant tells us if a transformation preserves space or collapses it."
   ]
  },
  {
   "cell_type": "code",
   "execution_count": 10,
   "metadata": {},
   "outputs": [
    {
     "name": "stdout",
     "output_type": "stream",
     "text": [
      "Determinant: -2\n"
     ]
    }
   ],
   "source": [
    "def determinant_2x2(matrix):\n",
    "\n",
    "    return matrix[0][0] * matrix[1][1]-matrix[0][1]*matrix[1][0]\n",
    "\n",
    "matrix =[[2,3],\n",
    "         [4,5]]\n",
    "\n",
    "print(\"Determinant:\", determinant_2x2(matrix))  \n"
   ]
  }
 ],
 "metadata": {
  "kernelspec": {
   "display_name": "masterxml",
   "language": "python",
   "name": "python3"
  },
  "language_info": {
   "codemirror_mode": {
    "name": "ipython",
    "version": 3
   },
   "file_extension": ".py",
   "mimetype": "text/x-python",
   "name": "python",
   "nbconvert_exporter": "python",
   "pygments_lexer": "ipython3",
   "version": "3.10.16"
  }
 },
 "nbformat": 4,
 "nbformat_minor": 2
}
