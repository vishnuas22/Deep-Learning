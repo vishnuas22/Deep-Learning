{
 "cells": [
  {
   "cell_type": "markdown",
   "metadata": {},
   "source": [
    "Task:\n",
    "\n",
    "🔹 Create a (2×3×2) tensor\n",
    "\n",
    "🔹 Flatten it into 1D"
   ]
  },
  {
   "cell_type": "code",
   "execution_count": 1,
   "metadata": {},
   "outputs": [],
   "source": [
    "import torch"
   ]
  },
  {
   "cell_type": "code",
   "execution_count": 2,
   "metadata": {},
   "outputs": [],
   "source": [
    "E = torch.arange(12).reshape(2,3,2)"
   ]
  },
  {
   "cell_type": "code",
   "execution_count": 3,
   "metadata": {},
   "outputs": [],
   "source": [
    "# Flatten the tensor\n",
    "\n",
    "E_flat = E.flatten()"
   ]
  },
  {
   "cell_type": "code",
   "execution_count": 4,
   "metadata": {},
   "outputs": [
    {
     "name": "stdout",
     "output_type": "stream",
     "text": [
      "\n",
      "Original Tensor:\n",
      " tensor([[[ 0,  1],\n",
      "         [ 2,  3],\n",
      "         [ 4,  5]],\n",
      "\n",
      "        [[ 6,  7],\n",
      "         [ 8,  9],\n",
      "         [10, 11]]])\n",
      "\n",
      "Flattened Tensor:\n",
      " tensor([ 0,  1,  2,  3,  4,  5,  6,  7,  8,  9, 10, 11])\n"
     ]
    }
   ],
   "source": [
    "print(\"\\nOriginal Tensor:\\n\", E)\n",
    "\n",
    "print(\"\\nFlattened Tensor:\\n\", E_flat)"
   ]
  },
  {
   "cell_type": "markdown",
   "metadata": {},
   "source": [
    "✅ Question: What happens if you try an incompatible reshape like (5×5)?\n",
    "\n",
    "arises an error we can only reshape into acceptable dimensions for example 2x6 =12 elements if the elements can't be arranged in the required size it will raise error.size must be compatible for this.\n",
    "\n",
    "✅ Question: What’s the difference between cat() and stack()?\n",
    "\n",
    "cat is like expanding in the given direction like adding along rows and columns and making them into single tensor again.stack is arranging a tensor one by one in a stack top bottom approach in this.its arranging below the available ones.\n",
    "\n",
    "✅ Question: What happens if the chunk size does not evenly divide the tensor?\n",
    "\n",
    "still it making chunks but number of elements in each are different if we try oddly chunks sometimes not meeting required chunk size but elements are arranged.\n",
    "\n",
    "✅ Question: When should we use permute() instead of transpose()?\n",
    "\n",
    "Transpose only for changing column into rows for example it can change a 3x2 into 2x3, but permutes handles the arrangement differently, it can try any possible arrangement like reshaping the existing data, I think in real world image related techniques uses it a lot.\n",
    "\n",
    "✅ Question: How does flattening help in deep learning models?\n",
    "\n",
    "it can easily transform complex dimensions into 1D simply for processing I think."
   ]
  },
  {
   "cell_type": "markdown",
   "metadata": {},
   "source": [
    "1️⃣ Incompatible Reshape → You nailed it! Reshaping is like rearranging puzzle pieces, and if the total elements don’t match, it's impossible.\n",
    "\n",
    "2️⃣ cat() vs. stack() → Exactly! cat() joins tensors along an existing dimension, while stack() creates a new dimension. Think of cat() as merging and stack() as layering.\n",
    "\n",
    "3️⃣ Uneven Chunking → Right! Chunks may have different sizes if division isn’t perfect, but PyTorch still tries to distribute elements logically.\n",
    "\n",
    "4️⃣ permute() vs. transpose() → Transpose is just for swapping two dimensions (rows ↔ columns), but permute() can rearrange multiple dimensions freely.\n",
    "\n",
    "📌 Real-world use: Image tensors use permute() a lot when converting between channel formats (e.g., CNNs need (batch, channels, height, width)).\n",
    "\n",
    "5️⃣ Flattening in Deep Learning → Spot on! Flattening is super useful in fully connected layers, where we need to convert multi-dimensional feature maps into a 1D vector before feeding it into a neural network."
   ]
  }
 ],
 "metadata": {
  "kernelspec": {
   "display_name": "masterxdl",
   "language": "python",
   "name": "python3"
  },
  "language_info": {
   "codemirror_mode": {
    "name": "ipython",
    "version": 3
   },
   "file_extension": ".py",
   "mimetype": "text/x-python",
   "name": "python",
   "nbconvert_exporter": "python",
   "pygments_lexer": "ipython3",
   "version": "3.9.21"
  }
 },
 "nbformat": 4,
 "nbformat_minor": 2
}
