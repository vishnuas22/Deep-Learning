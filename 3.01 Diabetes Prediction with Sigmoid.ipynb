{
 "cells": [
  {
   "cell_type": "code",
   "execution_count": 1,
   "metadata": {},
   "outputs": [],
   "source": [
    "import numpy as np "
   ]
  },
  {
   "cell_type": "code",
   "execution_count": 2,
   "metadata": {},
   "outputs": [],
   "source": [
    "# Step 1: Sigmoid Activation Function\n",
    "\n",
    "def sigmoid(x):\n",
    "\n",
    "    return 1 / (1 + np.exp(-x))"
   ]
  },
  {
   "cell_type": "code",
   "execution_count": 3,
   "metadata": {},
   "outputs": [],
   "source": [
    "# Step 2: Neural Network Prediction Function\n",
    "\n",
    "def predict_diabetes(glucose, bmi, age, insulin):\n",
    "\n",
    "    w1, w2, w3, w4 = 0.05, 0.1, 0.2, 0.3\n",
    "\n",
    "    bias = -4  # Adjusting threshold for prediction\n",
    "    \n",
    "    # Weighted sum (linear combination of inputs and weights)\n",
    "\n",
    "    z = (w1 * glucose) + (w2*bmi) + (w3 * age) + (w4 * insulin) \n",
    "\n",
    "    # Step 3: Apply Sigmoid Activation\n",
    "\n",
    "    probability = sigmoid(z)\n",
    "\n",
    "    # Step 4: Return Prediction\n",
    "\n",
    "    return probability, 1 if probability >= 0.5 else 0"
   ]
  },
  {
   "cell_type": "code",
   "execution_count": 4,
   "metadata": {},
   "outputs": [],
   "source": [
    "# Step 5: Test with Sample Data\n",
    "\n",
    "glucose_level = 160   # High glucose level\n",
    "bmi = 28.0            # Slightly overweight\n",
    "age = 45             # Middle-aged person\n",
    "insulin = 120        # High insulin level"
   ]
  },
  {
   "cell_type": "code",
   "execution_count": 5,
   "metadata": {},
   "outputs": [],
   "source": [
    "prob, prediction = predict_diabetes(glucose_level, bmi, age, insulin)"
   ]
  },
  {
   "cell_type": "code",
   "execution_count": 6,
   "metadata": {},
   "outputs": [
    {
     "name": "stdout",
     "output_type": "stream",
     "text": [
      "Predicted Probability of Diabetes: 1.0000\n",
      "Final Prediction (0 = No Diabetes, 1 = Diabetes): 1\n"
     ]
    }
   ],
   "source": [
    "# Output Result\n",
    "\n",
    "print(f\"Predicted Probability of Diabetes: {prob:.4f}\")\n",
    "\n",
    "print(f\"Final Prediction (0 = No Diabetes, 1 = Diabetes): {prediction}\")"
   ]
  }
 ],
 "metadata": {
  "kernelspec": {
   "display_name": "Python 3",
   "language": "python",
   "name": "python3"
  },
  "language_info": {
   "codemirror_mode": {
    "name": "ipython",
    "version": 3
   },
   "file_extension": ".py",
   "mimetype": "text/x-python",
   "name": "python",
   "nbconvert_exporter": "python",
   "pygments_lexer": "ipython3",
   "version": "3.9.21"
  }
 },
 "nbformat": 4,
 "nbformat_minor": 2
}
