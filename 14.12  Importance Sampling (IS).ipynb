{
 "cells": [
  {
   "cell_type": "code",
   "execution_count": 1,
   "metadata": {},
   "outputs": [
    {
     "ename": "TypeError",
     "evalue": "sqrt(): argument 'input' (position 1) must be Tensor, not float",
     "output_type": "error",
     "traceback": [
      "\u001b[0;31m---------------------------------------------------------------------------\u001b[0m",
      "\u001b[0;31mTypeError\u001b[0m                                 Traceback (most recent call last)",
      "Cell \u001b[0;32mIn[1], line 23\u001b[0m\n\u001b[1;32m     20\u001b[0m samples \u001b[38;5;241m=\u001b[39m proposal_dist\u001b[38;5;241m.\u001b[39msample((num_samples,))\n\u001b[1;32m     22\u001b[0m \u001b[38;5;66;03m# Compute importance weights\u001b[39;00m\n\u001b[0;32m---> 23\u001b[0m weights \u001b[38;5;241m=\u001b[39m \u001b[43mp_x\u001b[49m\u001b[43m(\u001b[49m\u001b[43msamples\u001b[49m\u001b[43m)\u001b[49m \u001b[38;5;241m/\u001b[39m q_x(samples)\n\u001b[1;32m     25\u001b[0m \u001b[38;5;66;03m# Compute expectation using importance sampling\u001b[39;00m\n\u001b[1;32m     26\u001b[0m expectation \u001b[38;5;241m=\u001b[39m torch\u001b[38;5;241m.\u001b[39msum(weights \u001b[38;5;241m*\u001b[39m f_x(samples)) \u001b[38;5;241m/\u001b[39m torch\u001b[38;5;241m.\u001b[39msum(weights)\n",
      "Cell \u001b[0;32mIn[1], line 7\u001b[0m, in \u001b[0;36mp_x\u001b[0;34m(x)\u001b[0m\n\u001b[1;32m      6\u001b[0m \u001b[38;5;28;01mdef\u001b[39;00m\u001b[38;5;250m \u001b[39m\u001b[38;5;21mp_x\u001b[39m(x):\n\u001b[0;32m----> 7\u001b[0m     \u001b[38;5;28;01mreturn\u001b[39;00m torch\u001b[38;5;241m.\u001b[39mexp(\u001b[38;5;241m-\u001b[39m\u001b[38;5;241m0.5\u001b[39m \u001b[38;5;241m*\u001b[39m x\u001b[38;5;241m*\u001b[39m\u001b[38;5;241m*\u001b[39m\u001b[38;5;241m2\u001b[39m) \u001b[38;5;241m/\u001b[39m \u001b[43mtorch\u001b[49m\u001b[38;5;241;43m.\u001b[39;49m\u001b[43msqrt\u001b[49m\u001b[43m(\u001b[49m\u001b[38;5;241;43m2\u001b[39;49m\u001b[43m \u001b[49m\u001b[38;5;241;43m*\u001b[39;49m\u001b[43m \u001b[49m\u001b[43mtorch\u001b[49m\u001b[38;5;241;43m.\u001b[39;49m\u001b[43mpi\u001b[49m\u001b[43m)\u001b[49m\n",
      "\u001b[0;31mTypeError\u001b[0m: sqrt(): argument 'input' (position 1) must be Tensor, not float"
     ]
    }
   ],
   "source": [
    "import torch\n",
    "import torch.distributions as dist\n",
    "import matplotlib.pyplot as plt\n",
    "\n",
    "# Define target distribution p(x) ~ N(0,1)\n",
    "def p_x(x):\n",
    "    return torch.exp(-0.5 * x**2) / torch.sqrt(2 * torch.pi)\n",
    "\n",
    "# Define proposal distribution q(x) ~ N(0,2)\n",
    "def q_x(x):\n",
    "    return torch.exp(-0.5 * (x/2)**2) / (torch.sqrt(2 * torch.pi) * 2)\n",
    "\n",
    "# Function f(x) we want to estimate E_p[f(x)]\n",
    "def f_x(x):\n",
    "    return x**2\n",
    "\n",
    "# Generate samples from proposal distribution\n",
    "num_samples = 10000\n",
    "proposal_dist = dist.Normal(0, 2)\n",
    "samples = proposal_dist.sample((num_samples,))\n",
    "\n",
    "# Compute importance weights\n",
    "weights = p_x(samples) / q_x(samples)\n",
    "\n",
    "# Compute expectation using importance sampling\n",
    "expectation = torch.sum(weights * f_x(samples)) / torch.sum(weights)\n",
    "\n",
    "# True expectation under N(0,1) should be 1 (since E[X^2] = Var + Mean^2 = 1+0)\n",
    "print(f\"Estimated Expectation: {expectation.item():.4f}\")\n"
   ]
  }
 ],
 "metadata": {
  "kernelspec": {
   "display_name": "masterxdl",
   "language": "python",
   "name": "python3"
  },
  "language_info": {
   "codemirror_mode": {
    "name": "ipython",
    "version": 3
   },
   "file_extension": ".py",
   "mimetype": "text/x-python",
   "name": "python",
   "nbconvert_exporter": "python",
   "pygments_lexer": "ipython3",
   "version": "3.9.21"
  }
 },
 "nbformat": 4,
 "nbformat_minor": 2
}
