{
 "cells": [
  {
   "cell_type": "code",
   "execution_count": 1,
   "id": "661b2f86",
   "metadata": {},
   "outputs": [],
   "source": [
    "import torch\n",
    "\n",
    "import torch.nn as nn"
   ]
  },
  {
   "cell_type": "code",
   "execution_count": 2,
   "id": "17967d1f",
   "metadata": {},
   "outputs": [],
   "source": [
    "# Corpus and Vocabulary\n",
    "\n",
    "corpus = \"deep learning is fun and deep learning is powerful\"\n",
    "\n",
    "words = corpus.split()\n",
    "\n",
    "vocab = sorted(set(words))\n",
    "\n",
    "word_to_idx = {word: i for i , word in enumerate(vocab)}\n",
    "\n",
    "idx_to_word = {i: word for word, i in word_to_idx.items()}\n",
    "\n",
    "vocab_size = len(vocab)"
   ]
  },
  {
   "cell_type": "code",
   "execution_count": 3,
   "id": "ff5e9ac0",
   "metadata": {},
   "outputs": [],
   "source": [
    "# Training Sequences\n",
    "training_sentences = [\n",
    "    ['deep', 'learning', 'is', 'fun'],\n",
    "    ['learning', 'is', 'powerful'],\n",
    "    ['deep', 'learning', 'is', 'powerful'],\n",
    "    ['learning', 'is', 'fun', 'and', 'powerful']\n",
    "]"
   ]
  },
  {
   "cell_type": "code",
   "execution_count": 4,
   "id": "c9454c11",
   "metadata": {},
   "outputs": [],
   "source": [
    "seq_length = 3\n",
    "\n",
    "input_seqs = []\n",
    "\n",
    "target_words = []"
   ]
  },
  {
   "cell_type": "code",
   "execution_count": 5,
   "id": "b1017fcb",
   "metadata": {},
   "outputs": [],
   "source": [
    "for sentence in training_sentences:\n",
    "\n",
    "    if len(sentence) <= seq_length:\n",
    "\n",
    "        continue\n",
    "\n",
    "    for i in range(len(sentence) - seq_length):\n",
    "\n",
    "        input_seq = sentence[i: i + seq_length]\n",
    "\n",
    "        target_word = sentence[i + seq_length]\n",
    "\n",
    "        input_tensor = torch.tensor([word_to_idx[word]for word in input_seq], dtype=torch.long)\n",
    "\n",
    "        target_tensor = torch.tensor(word_to_idx[target_word], dtype=torch.long)\n",
    "\n",
    "        input_seqs.append(input_tensor)\n",
    "\n",
    "        target_words.append(target_tensor)"
   ]
  },
  {
   "cell_type": "code",
   "execution_count": 6,
   "id": "620291db",
   "metadata": {},
   "outputs": [],
   "source": [
    "# LSTM Model\n",
    "\n",
    "class WordLSTM(nn.Module):\n",
    "\n",
    "    def __init__(self, vocab_size, embedding_dim, hidden_dim):\n",
    "        super(WordLSTM, self).__init__()\n",
    "\n",
    "        self.embedding = nn.Embedding(vocab_size, embedding_dim)\n",
    "\n",
    "        self.lstm = nn.LSTM(embedding_dim,hidden_dim, batch_first=True)\n",
    "\n",
    "        self.fc = nn.Linear(hidden_dim, vocab_size)\n",
    "\n",
    "    \n",
    "    def forward(self, x, hidden):\n",
    "\n",
    "        embedded = self.embedding(x)\n",
    "\n",
    "        out, hidden = self.lstm(embedded, hidden)\n",
    "\n",
    "        out = self.fc(out[:,-1,:])\n",
    "\n",
    "        return out, hidden"
   ]
  },
  {
   "cell_type": "code",
   "execution_count": 7,
   "id": "32e6967d",
   "metadata": {},
   "outputs": [],
   "source": [
    "# Hyperparameters\n",
    "\n",
    "embedding_dim = 10\n",
    "\n",
    "hidden_dim = 16\n",
    "\n",
    "num_epochs = 300\n",
    "\n",
    "learning_rate = 0.01"
   ]
  },
  {
   "cell_type": "code",
   "execution_count": 8,
   "id": "82a9aa30",
   "metadata": {},
   "outputs": [],
   "source": [
    "model = WordLSTM(vocab_size, embedding_dim, hidden_dim)\n",
    "\n",
    "loss_fn = nn.CrossEntropyLoss()\n",
    "\n",
    "optimizer = torch.optim.Adam(model.parameters(), lr=learning_rate)"
   ]
  },
  {
   "cell_type": "code",
   "execution_count": 9,
   "id": "d45a46fb",
   "metadata": {},
   "outputs": [
    {
     "name": "stdout",
     "output_type": "stream",
     "text": [
      "Epoch 50/300, Loss: 1.4605\n",
      "Sample Predictions:\n",
      "['deep', 'learning', 'is'] → powerful\n",
      "['deep', 'learning', 'is'] → powerful\n",
      "['learning', 'is', 'fun'] → and\n",
      "['is', 'fun', 'and'] → powerful\n",
      "Epoch 100/300, Loss: 1.4287\n",
      "Sample Predictions:\n",
      "['deep', 'learning', 'is'] → powerful\n",
      "['deep', 'learning', 'is'] → powerful\n",
      "['learning', 'is', 'fun'] → and\n",
      "['is', 'fun', 'and'] → powerful\n",
      "Epoch 150/300, Loss: 1.4184\n",
      "Sample Predictions:\n",
      "['deep', 'learning', 'is'] → powerful\n",
      "['deep', 'learning', 'is'] → powerful\n",
      "['learning', 'is', 'fun'] → and\n",
      "['is', 'fun', 'and'] → powerful\n",
      "Epoch 200/300, Loss: 1.4131\n",
      "Sample Predictions:\n",
      "['deep', 'learning', 'is'] → powerful\n",
      "['deep', 'learning', 'is'] → powerful\n",
      "['learning', 'is', 'fun'] → and\n",
      "['is', 'fun', 'and'] → powerful\n",
      "Epoch 250/300, Loss: 1.4100\n",
      "Sample Predictions:\n",
      "['deep', 'learning', 'is'] → powerful\n",
      "['deep', 'learning', 'is'] → powerful\n",
      "['learning', 'is', 'fun'] → and\n",
      "['is', 'fun', 'and'] → powerful\n",
      "Epoch 300/300, Loss: 1.4077\n",
      "Sample Predictions:\n",
      "['deep', 'learning', 'is'] → powerful\n",
      "['deep', 'learning', 'is'] → powerful\n",
      "['learning', 'is', 'fun'] → and\n",
      "['is', 'fun', 'and'] → powerful\n"
     ]
    }
   ],
   "source": [
    "# Training\n",
    "for epoch in range(1, num_epochs + 1):\n",
    "    total_loss = 0.0\n",
    "    model.train()\n",
    "\n",
    "    for input_tensor, target_tensor in zip(input_seqs, target_words):\n",
    "        hidden = (torch.zeros(1, 1, hidden_dim), torch.zeros(1, 1, hidden_dim))  # LSTM has (h0, c0)\n",
    "        input_tensor = input_tensor.unsqueeze(0)\n",
    "\n",
    "        optimizer.zero_grad()\n",
    "        output, hidden = model(input_tensor, hidden)\n",
    "        loss = loss_fn(output, target_tensor.unsqueeze(0))\n",
    "        loss.backward()\n",
    "        optimizer.step()\n",
    "        total_loss += loss.item()\n",
    "\n",
    "    if epoch % 50 == 0:\n",
    "        print(f\"Epoch {epoch}/{num_epochs}, Loss: {total_loss:.4f}\")\n",
    "        model.eval()\n",
    "        print(\"Sample Predictions:\")\n",
    "        with torch.no_grad():\n",
    "            for input_tensor in input_seqs:\n",
    "                input_tensor = input_tensor.unsqueeze(0)\n",
    "                hidden = (torch.zeros(1, 1, hidden_dim), torch.zeros(1, 1, hidden_dim))\n",
    "                output, _ = model(input_tensor, hidden)\n",
    "                pred_idx = torch.argmax(output, dim=1).item()\n",
    "                input_words = [idx_to_word[idx.item()] for idx in input_tensor.squeeze()]\n",
    "                print(f'{input_words} → {idx_to_word[pred_idx]}')"
   ]
  }
 ],
 "metadata": {
  "kernelspec": {
   "display_name": "masterxdl",
   "language": "python",
   "name": "python3"
  },
  "language_info": {
   "codemirror_mode": {
    "name": "ipython",
    "version": 3
   },
   "file_extension": ".py",
   "mimetype": "text/x-python",
   "name": "python",
   "nbconvert_exporter": "python",
   "pygments_lexer": "ipython3",
   "version": "3.9.21"
  }
 },
 "nbformat": 4,
 "nbformat_minor": 5
}
