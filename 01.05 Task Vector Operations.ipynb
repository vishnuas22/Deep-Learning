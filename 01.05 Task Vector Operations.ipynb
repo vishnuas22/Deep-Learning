{
 "cells": [
  {
   "cell_type": "markdown",
   "metadata": {},
   "source": [
    "👉 Task: Given two vectors, implement the following using NumPy:\n",
    "\n",
    "1️⃣ Vector addition\n",
    "2️⃣ Scalar multiplication\n",
    "3️⃣ Dot product\n"
   ]
  },
  {
   "cell_type": "code",
   "execution_count": 4,
   "metadata": {},
   "outputs": [
    {
     "name": "stdout",
     "output_type": "stream",
     "text": [
      "Vector Addition: [4 6]\n",
      "Scalar Multiplication: [15 20]\n",
      "Dot Product: 11\n"
     ]
    }
   ],
   "source": [
    "import numpy as np\n",
    "\n",
    "# Define two vectors\n",
    "v1 = np.array([3, 4])  # Example vector\n",
    "v2 = np.array([1, 2])  # Example vector\n",
    "\n",
    "# TODO: Perform vector addition\n",
    "vector_addition = np.add(v1,v2)\n",
    "\n",
    "# TODO: Perform scalar multiplication with scalar = 5\n",
    "scalar_multiplication = 5 * v1\n",
    "\n",
    "# TODO: Compute dot product of v1 and v2\n",
    "dot_product = np.dot(v1,v2)\n",
    "\n",
    "# Print results\n",
    "print(\"Vector Addition:\", vector_addition)\n",
    "print(\"Scalar Multiplication:\", scalar_multiplication)\n",
    "print(\"Dot Product:\", dot_product)\n"
   ]
  }
 ],
 "metadata": {
  "kernelspec": {
   "display_name": "masterxml",
   "language": "python",
   "name": "python3"
  },
  "language_info": {
   "codemirror_mode": {
    "name": "ipython",
    "version": 3
   },
   "file_extension": ".py",
   "mimetype": "text/x-python",
   "name": "python",
   "nbconvert_exporter": "python",
   "pygments_lexer": "ipython3",
   "version": "3.10.16"
  }
 },
 "nbformat": 4,
 "nbformat_minor": 2
}
