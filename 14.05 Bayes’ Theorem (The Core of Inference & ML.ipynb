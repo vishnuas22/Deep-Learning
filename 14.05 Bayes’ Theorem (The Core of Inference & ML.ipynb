{
 "cells": [
  {
   "cell_type": "markdown",
   "metadata": {},
   "source": [
    "Bayes’ Theorem is the foundation of probabilistic reasoning. It helps update prior beliefs based on new evidence. In Deep Learning and AI, it's crucial for probabilistic models, Bayesian Neural Networks, and NLP models like ChatGPT."
   ]
  },
  {
   "cell_type": "markdown",
   "metadata": {},
   "source": [
    "🔹 The Formula of Bayes’ Theorem\n",
    "\n",
    "P(A/B)= (P(B/A)* P(B))/P(B)\n",
    "\n",
    "Where:\n",
    "\n",
    "P(A∣B) → Posterior Probability (Probability of A given B)\n",
    "\n",
    "P(B∣A) → Likelihood (Probability of B given A happened)\n",
    "\n",
    "P(A) → Prior Probability (Belief about A before evidence)\n",
    "\n",
    "P(B) → Marginal Probability (Total probability of B occurring)"
   ]
  },
  {
   "cell_type": "markdown",
   "metadata": {},
   "source": [
    "✅ Medical Diagnosis:\n",
    "Given a positive COVID test, what’s the probability that the person actually has COVID?\n",
    "✅ Spam Detection:\n",
    "Given an email contains \"free money\", what’s the probability that it's spam?\n",
    "✅ Autonomous Vehicles:\n",
    "Given sensor data, what’s the probability that there’s a pedestrian on the road?"
   ]
  },
  {
   "cell_type": "markdown",
   "metadata": {},
   "source": [
    "A rare disease affects 1 in 1000 people. A test is 99% accurate for positive cases and 95% accurate for negatives. If a random person tests positive, what’s the probability they actually have the disease?\n",
    "Solution using Bayes' Theorem\n",
    "\n",
    "P(Disease)=1/1000=0.001 (Prior Probability)\n",
    "\n",
    "P(Positive Test∣Disease)=0.99 (True Positive Rate)\n",
    "\n",
    "P(Positive Test∣No Disease)=1−0.95=0.05 (False Positive Rate)\n",
    "\n",
    "P(No Disease)=1−0.001=0.999\n",
    "Now, applying Bayes' Theorem:\n",
    "\n",
    "P(Disease∣Positive)= \n",
    "(0.99×0.001)+(0.05×0.999)\n",
    "(0.99×0.001)\n",
    "​\t\n",
    " \n",
    "Let's implement this in code."
   ]
  },
  {
   "cell_type": "code",
   "execution_count": 1,
   "metadata": {},
   "outputs": [
    {
     "name": "stdout",
     "output_type": "stream",
     "text": [
      "Probability of having the disease given a positive test: 0.0194\n"
     ]
    }
   ],
   "source": [
    "def bayes_theorem(prior_A, likelihood_B_given_A, likelihood_B_given_not_A):\n",
    "\n",
    "        # 'Compute the posterior probability P(A|B) using Bayes' Theorem'\n",
    "\n",
    "        prior_not_A = 1- prior_A\n",
    "\n",
    "        marginal_B = (likelihood_B_given_A * prior_A) + (likelihood_B_given_not_A * prior_not_A)\n",
    "\n",
    "        posterior_A_given_B = (likelihood_B_given_A * prior_A) / marginal_B\n",
    "\n",
    "        return posterior_A_given_B\n",
    "\n",
    "\n",
    "# Given problem data\n",
    "\n",
    "p_disease = 1/1000 # Prior P(A)\n",
    "\n",
    "P_positive_given_disease = 0.99 # Likelihood P(B|A)\n",
    "\n",
    "P_positive_given_no_disease = 0.05 # Likelihood P(B|~A)\n",
    "\n",
    "\n",
    "# Compute probability of having the disease given a positive test\n",
    "\n",
    "posterior = bayes_theorem(p_disease, P_positive_given_disease, P_positive_given_no_disease)\n",
    "\n",
    "print(f'Probability of having the disease given a positive test: {posterior:.4f}')"
   ]
  },
  {
   "cell_type": "markdown",
   "metadata": {},
   "source": [
    "🔹 Applications of Bayes’ Theorem in Deep Learning & AI\n",
    "\n",
    "1️⃣ Bayesian Neural Networks (BNNs)\n",
    "\n",
    "Unlike traditional deep learning, BNNs assign probability distributions to weights instead of single values.\n",
    "2️⃣ Naïve Bayes Classifiers\n",
    "\n",
    "Used in spam filtering, sentiment analysis, and document classification.\n",
    "\n",
    "3️⃣ Hidden Markov Models (HMMs) for Speech Recognition\n",
    "\n",
    "Uses Bayesian inference to predict phonemes in speech-to-text systems.\n",
    "\n",
    "4️⃣ Self-Driving Cars\n",
    "\n",
    "Uses Bayesian Filtering (Kalman Filters) to estimate car position."
   ]
  }
 ],
 "metadata": {
  "kernelspec": {
   "display_name": "masterxdl",
   "language": "python",
   "name": "python3"
  },
  "language_info": {
   "codemirror_mode": {
    "name": "ipython",
    "version": 3
   },
   "file_extension": ".py",
   "mimetype": "text/x-python",
   "name": "python",
   "nbconvert_exporter": "python",
   "pygments_lexer": "ipython3",
   "version": "3.9.21"
  }
 },
 "nbformat": 4,
 "nbformat_minor": 2
}
