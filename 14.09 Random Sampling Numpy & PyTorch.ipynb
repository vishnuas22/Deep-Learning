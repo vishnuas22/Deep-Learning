{
 "cells": [
  {
   "cell_type": "code",
   "execution_count": 334,
   "metadata": {},
   "outputs": [],
   "source": [
    "import numpy as np\n",
    "\n",
    "import torch"
   ]
  },
  {
   "cell_type": "code",
   "execution_count": 335,
   "metadata": {},
   "outputs": [
    {
     "name": "stdout",
     "output_type": "stream",
     "text": [
      "NumPy Random Sample: [17 16 23  6 35]\n"
     ]
    }
   ],
   "source": [
    "# Generate a random sample of 5 numbers from 1 to 100\n",
    "\n",
    "sample_numpy = np.random.choice(range(1,101), size=5, replace=True)\n",
    "\n",
    "print(\"NumPy Random Sample:\", sample_numpy)"
   ]
  },
  {
   "cell_type": "markdown",
   "metadata": {},
   "source": [
    "✅ PyTorch Implementation"
   ]
  },
  {
   "cell_type": "code",
   "execution_count": 336,
   "metadata": {},
   "outputs": [
    {
     "name": "stdout",
     "output_type": "stream",
     "text": [
      "PyTorch Random Sample: tensor([98,  6, 60, 73, 52])\n"
     ]
    }
   ],
   "source": [
    "# Generate a random sample of 5 numbers from 1 to 100\n",
    "\n",
    "sample_torch = torch.randint(1,101,(5,))\n",
    "\n",
    "print(\"PyTorch Random Sample:\", sample_torch)"
   ]
  },
  {
   "cell_type": "code",
   "execution_count": 337,
   "metadata": {},
   "outputs": [
    {
     "name": "stdout",
     "output_type": "stream",
     "text": [
      "PyTorch Unique Sample: tensor([7, 6, 0, 1, 3])\n"
     ]
    }
   ],
   "source": [
    "unique_sample = torch.randperm(10)[:5]  # Get 5 unique numbers from 0 to 9\n",
    "\n",
    "print(\"PyTorch Unique Sample:\", unique_sample)"
   ]
  }
 ],
 "metadata": {
  "kernelspec": {
   "display_name": "masterxdl",
   "language": "python",
   "name": "python3"
  },
  "language_info": {
   "codemirror_mode": {
    "name": "ipython",
    "version": 3
   },
   "file_extension": ".py",
   "mimetype": "text/x-python",
   "name": "python",
   "nbconvert_exporter": "python",
   "pygments_lexer": "ipython3",
   "version": "3.9.21"
  }
 },
 "nbformat": 4,
 "nbformat_minor": 2
}
