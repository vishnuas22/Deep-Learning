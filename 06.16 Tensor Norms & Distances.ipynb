{
 "cells": [
  {
   "cell_type": "markdown",
   "metadata": {},
   "source": [
    "Norms measure the \"size\" or \"length\" of tensors.\n",
    "\n",
    "✔️ L1 Norm (Manhattan distance) → sum(abs(x)) (Used for sparse models)\n",
    "\n",
    "✔️ L2 Norm (Euclidean distance) → sqrt(sum(x^2)) (Used in optimization)\n",
    "\n",
    "✔️ Frobenius Norm → Similar to L2 but for matrices."
   ]
  },
  {
   "cell_type": "code",
   "execution_count": 1,
   "metadata": {},
   "outputs": [],
   "source": [
    "import torch"
   ]
  },
  {
   "cell_type": "code",
   "execution_count": 2,
   "metadata": {},
   "outputs": [],
   "source": [
    "x = torch.tensor([[3.0, 4.0]])"
   ]
  },
  {
   "cell_type": "code",
   "execution_count": 3,
   "metadata": {},
   "outputs": [
    {
     "name": "stdout",
     "output_type": "stream",
     "text": [
      "L1 Norm: tensor(7.)\n"
     ]
    }
   ],
   "source": [
    "# L1 Norm\n",
    "\n",
    "print('L1 Norm:', torch.norm(x, p=1))"
   ]
  },
  {
   "cell_type": "code",
   "execution_count": 4,
   "metadata": {},
   "outputs": [
    {
     "name": "stdout",
     "output_type": "stream",
     "text": [
      "L2 Norm : tensor(5.)\n"
     ]
    }
   ],
   "source": [
    "print('L2 Norm :', torch.norm(x, p=2))"
   ]
  },
  {
   "cell_type": "code",
   "execution_count": 5,
   "metadata": {},
   "outputs": [
    {
     "name": "stdout",
     "output_type": "stream",
     "text": [
      "Frobenius form:\n",
      " tensor(14.2478)\n"
     ]
    }
   ],
   "source": [
    "# Frobenius Norm for matrices\n",
    "\n",
    "A = torch.tensor([[3.0,5.0],[5.0, 12.0]])\n",
    "\n",
    "print('Frobenius form:\\n', torch.norm(A))"
   ]
  },
  {
   "cell_type": "markdown",
   "metadata": {},
   "source": [
    "Used in: Loss functions, optimization, and measuring model weights."
   ]
  }
 ],
 "metadata": {
  "kernelspec": {
   "display_name": "masterxdl",
   "language": "python",
   "name": "python3"
  },
  "language_info": {
   "codemirror_mode": {
    "name": "ipython",
    "version": 3
   },
   "file_extension": ".py",
   "mimetype": "text/x-python",
   "name": "python",
   "nbconvert_exporter": "python",
   "pygments_lexer": "ipython3",
   "version": "3.9.21"
  }
 },
 "nbformat": 4,
 "nbformat_minor": 2
}
