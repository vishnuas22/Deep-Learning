{
 "cells": [
  {
   "cell_type": "code",
   "execution_count": 43,
   "id": "d7fcc4b0",
   "metadata": {},
   "outputs": [],
   "source": [
    "import torch\n",
    "\n",
    "import torch.nn as nn\n",
    "\n",
    "import torch.nn.functional as F \n",
    "\n",
    "import numpy as np"
   ]
  },
  {
   "cell_type": "markdown",
   "id": "42fa6277",
   "metadata": {},
   "source": [
    "1. Dataset Preparation"
   ]
  },
  {
   "cell_type": "code",
   "execution_count": 44,
   "id": "ee65d2e9",
   "metadata": {},
   "outputs": [],
   "source": [
    "# Tiny corpus\n",
    "\n",
    "corpus = [\n",
    "    \"deep learning is powerful\",\n",
    "    \"learning is fun and powerful\",\n",
    "    \"deep learning is fun\"\n",
    "]\n"
   ]
  },
  {
   "cell_type": "code",
   "execution_count": 45,
   "id": "812e9b41",
   "metadata": {},
   "outputs": [],
   "source": [
    "# Tokenize\n",
    "\n",
    "tokens = \" \".join(corpus).split()\n",
    "\n",
    "vocab = sorted(set(tokens))\n",
    "\n",
    "word_to_idx = {word: i for i, word in enumerate(vocab)}\n",
    "\n",
    "idx_to_word = {i: word for word, i in word_to_idx.items()}"
   ]
  },
  {
   "cell_type": "code",
   "execution_count": 46,
   "id": "b32e2624",
   "metadata": {},
   "outputs": [],
   "source": [
    "# Convert to sequences\n",
    "\n",
    "seq_len = 3\n",
    "\n",
    "data = []"
   ]
  },
  {
   "cell_type": "code",
   "execution_count": 47,
   "id": "06d680aa",
   "metadata": {},
   "outputs": [],
   "source": [
    "for sentence in corpus:\n",
    "\n",
    "    words = sentence.split()\n",
    "\n",
    "    for i in range(len(words) - seq_len):\n",
    "\n",
    "        input_seq = words[i: i + seq_len]\n",
    "\n",
    "        target_word = words[i+seq_len]\n",
    "\n",
    "        input_idx = [word_to_idx[word] for word in input_seq]\n",
    "\n",
    "        target_idx = word_to_idx[target_word]\n",
    "\n",
    "        data.append((input_idx, target_idx))\n",
    "\n",
    "\n",
    "input_seqs = [torch.tensor(x) for x , _ in data]\n",
    "\n",
    "target_words = [torch.tensor(y) for _, y in data]"
   ]
  },
  {
   "cell_type": "markdown",
   "id": "7ab716e1",
   "metadata": {},
   "source": [
    "2. Define LSTM Model"
   ]
  },
  {
   "cell_type": "code",
   "execution_count": 48,
   "id": "ea475af2",
   "metadata": {},
   "outputs": [],
   "source": [
    "class WordLSTM(nn.Module):\n",
    "\n",
    "    def __init__(self, vocab_size,embedding_dim, hidden_dim):\n",
    "        super().__init__()\n",
    "\n",
    "        self.embedding = nn.Embedding(vocab_size, embedding_dim)\n",
    "\n",
    "        self.lstm = nn.LSTM(embedding_dim, hidden_dim, batch_first=True)\n",
    "\n",
    "        self.fc = nn.Linear(hidden_dim, vocab_size)\n",
    "\n",
    "    def forward(self, x, hidden=None):\n",
    "\n",
    "        x = self.embedding(x) # [batch, seq, embed]\n",
    "\n",
    "        output, hidden = self.lstm(x, hidden) # [batch, seq, hidden]\n",
    "\n",
    "        output = self.fc(output[:,-1,:]) # take last time step\n",
    "\n",
    "        return output, hidden"
   ]
  },
  {
   "cell_type": "markdown",
   "id": "cfc7dd6a",
   "metadata": {},
   "source": [
    "3. Training Loop"
   ]
  },
  {
   "cell_type": "code",
   "execution_count": 49,
   "id": "408a89d1",
   "metadata": {},
   "outputs": [],
   "source": [
    "emebedding_dim = 10\n",
    "\n",
    "hidden_dim = 32\n",
    "\n",
    "vocab_size = len(vocab)\n",
    "\n",
    "learning_rate = 0.01\n",
    "\n",
    "num_epochs = 300"
   ]
  },
  {
   "cell_type": "code",
   "execution_count": 50,
   "id": "05295e72",
   "metadata": {},
   "outputs": [
    {
     "name": "stdout",
     "output_type": "stream",
     "text": [
      "Epoch 50/300, Loss: 0.7087\n",
      "Epoch 50/300, Loss: 0.7117\n",
      "Epoch 50/300, Loss: 0.7176\n",
      "Epoch 50/300, Loss: 1.4295\n",
      "Epoch 100/300, Loss: 0.7064\n",
      "Epoch 100/300, Loss: 0.7075\n",
      "Epoch 100/300, Loss: 0.7098\n",
      "Epoch 100/300, Loss: 1.4175\n",
      "Epoch 150/300, Loss: 0.7055\n",
      "Epoch 150/300, Loss: 0.7061\n",
      "Epoch 150/300, Loss: 0.7074\n",
      "Epoch 150/300, Loss: 1.4136\n",
      "Epoch 200/300, Loss: 0.7049\n",
      "Epoch 200/300, Loss: 0.7053\n",
      "Epoch 200/300, Loss: 0.7062\n",
      "Epoch 200/300, Loss: 1.4113\n",
      "Epoch 250/300, Loss: 0.7043\n",
      "Epoch 250/300, Loss: 0.7046\n",
      "Epoch 250/300, Loss: 0.7052\n",
      "Epoch 250/300, Loss: 1.4095\n",
      "Epoch 300/300, Loss: 0.7033\n",
      "Epoch 300/300, Loss: 0.7035\n",
      "Epoch 300/300, Loss: 0.7040\n",
      "Epoch 300/300, Loss: 1.4077\n"
     ]
    }
   ],
   "source": [
    "model = WordLSTM(vocab_size, emebedding_dim, hidden_dim)\n",
    "\n",
    "loss_fn = nn.CrossEntropyLoss()\n",
    "\n",
    "optimizer = torch.optim.Adam(model.parameters(), lr=learning_rate)\n",
    "\n",
    "\n",
    "for epoch in range(1, num_epochs + 1):\n",
    "\n",
    "    total_loss = 0\n",
    "\n",
    "    for input_tensor,target_tensor in zip(input_seqs,target_words):\n",
    "\n",
    "        input_tensor = input_tensor.unsqueeze(0)\n",
    "\n",
    "        target_tensor = target_tensor.unsqueeze(0)\n",
    "\n",
    "\n",
    "        optimizer.zero_grad()\n",
    "\n",
    "        output, _ = model(input_tensor)\n",
    "\n",
    "        loss = loss_fn(output, target_tensor)\n",
    "\n",
    "        loss.backward()\n",
    "\n",
    "        optimizer.step()\n",
    "\n",
    "        total_loss += loss.item()\n",
    "\n",
    "        if epoch % 50 == 0:\n",
    "                \n",
    "                print(f\"Epoch {epoch}/{num_epochs}, Loss: {total_loss:.4f}\")"
   ]
  },
  {
   "cell_type": "markdown",
   "id": "5d43bf68",
   "metadata": {},
   "source": [
    "4. Text Generation (Sampling with Temperature)"
   ]
  },
  {
   "cell_type": "code",
   "execution_count": 51,
   "id": "d9784227",
   "metadata": {},
   "outputs": [],
   "source": [
    "def sample_from_probs(probs, temperature=1.0):\n",
    "\n",
    "    probs = torch.softmax(probs / temperature, dim=-1).detach().cpu().numpy()\n",
    "\n",
    "    return np.random.choice(len(probs), p=probs)\n",
    "\n",
    "def generate_text(model, seed_words,length=6, temperature=1.0):\n",
    "\n",
    "    model.eval()\n",
    "\n",
    "    words = seed_words[:]\n",
    "\n",
    "    hidden = None\n",
    "\n",
    "\n",
    "    for _ in range(length):\n",
    "\n",
    "        input_seq = [word_to_idx[w] for w in words[-3:]]\n",
    "\n",
    "        input_tensor = torch.tensor(input_seq).unsqueeze(0)\n",
    "\n",
    "        with torch.no_grad():\n",
    "\n",
    "            output, hidden = model(input_tensor, hidden)\n",
    "\n",
    "            next_idx = sample_from_probs(output[0], temperature)\n",
    "\n",
    "            next_word = idx_to_word[next_idx]\n",
    "\n",
    "            words.append(next_word)\n",
    "\n",
    "        return \" \".join(words)"
   ]
  },
  {
   "cell_type": "code",
   "execution_count": 52,
   "id": "77054828",
   "metadata": {},
   "outputs": [
    {
     "name": "stdout",
     "output_type": "stream",
     "text": [
      "\n",
      "Generated Text (temp=1.0):\n",
      "deep learning is fun\n",
      "\n",
      "Generated Text (temp=0.5):\n",
      "deep learning is fun\n",
      "\n",
      "Generated Text (temp=1.5):\n",
      "deep learning is powerful\n"
     ]
    }
   ],
   "source": [
    "seed = ['deep', 'learning', 'is']\n",
    "\n",
    "print(\"\\nGenerated Text (temp=1.0):\")\n",
    "\n",
    "print(generate_text(model, seed_words=seed, length=6, temperature=1.0))\n",
    "\n",
    "\n",
    "print(\"\\nGenerated Text (temp=0.5):\")\n",
    "\n",
    "print(generate_text(model, seed_words=seed, length=6, temperature=0.5))\n",
    "\n",
    "print(\"\\nGenerated Text (temp=1.5):\")\n",
    "\n",
    "print(generate_text(model, seed_words=seed, length=6, temperature=1.5))"
   ]
  }
 ],
 "metadata": {
  "kernelspec": {
   "display_name": "masterxdl",
   "language": "python",
   "name": "python3"
  },
  "language_info": {
   "codemirror_mode": {
    "name": "ipython",
    "version": 3
   },
   "file_extension": ".py",
   "mimetype": "text/x-python",
   "name": "python",
   "nbconvert_exporter": "python",
   "pygments_lexer": "ipython3",
   "version": "3.9.21"
  }
 },
 "nbformat": 4,
 "nbformat_minor": 5
}
