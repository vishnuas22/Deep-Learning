{
 "cells": [
  {
   "cell_type": "code",
   "execution_count": 14,
   "metadata": {},
   "outputs": [],
   "source": [
    "import torch"
   ]
  },
  {
   "cell_type": "code",
   "execution_count": 16,
   "metadata": {},
   "outputs": [],
   "source": [
    "# Define x as a tensor with requires_grad=True to track gradients\n",
    "\n",
    "x = torch.tensor([4.0], requires_grad=True)"
   ]
  },
  {
   "cell_type": "code",
   "execution_count": 17,
   "metadata": {},
   "outputs": [],
   "source": [
    "# Define learning rate\n",
    "\n",
    "learning_rate = 0.1"
   ]
  },
  {
   "cell_type": "code",
   "execution_count": 18,
   "metadata": {},
   "outputs": [
    {
     "name": "stdout",
     "output_type": "stream",
     "text": [
      "Step1: x=3.200000047683716, loss=16.0\n",
      "Step2: x=2.559999942779541, loss=10.24000072479248\n",
      "Step3: x=2.047999858856201, loss=6.553599834442139\n",
      "Step4: x=1.6383998394012451, loss=4.194303512573242\n",
      "Step5: x=1.3107198476791382, loss=2.684354066848755\n",
      "Step6: x=1.0485758781433105, loss=1.7179864645004272\n",
      "Step7: x=0.8388606905937195, loss=1.0995113849639893\n",
      "Step8: x=0.6710885763168335, loss=0.7036872506141663\n",
      "Step9: x=0.5368708372116089, loss=0.45035988092422485\n",
      "Step10: x=0.4294966757297516, loss=0.288230299949646\n"
     ]
    }
   ],
   "source": [
    "# Perform gradient descent for a few steps\n",
    "\n",
    "for step in range(10):\n",
    "    \n",
    "        # Compute the function value\n",
    "\n",
    "        loss = x**2 # f(x) = x ** 2\n",
    "\n",
    "        # Compute the gradient (df/dx = 2x)\n",
    "\n",
    "        loss.backward() # Compute Gradient\n",
    "\n",
    "        # Update x using Gradient Descent formula: x = x - lr * gradient\n",
    "\n",
    "        with torch.no_grad(): # Prevent tracking during update\n",
    "                \n",
    "                x -= learning_rate * x.grad\n",
    "\n",
    "        # Clear the gradient after update\n",
    "\n",
    "        x.grad.zero_()\n",
    "\n",
    "        # Print progress\n",
    "\n",
    "        print(f'Step{step + 1}: x={x.item()}, loss={loss.item()}')"
   ]
  }
 ],
 "metadata": {
  "kernelspec": {
   "display_name": "masterxdl",
   "language": "python",
   "name": "python3"
  },
  "language_info": {
   "codemirror_mode": {
    "name": "ipython",
    "version": 3
   },
   "file_extension": ".py",
   "mimetype": "text/x-python",
   "name": "python",
   "nbconvert_exporter": "python",
   "pygments_lexer": "ipython3",
   "version": "3.9.21"
  }
 },
 "nbformat": 4,
 "nbformat_minor": 2
}
