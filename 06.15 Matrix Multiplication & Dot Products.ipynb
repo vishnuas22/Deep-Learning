{
 "cells": [
  {
   "cell_type": "markdown",
   "metadata": {},
   "source": [
    "Matrix multiplication is different from element-wise multiplication. It follows linear algebra rules.\n",
    "\n",
    "✔️ Element-wise (*) → Multiplies corresponding elements.\n",
    "\n",
    "✔️ Matrix multiplication (@ or torch.mm()) → Standard dot product multiplication."
   ]
  },
  {
   "cell_type": "code",
   "execution_count": 1,
   "metadata": {},
   "outputs": [],
   "source": [
    "import torch"
   ]
  },
  {
   "cell_type": "code",
   "execution_count": 2,
   "metadata": {},
   "outputs": [],
   "source": [
    "A = torch.tensor([[1,2], [3,4]])\n",
    "\n",
    "B = torch.tensor([[5,6], [7,8]])"
   ]
  },
  {
   "cell_type": "code",
   "execution_count": null,
   "metadata": {},
   "outputs": [],
   "source": [
    "# Element-wise multiplication\n",
    "\n",
    "print('Element wise Multiplication : \\n', A * B)"
   ]
  },
  {
   "cell_type": "code",
   "execution_count": null,
   "metadata": {},
   "outputs": [],
   "source": [
    "# Matrix multiplication (Dot product)\n",
    "\n",
    "print(\"Matrix Multiplication (A @ B):\\n\", A @ B)\n",
    "\n",
    "print(\"Using torch.mm(A, B):\\n\", torch.mm(A, B))"
   ]
  },
  {
   "cell_type": "markdown",
   "metadata": {},
   "source": [
    "Real-world use case? Deep learning layers heavily rely on matrix multiplications!"
   ]
  }
 ],
 "metadata": {
  "kernelspec": {
   "display_name": "masterxdl",
   "language": "python",
   "name": "python3"
  },
  "language_info": {
   "codemirror_mode": {
    "name": "ipython",
    "version": 3
   },
   "file_extension": ".py",
   "mimetype": "text/x-python",
   "name": "python",
   "nbconvert_exporter": "python",
   "pygments_lexer": "ipython3",
   "version": "3.9.21"
  }
 },
 "nbformat": 4,
 "nbformat_minor": 2
}
