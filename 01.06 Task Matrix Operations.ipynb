{
 "cells": [
  {
   "cell_type": "code",
   "execution_count": 1,
   "metadata": {},
   "outputs": [
    {
     "name": "stdout",
     "output_type": "stream",
     "text": [
      "Matrix Multiplication:\n",
      " [[31 36]\n",
      " [33 38]]\n",
      "Determinant of A: 5.000000000000001\n"
     ]
    }
   ],
   "source": [
    "import numpy as np\n",
    "\n",
    "# Define matrices\n",
    "A = np.array([[2, 3], [1, 4]])  # Example matrix\n",
    "B = np.array([[5, 6], [7, 8]])  # Example matrix\n",
    "\n",
    "# TODO: Perform matrix multiplication\n",
    "matrix_multiplication = A @ B\n",
    "\n",
    "# TODO: Compute determinant of matrix A\n",
    "determinant_A = np.linalg.det(A)\n",
    "\n",
    "# Print results\n",
    "print(\"Matrix Multiplication:\\n\", matrix_multiplication)\n",
    "print(\"Determinant of A:\", determinant_A)\n"
   ]
  }
 ],
 "metadata": {
  "kernelspec": {
   "display_name": "masterxml",
   "language": "python",
   "name": "python3"
  },
  "language_info": {
   "codemirror_mode": {
    "name": "ipython",
    "version": 3
   },
   "file_extension": ".py",
   "mimetype": "text/x-python",
   "name": "python",
   "nbconvert_exporter": "python",
   "pygments_lexer": "ipython3",
   "version": "3.10.16"
  }
 },
 "nbformat": 4,
 "nbformat_minor": 2
}
