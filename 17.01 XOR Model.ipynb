{
 "cells": [
  {
   "cell_type": "markdown",
   "metadata": {},
   "source": [
    "Step-by-Step Breakdown of Backpropagation\n",
    "\n",
    "Let’s break it into four main steps:\n",
    "\n",
    "1️⃣ Forward Propagation:\n",
    "\n",
    "Compute the output using the current weights & biases\n",
    "\n",
    "Calculate the loss (error) between predicted and actual values\n",
    "\n",
    "2️⃣ Compute the Gradient (Partial Derivatives):\n",
    "\n",
    "Use the Chain Rule to find how much each weight contributed to the error\n",
    "\n",
    "3️⃣ Backpropagate the Error:\n",
    "\n",
    "Pass the gradients backward through the network to adjust weights\n",
    "\n",
    "4️⃣ Update Weights & Biases:\n",
    "\n",
    "Use Gradient Descent to update weights and minimize the error\n"
   ]
  },
  {
   "cell_type": "markdown",
   "metadata": {},
   "source": [
    "Mathematical Formulation\n",
    "Let's assume a simple one-layer neural network:\n",
    "\n",
    "ŷ =f(WX+b)\n",
    "Where:\n",
    "\n",
    "X = Input\n",
    "\n",
    "W = Weights\n",
    "\n",
    "b = Bias\n",
    "\n",
    "f = Activation function\n",
    "\n",
    "​\t\n",
    "ŷ  = Predicted output"
   ]
  },
  {
   "cell_type": "markdown",
   "metadata": {},
   "source": [
    "single-layer neural network to demonstrate how backpropagation works.\n",
    "\n",
    "Here’s how we’ll break it down:\n",
    "\n",
    "Create a simple dataset.\n",
    "\n",
    "Define a simple model with a single layer.\n",
    "\n",
    "Use Mean Squared Error (MSE) as the loss function.\n",
    "\n",
    "Backpropagate the error and update the weights."
   ]
  },
  {
   "cell_type": "code",
   "execution_count": 9,
   "metadata": {},
   "outputs": [],
   "source": [
    "import torch\n",
    "\n",
    "import torch.nn as nn\n",
    "\n",
    "import torch.optim as optim"
   ]
  },
  {
   "cell_type": "code",
   "execution_count": 10,
   "metadata": {},
   "outputs": [],
   "source": [
    "# Step 1: Create a simple dataset\n",
    "\n",
    "X = torch.tensor([[0.0,0.0] ,[0.0,1.0],[1.0,0.0],[1.0,1.0]], dtype=torch.float32)\n",
    "\n",
    "y = torch.tensor([[0.0],[1.0],[1.0],[0.0]], dtype=torch.float32)"
   ]
  },
  {
   "cell_type": "code",
   "execution_count": 11,
   "metadata": {},
   "outputs": [],
   "source": [
    "# Step 2: Define a simple neural network model (1 layer with Sigmoid activation)\n",
    "\n",
    "class XORNet(nn.Module):\n",
    "\n",
    "    def __init__(self):\n",
    "\n",
    "        super(XORNet,self).__init__()\n",
    "        self.hidden = nn.Linear(2, 4)  # Hidden layer with 4 neurons\n",
    "        self.output = nn.Linear(4, 1)  # Output layer (1 neuron)\n",
    "        self.relu = nn.ReLU()\n",
    "        self.sigmoid = nn.Sigmoid()\n",
    "\n",
    "    \n",
    "    def forward(self, x):\n",
    "\n",
    "        x = self.relu(self.hidden(x)) # Hidden layer with ReLU activation\n",
    "        x = self.sigmoid(self.output(x))  # Output layer with Sigmoid activation\n",
    "\n",
    "        return x"
   ]
  },
  {
   "cell_type": "code",
   "execution_count": 12,
   "metadata": {},
   "outputs": [],
   "source": [
    "# Instantiate the model\n",
    "\n",
    "model = XORNet()"
   ]
  },
  {
   "cell_type": "code",
   "execution_count": 13,
   "metadata": {},
   "outputs": [],
   "source": [
    "# Step 3: Define a loss function (MSE) and an optimizer (SGD)\n",
    "\n",
    "loss_fn = nn.BCELoss()\n",
    "\n",
    "optimizer = optim.Adam(model.parameters(), lr=0.1)"
   ]
  },
  {
   "cell_type": "code",
   "execution_count": 14,
   "metadata": {},
   "outputs": [
    {
     "name": "stdout",
     "output_type": "stream",
     "text": [
      "Epoch : 1/ 10000, Loss : 0.7317456007003784\n",
      "Epoch : 1001/ 10000, Loss : 0.00019130040891468525\n",
      "Epoch : 2001/ 10000, Loss : 5.38646308996249e-05\n",
      "Epoch : 3001/ 10000, Loss : 2.3189926650957204e-05\n",
      "Epoch : 4001/ 10000, Loss : 1.1665572856145445e-05\n",
      "Epoch : 5001/ 10000, Loss : 6.360446150210919e-06\n",
      "Epoch : 6001/ 10000, Loss : 3.5899092836189084e-06\n",
      "Epoch : 7001/ 10000, Loss : 2.1102441678522155e-06\n",
      "Epoch : 8001/ 10000, Loss : 1.2154933983765659e-06\n",
      "Epoch : 9001/ 10000, Loss : 7.052885280245391e-07\n"
     ]
    }
   ],
   "source": [
    "# Step 4: Train the model (implementing backpropagation)\n",
    "\n",
    "epochs = 10000 # Number of training iterations\n",
    "\n",
    "for epoch in range(epochs):\n",
    "\n",
    "    # Forward pass: Compute predicted y by passing X to the model\n",
    "\n",
    "    predictions = model(X)\n",
    "\n",
    "    # Compute the loss (error)\n",
    "\n",
    "    loss = loss_fn(predictions, y)\n",
    "\n",
    "\n",
    "    # Zero the gradients before backward pass\n",
    "\n",
    "    optimizer.zero_grad()\n",
    "\n",
    "    # Backward pass: Compute gradients\n",
    "\n",
    "    loss.backward()\n",
    "\n",
    "    # Update weights and biases\n",
    "\n",
    "    optimizer.step()\n",
    "\n",
    "    # Print loss every 1000 epochs to monitor progress\n",
    "\n",
    "    if epoch % 1000==0:\n",
    "\n",
    "        print(f'Epoch : {epoch + 1}/ {epochs}, Loss : {loss.item()}')"
   ]
  },
  {
   "cell_type": "code",
   "execution_count": 15,
   "metadata": {},
   "outputs": [
    {
     "name": "stdout",
     "output_type": "stream",
     "text": [
      "\n",
      " Final Predictions:\n",
      "Input [0.0, 0.0] → Prediction: 0\n",
      "Input [0.0, 1.0] → Prediction: 1\n",
      "Input [1.0, 0.0] → Prediction: 1\n",
      "Input [1.0, 1.0] → Prediction: 0\n"
     ]
    }
   ],
   "source": [
    "# Step 5: Final predictions after training\n",
    "\n",
    "with torch.no_grad(): # Disable gradient computation for inference\n",
    "\n",
    "    final_prediction = model(X)\n",
    "\n",
    "    print('\\n Final Predictions:')\n",
    "\n",
    "    for i in range(len(X)):\n",
    "        print(f\"Input {X[i].tolist()} → Prediction: {round(final_prediction[i].item())}\")"
   ]
  }
 ],
 "metadata": {
  "kernelspec": {
   "display_name": "masterxdl",
   "language": "python",
   "name": "python3"
  },
  "language_info": {
   "codemirror_mode": {
    "name": "ipython",
    "version": 3
   },
   "file_extension": ".py",
   "mimetype": "text/x-python",
   "name": "python",
   "nbconvert_exporter": "python",
   "pygments_lexer": "ipython3",
   "version": "3.9.21"
  }
 },
 "nbformat": 4,
 "nbformat_minor": 2
}
