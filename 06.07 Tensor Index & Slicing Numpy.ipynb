{
 "cells": [
  {
   "cell_type": "code",
   "execution_count": 14,
   "metadata": {},
   "outputs": [],
   "source": [
    "import numpy as np"
   ]
  },
  {
   "cell_type": "code",
   "execution_count": 15,
   "metadata": {},
   "outputs": [
    {
     "name": "stdout",
     "output_type": "stream",
     "text": [
      "\n",
      "Original NumPy Array:\n",
      " [[10 20 30]\n",
      " [40 50 60]\n",
      " [70 80 90]]\n"
     ]
    }
   ],
   "source": [
    "B = np.array([[10, 20, 30], \n",
    "              [40, 50, 60], \n",
    "              [70, 80, 90]])\n",
    "\n",
    "print(\"\\nOriginal NumPy Array:\\n\", B)"
   ]
  },
  {
   "cell_type": "code",
   "execution_count": 16,
   "metadata": {},
   "outputs": [
    {
     "name": "stdout",
     "output_type": "stream",
     "text": [
      "\n",
      "Element at (1,2):\n",
      " 60\n",
      "\n",
      "First row :\n",
      " [10 20 30]\n",
      "\n",
      "First column :\n",
      " [10 40 70]\n",
      "\n",
      "Middle  Block :\n",
      " [[20 30]\n",
      " [50 60]]\n"
     ]
    }
   ],
   "source": [
    "# Indexing & Slicing in NumPy\n",
    "\n",
    "print('\\nElement at (1,2):\\n',B[1,2])\n",
    "\n",
    "print('\\nFirst row :\\n',B[0,:])\n",
    "\n",
    "print('\\nFirst column :\\n',B[:,0])\n",
    "\n",
    "print('\\nMiddle  Block :\\n',B[0:2, 1:3])\n"
   ]
  }
 ],
 "metadata": {
  "kernelspec": {
   "display_name": "masterxdl",
   "language": "python",
   "name": "python3"
  },
  "language_info": {
   "codemirror_mode": {
    "name": "ipython",
    "version": 3
   },
   "file_extension": ".py",
   "mimetype": "text/x-python",
   "name": "python",
   "nbconvert_exporter": "python",
   "pygments_lexer": "ipython3",
   "version": "3.9.21"
  }
 },
 "nbformat": 4,
 "nbformat_minor": 2
}
