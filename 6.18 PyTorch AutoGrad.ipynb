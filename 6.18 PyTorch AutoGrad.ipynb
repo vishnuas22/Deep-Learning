{
 "cells": [
  {
   "cell_type": "markdown",
   "metadata": {},
   "source": [
    "Create tensors with requires_grad=True (so PyTorch tracks them).\n",
    "\n",
    "Perform operations on these tensors.\n",
    "\n",
    "Compute gradients using backpropagation."
   ]
  },
  {
   "cell_type": "code",
   "execution_count": 1,
   "metadata": {},
   "outputs": [],
   "source": [
    "import torch"
   ]
  },
  {
   "cell_type": "code",
   "execution_count": 2,
   "metadata": {},
   "outputs": [],
   "source": [
    "# Step 1: Create a tensor with requires_grad=True\n",
    "\n",
    "x = torch.tensor(2.0, requires_grad=True)"
   ]
  },
  {
   "cell_type": "code",
   "execution_count": 3,
   "metadata": {},
   "outputs": [],
   "source": [
    "# Step 2: Define a function y = x^2 + 3x + 5\n",
    "\n",
    "y = x ** 2 + 3*x +5"
   ]
  },
  {
   "cell_type": "code",
   "execution_count": 4,
   "metadata": {},
   "outputs": [],
   "source": [
    "# Step 3: Compute the gradient (dy/dx)\n",
    "\n",
    "y.backward()"
   ]
  },
  {
   "cell_type": "code",
   "execution_count": 5,
   "metadata": {},
   "outputs": [
    {
     "name": "stdout",
     "output_type": "stream",
     "text": [
      "Gradient of y with respect to x tensor(7.)\n"
     ]
    }
   ],
   "source": [
    "# Step 4: Print the gradient (dy/dx)\n",
    "\n",
    "print('Gradient of y with respect to x', x.grad)"
   ]
  },
  {
   "cell_type": "markdown",
   "metadata": {},
   "source": [
    "🔹 We define X^2 + 3x +5\n",
    "\n",
    "🔹 Derivative of y with respect to x is dy/dx = 2x + 3\n",
    "\n",
    "🔹 Since x = 2 , the gradients is 2(2) + 3 = 7\n",
    "\n",
    "🔹 PyTorch automatically computes this for us using .backward()"
   ]
  }
 ],
 "metadata": {
  "kernelspec": {
   "display_name": "masterxdl",
   "language": "python",
   "name": "python3"
  },
  "language_info": {
   "codemirror_mode": {
    "name": "ipython",
    "version": 3
   },
   "file_extension": ".py",
   "mimetype": "text/x-python",
   "name": "python",
   "nbconvert_exporter": "python",
   "pygments_lexer": "ipython3",
   "version": "3.9.21"
  }
 },
 "nbformat": 4,
 "nbformat_minor": 2
}
