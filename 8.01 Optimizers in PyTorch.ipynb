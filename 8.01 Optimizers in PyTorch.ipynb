{
 "cells": [
  {
   "cell_type": "markdown",
   "metadata": {},
   "source": [
    "Manually updating weights every time is inefficient. Optimizers help:\n",
    "\n",
    "Automate weight updates\n",
    "\n",
    "Improve training speed\n",
    "\n",
    "Handle different learning rate strategies"
   ]
  },
  {
   "cell_type": "code",
   "execution_count": 20,
   "metadata": {},
   "outputs": [],
   "source": [
    "import torch"
   ]
  },
  {
   "cell_type": "code",
   "execution_count": 21,
   "metadata": {},
   "outputs": [],
   "source": [
    "# Generate sample data\n",
    "\n",
    "x = torch.tensor([[1.0],[2.0],[3.0],[4.0]])\n",
    "\n",
    "y = torch.tensor([[5.0], [7.0], [9.0], [11.0]])"
   ]
  },
  {
   "cell_type": "code",
   "execution_count": 22,
   "metadata": {},
   "outputs": [],
   "source": [
    "# Initialize parameters randomly\n",
    "\n",
    "w = torch.randn(1, requires_grad=True) # Weight\n",
    "\n",
    "b = torch.randn(1, requires_grad=True) # Bias"
   ]
  },
  {
   "cell_type": "code",
   "execution_count": 23,
   "metadata": {},
   "outputs": [],
   "source": [
    "# Define Optimizer (Adam / SGD / RMSprop)\n",
    "\n",
    "optimizer = torch.optim.Adam([w,b],lr=0.1)  # Try SGD, RMSprop too"
   ]
  },
  {
   "cell_type": "code",
   "execution_count": 24,
   "metadata": {},
   "outputs": [
    {
     "name": "stdout",
     "output_type": "stream",
     "text": [
      "Epoch 0: Loss = 53.370086669921875\n",
      "Epoch 10: Loss = 13.857613563537598\n",
      "Epoch 20: Loss = 0.6150317192077637\n",
      "Epoch 30: Loss = 0.5965882539749146\n",
      "Epoch 40: Loss = 0.7301509380340576\n",
      "Epoch 50: Loss = 0.07226914167404175\n",
      "Epoch 60: Loss = 0.029817242175340652\n",
      "Epoch 70: Loss = 0.03601301833987236\n",
      "Epoch 80: Loss = 0.002508332720026374\n",
      "Epoch 90: Loss = 0.004963330924510956\n",
      "Final Model: y = 2.040653944015503 * x + 2.914477586746216\n"
     ]
    }
   ],
   "source": [
    "for epoch in range(100): # Training loop\n",
    "\n",
    "        # 1. Forward pass\n",
    "    y_pred = w * x + b\n",
    "\n",
    "        # 2. Compute Loss (Mean Squared Error)\n",
    "\n",
    "    loss = ((y_pred-y) ** 2).mean() # Compute loss\n",
    "\n",
    "    # Define Optimizer (Adam / SGD / RMSprop)\n",
    "\n",
    "    optimizer.zero_grad() # Reset Gradients\n",
    "\n",
    "    loss.backward()\n",
    "\n",
    "    optimizer.step()  # . Update Parameters\n",
    "\n",
    "\n",
    "\n",
    "    if epoch % 10 == 0:  # Print every 10 steps\n",
    "\n",
    "        print(f\"Epoch {epoch}: Loss = {loss.item()}\")\n",
    "\n",
    "\n",
    "print(f\"Final Model: y = {w.item()} * x + {b.item()}\") "
   ]
  },
  {
   "cell_type": "markdown",
   "metadata": {},
   "source": [
    "✅ Observations\n",
    "\n",
    "No need to manually update weights (w -= learning_rate * w.grad).\n",
    "\n",
    "Optimizer automates the gradient updates.\n",
    "\n",
    "Try different optimizers (Adam, RMSprop, SGD) and compare training speeds."
   ]
  }
 ],
 "metadata": {
  "kernelspec": {
   "display_name": "masterxdl",
   "language": "python",
   "name": "python3"
  },
  "language_info": {
   "codemirror_mode": {
    "name": "ipython",
    "version": 3
   },
   "file_extension": ".py",
   "mimetype": "text/x-python",
   "name": "python",
   "nbconvert_exporter": "python",
   "pygments_lexer": "ipython3",
   "version": "3.9.21"
  }
 },
 "nbformat": 4,
 "nbformat_minor": 2
}
