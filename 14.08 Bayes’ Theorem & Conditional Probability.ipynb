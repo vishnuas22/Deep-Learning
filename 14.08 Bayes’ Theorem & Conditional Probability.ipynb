{
 "cells": [
  {
   "cell_type": "markdown",
   "metadata": {},
   "source": [
    "Example 1: Spam Email Detection\n",
    "A = Email is spam\n",
    "B = Email contains the word \"lottery\"\n",
    "\n",
    "We want to compute:\n",
    "\n",
    "P(spam∣lottery)\n",
    "\n",
    "using known probabilities:\n",
    "\n",
    "P(spam) = 0.2 (20% of emails are spam)\n",
    "P(ham) = 0.8 (80% are not spam)\n",
    "\n",
    "P(lottery | spam) = 0.6 (60% of spam emails contain \"lottery\")\n",
    "P(lottery | ham) = 0.1 (10% of non-spam emails contain \"lottery\")\n",
    "\n",
    "First, let's compute P(lottery) using the law of total probability:"
   ]
  },
  {
   "cell_type": "markdown",
   "metadata": {},
   "source": [
    "P(lottery)=P(lottery∣spam)P(spam)+P(lottery∣ham)P(ham)\n"
   ]
  },
  {
   "cell_type": "code",
   "execution_count": 1,
   "metadata": {},
   "outputs": [],
   "source": [
    "# Given probabilities\n",
    "\n",
    "p_spam = 0.2\n",
    "\n",
    "p_ham = 0.8\n",
    "\n",
    "P_lottery_given_spam = 0.6\n",
    "\n",
    "P_lottery_given_ham = 0.1"
   ]
  },
  {
   "cell_type": "code",
   "execution_count": 2,
   "metadata": {},
   "outputs": [],
   "source": [
    "# Compute P(lottery)\n",
    "\n",
    "P_lottery = (P_lottery_given_spam * p_spam)+ (P_lottery_given_ham * p_ham)"
   ]
  },
  {
   "cell_type": "code",
   "execution_count": 3,
   "metadata": {},
   "outputs": [],
   "source": [
    "# Compute P(spam | lottery) using Bayes' theorem\n",
    "\n",
    "P_spam_given_lottery = (P_lottery_given_spam * p_spam) / P_lottery"
   ]
  },
  {
   "cell_type": "code",
   "execution_count": 4,
   "metadata": {},
   "outputs": [
    {
     "name": "stdout",
     "output_type": "stream",
     "text": [
      "P(spam | lottery) = 0.6000\n"
     ]
    }
   ],
   "source": [
    "print(f\"P(spam | lottery) = {P_spam_given_lottery:.4f}\")\n"
   ]
  }
 ],
 "metadata": {
  "kernelspec": {
   "display_name": "masterxdl",
   "language": "python",
   "name": "python3"
  },
  "language_info": {
   "codemirror_mode": {
    "name": "ipython",
    "version": 3
   },
   "file_extension": ".py",
   "mimetype": "text/x-python",
   "name": "python",
   "nbconvert_exporter": "python",
   "pygments_lexer": "ipython3",
   "version": "3.9.21"
  }
 },
 "nbformat": 4,
 "nbformat_minor": 2
}
