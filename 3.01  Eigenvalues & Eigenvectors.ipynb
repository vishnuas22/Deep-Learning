{
 "cells": [
  {
   "cell_type": "code",
   "execution_count": 7,
   "metadata": {},
   "outputs": [],
   "source": [
    "import numpy as np"
   ]
  },
  {
   "cell_type": "markdown",
   "metadata": {},
   "source": [
    "Eigenvalues tell us how a matrix stretches or squishes space.\n",
    "\n",
    "Eigenvectors show directions that remain unchanged when a matrix acts on them.\n"
   ]
  },
  {
   "cell_type": "code",
   "execution_count": 8,
   "metadata": {},
   "outputs": [],
   "source": [
    "A = np.array([[3, 5], [1, 2]])\n",
    "\n",
    "B = [[1, 2], [2, 4]] # Singular Case"
   ]
  },
  {
   "cell_type": "code",
   "execution_count": 9,
   "metadata": {},
   "outputs": [
    {
     "name": "stdout",
     "output_type": "stream",
     "text": [
      "Eigenvalues & Eigenvectors of A \n",
      ":EigResult(eigenvalues=array([4.79128785, 0.20871215]), eigenvectors=array([[ 0.94140906, -0.87315384],\n",
      "       [ 0.33726692,  0.48744474]]))\n",
      "Eigenvalues & Eigenvectors of B \n",
      ":EigResult(eigenvalues=array([0., 5.]), eigenvectors=array([[-0.89442719, -0.4472136 ],\n",
      "       [ 0.4472136 , -0.89442719]]))\n"
     ]
    }
   ],
   "source": [
    "print(f'Eigenvalues & Eigenvectors of A \\n:{np.linalg.eig(A)}')\n",
    "\n",
    "print(f'Eigenvalues & Eigenvectors of B \\n:{np.linalg.eig(B)}')"
   ]
  }
 ],
 "metadata": {
  "kernelspec": {
   "display_name": "masterxml",
   "language": "python",
   "name": "python3"
  },
  "language_info": {
   "codemirror_mode": {
    "name": "ipython",
    "version": 3
   },
   "file_extension": ".py",
   "mimetype": "text/x-python",
   "name": "python",
   "nbconvert_exporter": "python",
   "pygments_lexer": "ipython3",
   "version": "3.10.16"
  }
 },
 "nbformat": 4,
 "nbformat_minor": 2
}
