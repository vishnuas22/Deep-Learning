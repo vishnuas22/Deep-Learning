{
 "cells": [
  {
   "cell_type": "markdown",
   "metadata": {},
   "source": [
    "🧠 What is a Neuron?\n",
    "\n",
    "\n",
    "A biological neuron in your brain receives input signals, processes them, and produces an output. Artificial neurons (or perceptrons) mimic this behavior in deep learning models.\n",
    "\n",
    "👉 A single neuron does this:\n",
    "\n",
    "1️⃣ Takes inputs (features)\n",
    "2️⃣ Applies weights to each input\n",
    "3️⃣ Sums them up and adds a bias\n",
    "4️⃣ Passes the result through an activation function\n",
    "5️⃣ Produces an output\n",
    "Mathematically, a neuron does:"
   ]
  },
  {
   "cell_type": "markdown",
   "metadata": {},
   "source": [
    "y=f(w1x1+w2x2+w3x3+wnxn+b)\n",
    "\n",
    "Where:\n",
    "xi= inputs (features)\n",
    "​wi= weights\n",
    "b = bias\n",
    "f = activation function\n",
    "y = output"
   ]
  }
 ],
 "metadata": {
  "language_info": {
   "name": "python"
  }
 },
 "nbformat": 4,
 "nbformat_minor": 2
}
